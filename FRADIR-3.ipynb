{
 "cells": [
  {
   "cell_type": "code",
   "execution_count": 1,
   "metadata": {},
   "outputs": [],
   "source": [
    "from backend import *\n",
    "from tqdm.notebook import tqdm\n",
    "from shapely.geometry import Point, LineString\n",
    "from shapely.ops import nearest_points\n",
    "from itertools import combinations\n",
    "from random import sample\n",
    "import matplotlib.pyplot as plt"
   ]
  },
  {
   "cell_type": "markdown",
   "metadata": {},
   "source": [
    "# Preprocessing Earthquake probabilities"
   ]
  },
  {
   "cell_type": "code",
   "execution_count": 49,
   "metadata": {},
   "outputs": [],
   "source": [
    "# Creating the DataFrame of the earthquakes' probabilities\n",
    "#df = pd.read_table('../incremental_annual_rates/incremental_annual_rates_USA.txt', sep='\\s+', header=None)\n",
    "df = pd.read_table('/home/mogyi/Projects/FRADIR/PSRLG_JSAC2020_toMogyi/seismic_data/incremental_annual_rates/incremental_annual_rates_italy.txt', sep='\\s+', header=None)\n",
    "\n",
    "df.columns = ['Long', 'Lat'] + [str(np.around(x,1)) for x in np.arange(4.6, 8.2, 0.1)]\n",
    "#df.drop(df.columns[42:], axis=1, inplace=True)\n",
    "df.fillna(value=0.0, inplace=True)\n",
    "df = df[df['4.6'] != 0.0]\n",
    "\n",
    "#df.to_csv('incremental_annual_rates/incremental_annual_rates_italy_without_zeros.csv', index=False)"
   ]
  },
  {
   "cell_type": "code",
   "execution_count": 50,
   "metadata": {},
   "outputs": [],
   "source": [
    "pd.options.display.float_format = '{:,.10f}'.format"
   ]
  },
  {
   "cell_type": "code",
   "execution_count": 51,
   "metadata": {},
   "outputs": [
    {
     "data": {
      "text/html": [
       "<div>\n",
       "<style scoped>\n",
       "    .dataframe tbody tr th:only-of-type {\n",
       "        vertical-align: middle;\n",
       "    }\n",
       "\n",
       "    .dataframe tbody tr th {\n",
       "        vertical-align: top;\n",
       "    }\n",
       "\n",
       "    .dataframe thead th {\n",
       "        text-align: right;\n",
       "    }\n",
       "</style>\n",
       "<table border=\"1\" class=\"dataframe\">\n",
       "  <thead>\n",
       "    <tr style=\"text-align: right;\">\n",
       "      <th></th>\n",
       "      <th>Long</th>\n",
       "      <th>Lat</th>\n",
       "      <th>4.6</th>\n",
       "      <th>4.7</th>\n",
       "      <th>4.8</th>\n",
       "      <th>4.9</th>\n",
       "      <th>5.0</th>\n",
       "      <th>5.1</th>\n",
       "      <th>5.2</th>\n",
       "      <th>5.3</th>\n",
       "      <th>...</th>\n",
       "      <th>7.2</th>\n",
       "      <th>7.3</th>\n",
       "      <th>7.4</th>\n",
       "      <th>7.5</th>\n",
       "      <th>7.6</th>\n",
       "      <th>7.7</th>\n",
       "      <th>7.8</th>\n",
       "      <th>7.9</th>\n",
       "      <th>8.0</th>\n",
       "      <th>8.1</th>\n",
       "    </tr>\n",
       "  </thead>\n",
       "  <tbody>\n",
       "    <tr>\n",
       "      <th>1400</th>\n",
       "      <td>10.8000000000</td>\n",
       "      <td>48.3000000000</td>\n",
       "      <td>0.0000000006</td>\n",
       "      <td>0.0000000004</td>\n",
       "      <td>0.0000000003</td>\n",
       "      <td>0.0000000003</td>\n",
       "      <td>0.0000000002</td>\n",
       "      <td>0.0000000002</td>\n",
       "      <td>0.0000000001</td>\n",
       "      <td>0.0000000001</td>\n",
       "      <td>...</td>\n",
       "      <td>0.0000000000</td>\n",
       "      <td>0.0000000000</td>\n",
       "      <td>0.0000000000</td>\n",
       "      <td>0.0000000000</td>\n",
       "      <td>0.0000000000</td>\n",
       "      <td>0.0000000000</td>\n",
       "      <td>0.0000000000</td>\n",
       "      <td>0.0000000000</td>\n",
       "      <td>0.0000000000</td>\n",
       "      <td>0.0000000000</td>\n",
       "    </tr>\n",
       "    <tr>\n",
       "      <th>1401</th>\n",
       "      <td>10.8500000000</td>\n",
       "      <td>48.3000000000</td>\n",
       "      <td>0.0000000006</td>\n",
       "      <td>0.0000000005</td>\n",
       "      <td>0.0000000004</td>\n",
       "      <td>0.0000000003</td>\n",
       "      <td>0.0000000002</td>\n",
       "      <td>0.0000000002</td>\n",
       "      <td>0.0000000002</td>\n",
       "      <td>0.0000000001</td>\n",
       "      <td>...</td>\n",
       "      <td>0.0000000000</td>\n",
       "      <td>0.0000000000</td>\n",
       "      <td>0.0000000000</td>\n",
       "      <td>0.0000000000</td>\n",
       "      <td>0.0000000000</td>\n",
       "      <td>0.0000000000</td>\n",
       "      <td>0.0000000000</td>\n",
       "      <td>0.0000000000</td>\n",
       "      <td>0.0000000000</td>\n",
       "      <td>0.0000000000</td>\n",
       "    </tr>\n",
       "    <tr>\n",
       "      <th>1402</th>\n",
       "      <td>10.9000000000</td>\n",
       "      <td>48.3000000000</td>\n",
       "      <td>0.0000000006</td>\n",
       "      <td>0.0000000005</td>\n",
       "      <td>0.0000000004</td>\n",
       "      <td>0.0000000003</td>\n",
       "      <td>0.0000000002</td>\n",
       "      <td>0.0000000002</td>\n",
       "      <td>0.0000000002</td>\n",
       "      <td>0.0000000001</td>\n",
       "      <td>...</td>\n",
       "      <td>0.0000000000</td>\n",
       "      <td>0.0000000000</td>\n",
       "      <td>0.0000000000</td>\n",
       "      <td>0.0000000000</td>\n",
       "      <td>0.0000000000</td>\n",
       "      <td>0.0000000000</td>\n",
       "      <td>0.0000000000</td>\n",
       "      <td>0.0000000000</td>\n",
       "      <td>0.0000000000</td>\n",
       "      <td>0.0000000000</td>\n",
       "    </tr>\n",
       "    <tr>\n",
       "      <th>1403</th>\n",
       "      <td>10.9500000000</td>\n",
       "      <td>48.3000000000</td>\n",
       "      <td>0.0000000006</td>\n",
       "      <td>0.0000000005</td>\n",
       "      <td>0.0000000004</td>\n",
       "      <td>0.0000000003</td>\n",
       "      <td>0.0000000003</td>\n",
       "      <td>0.0000000002</td>\n",
       "      <td>0.0000000002</td>\n",
       "      <td>0.0000000001</td>\n",
       "      <td>...</td>\n",
       "      <td>0.0000000000</td>\n",
       "      <td>0.0000000000</td>\n",
       "      <td>0.0000000000</td>\n",
       "      <td>0.0000000000</td>\n",
       "      <td>0.0000000000</td>\n",
       "      <td>0.0000000000</td>\n",
       "      <td>0.0000000000</td>\n",
       "      <td>0.0000000000</td>\n",
       "      <td>0.0000000000</td>\n",
       "      <td>0.0000000000</td>\n",
       "    </tr>\n",
       "    <tr>\n",
       "      <th>1404</th>\n",
       "      <td>11.0000000000</td>\n",
       "      <td>48.3000000000</td>\n",
       "      <td>0.0000000006</td>\n",
       "      <td>0.0000000005</td>\n",
       "      <td>0.0000000004</td>\n",
       "      <td>0.0000000003</td>\n",
       "      <td>0.0000000002</td>\n",
       "      <td>0.0000000002</td>\n",
       "      <td>0.0000000002</td>\n",
       "      <td>0.0000000001</td>\n",
       "      <td>...</td>\n",
       "      <td>0.0000000000</td>\n",
       "      <td>0.0000000000</td>\n",
       "      <td>0.0000000000</td>\n",
       "      <td>0.0000000000</td>\n",
       "      <td>0.0000000000</td>\n",
       "      <td>0.0000000000</td>\n",
       "      <td>0.0000000000</td>\n",
       "      <td>0.0000000000</td>\n",
       "      <td>0.0000000000</td>\n",
       "      <td>0.0000000000</td>\n",
       "    </tr>\n",
       "  </tbody>\n",
       "</table>\n",
       "<p>5 rows × 38 columns</p>\n",
       "</div>"
      ],
      "text/plain": [
       "              Long           Lat          4.6          4.7          4.8  \\\n",
       "1400 10.8000000000 48.3000000000 0.0000000006 0.0000000004 0.0000000003   \n",
       "1401 10.8500000000 48.3000000000 0.0000000006 0.0000000005 0.0000000004   \n",
       "1402 10.9000000000 48.3000000000 0.0000000006 0.0000000005 0.0000000004   \n",
       "1403 10.9500000000 48.3000000000 0.0000000006 0.0000000005 0.0000000004   \n",
       "1404 11.0000000000 48.3000000000 0.0000000006 0.0000000005 0.0000000004   \n",
       "\n",
       "              4.9          5.0          5.1          5.2          5.3  ...  \\\n",
       "1400 0.0000000003 0.0000000002 0.0000000002 0.0000000001 0.0000000001  ...   \n",
       "1401 0.0000000003 0.0000000002 0.0000000002 0.0000000002 0.0000000001  ...   \n",
       "1402 0.0000000003 0.0000000002 0.0000000002 0.0000000002 0.0000000001  ...   \n",
       "1403 0.0000000003 0.0000000003 0.0000000002 0.0000000002 0.0000000001  ...   \n",
       "1404 0.0000000003 0.0000000002 0.0000000002 0.0000000002 0.0000000001  ...   \n",
       "\n",
       "              7.2          7.3          7.4          7.5          7.6  \\\n",
       "1400 0.0000000000 0.0000000000 0.0000000000 0.0000000000 0.0000000000   \n",
       "1401 0.0000000000 0.0000000000 0.0000000000 0.0000000000 0.0000000000   \n",
       "1402 0.0000000000 0.0000000000 0.0000000000 0.0000000000 0.0000000000   \n",
       "1403 0.0000000000 0.0000000000 0.0000000000 0.0000000000 0.0000000000   \n",
       "1404 0.0000000000 0.0000000000 0.0000000000 0.0000000000 0.0000000000   \n",
       "\n",
       "              7.7          7.8          7.9          8.0          8.1  \n",
       "1400 0.0000000000 0.0000000000 0.0000000000 0.0000000000 0.0000000000  \n",
       "1401 0.0000000000 0.0000000000 0.0000000000 0.0000000000 0.0000000000  \n",
       "1402 0.0000000000 0.0000000000 0.0000000000 0.0000000000 0.0000000000  \n",
       "1403 0.0000000000 0.0000000000 0.0000000000 0.0000000000 0.0000000000  \n",
       "1404 0.0000000000 0.0000000000 0.0000000000 0.0000000000 0.0000000000  \n",
       "\n",
       "[5 rows x 38 columns]"
      ]
     },
     "execution_count": 51,
     "metadata": {},
     "output_type": "execute_result"
    }
   ],
   "source": [
    "df.head()"
   ]
  },
  {
   "cell_type": "code",
   "execution_count": null,
   "metadata": {},
   "outputs": [],
   "source": [
    "df = pd.read_csv('../incremental_annual_rates/incremental_annual_rates_USA.csv')\n",
    "df.describe()"
   ]
  },
  {
   "cell_type": "code",
   "execution_count": 6,
   "metadata": {},
   "outputs": [],
   "source": [
    "df = df[df['4.6'] != 0.0]"
   ]
  },
  {
   "cell_type": "code",
   "execution_count": 12,
   "metadata": {},
   "outputs": [],
   "source": [
    "# Delete If no earthquake exist with such magnitude\n",
    "df.drop(labels=['8.5', '8.6'], axis=1, inplace=True)"
   ]
  },
  {
   "cell_type": "code",
   "execution_count": 52,
   "metadata": {},
   "outputs": [
    {
     "name": "stdout",
     "output_type": "stream",
     "text": [
      "5.5384342731352865\n"
     ]
    }
   ],
   "source": [
    "# Convert the rates to probabilities\n",
    "prob_matrix = df.drop(['Lat', 'Long'], axis=1).to_numpy()\n",
    "scale = prob_matrix.sum()\n",
    "print(scale)\n",
    "df.iloc[:,2:] = df.iloc[:,2:] / scale\n",
    "\n",
    "#df.to_csv('earthquake_probabilities/italy_short.csv', index=False)"
   ]
  },
  {
   "cell_type": "code",
   "execution_count": 53,
   "metadata": {},
   "outputs": [],
   "source": [
    "df.to_csv('earthquake_probabilities/italy.csv', index=False)"
   ]
  },
  {
   "cell_type": "code",
   "execution_count": 54,
   "metadata": {},
   "outputs": [
    {
     "data": {
      "text/plain": [
       "48442"
      ]
     },
     "execution_count": 54,
     "metadata": {},
     "output_type": "execute_result"
    }
   ],
   "source": [
    "len(df)"
   ]
  },
  {
   "cell_type": "code",
   "execution_count": 97,
   "metadata": {},
   "outputs": [],
   "source": [
    "df = pd.read_csv('earthquake_probabilities/italy.csv')"
   ]
  },
  {
   "cell_type": "code",
   "execution_count": 67,
   "metadata": {},
   "outputs": [
    {
     "name": "stdout",
     "output_type": "stream",
     "text": [
      "Original number of eartquakes: 48442\n",
      "Downsampled number of eartquakes: 12307\n",
      "Ratio: 3.94\n"
     ]
    },
    {
     "data": {
      "text/html": [
       "<div>\n",
       "<style scoped>\n",
       "    .dataframe tbody tr th:only-of-type {\n",
       "        vertical-align: middle;\n",
       "    }\n",
       "\n",
       "    .dataframe tbody tr th {\n",
       "        vertical-align: top;\n",
       "    }\n",
       "\n",
       "    .dataframe thead th {\n",
       "        text-align: right;\n",
       "    }\n",
       "</style>\n",
       "<table border=\"1\" class=\"dataframe\">\n",
       "  <thead>\n",
       "    <tr style=\"text-align: right;\">\n",
       "      <th></th>\n",
       "      <th>Long</th>\n",
       "      <th>Lat</th>\n",
       "      <th>4.6</th>\n",
       "      <th>4.7</th>\n",
       "      <th>4.8</th>\n",
       "      <th>4.9</th>\n",
       "      <th>5.0</th>\n",
       "      <th>5.1</th>\n",
       "      <th>5.2</th>\n",
       "      <th>5.3</th>\n",
       "      <th>...</th>\n",
       "      <th>7.2</th>\n",
       "      <th>7.3</th>\n",
       "      <th>7.4</th>\n",
       "      <th>7.5</th>\n",
       "      <th>7.6</th>\n",
       "      <th>7.7</th>\n",
       "      <th>7.8</th>\n",
       "      <th>7.9</th>\n",
       "      <th>8.0</th>\n",
       "      <th>8.1</th>\n",
       "    </tr>\n",
       "  </thead>\n",
       "  <tbody>\n",
       "    <tr>\n",
       "      <th>0</th>\n",
       "      <td>5.0000000000</td>\n",
       "      <td>45.1000000000</td>\n",
       "      <td>0.0000000001</td>\n",
       "      <td>0.0000000001</td>\n",
       "      <td>0.0000000001</td>\n",
       "      <td>0.0000000000</td>\n",
       "      <td>0.0000000000</td>\n",
       "      <td>0.0000000000</td>\n",
       "      <td>0.0000000000</td>\n",
       "      <td>0.0000000000</td>\n",
       "      <td>...</td>\n",
       "      <td>0.0000000000</td>\n",
       "      <td>0.0000000000</td>\n",
       "      <td>0.0000000000</td>\n",
       "      <td>0.0000000000</td>\n",
       "      <td>0.0000000000</td>\n",
       "      <td>0.0000000000</td>\n",
       "      <td>0.0000000000</td>\n",
       "      <td>0.0000000000</td>\n",
       "      <td>0.0000000000</td>\n",
       "      <td>0.0000000000</td>\n",
       "    </tr>\n",
       "    <tr>\n",
       "      <th>1</th>\n",
       "      <td>5.0000000000</td>\n",
       "      <td>45.2000000000</td>\n",
       "      <td>0.0000000004</td>\n",
       "      <td>0.0000000003</td>\n",
       "      <td>0.0000000002</td>\n",
       "      <td>0.0000000002</td>\n",
       "      <td>0.0000000002</td>\n",
       "      <td>0.0000000001</td>\n",
       "      <td>0.0000000001</td>\n",
       "      <td>0.0000000001</td>\n",
       "      <td>...</td>\n",
       "      <td>0.0000000000</td>\n",
       "      <td>0.0000000000</td>\n",
       "      <td>0.0000000000</td>\n",
       "      <td>0.0000000000</td>\n",
       "      <td>0.0000000000</td>\n",
       "      <td>0.0000000000</td>\n",
       "      <td>0.0000000000</td>\n",
       "      <td>0.0000000000</td>\n",
       "      <td>0.0000000000</td>\n",
       "      <td>0.0000000000</td>\n",
       "    </tr>\n",
       "    <tr>\n",
       "      <th>2</th>\n",
       "      <td>5.0000000000</td>\n",
       "      <td>45.3000000000</td>\n",
       "      <td>0.0000000008</td>\n",
       "      <td>0.0000000006</td>\n",
       "      <td>0.0000000005</td>\n",
       "      <td>0.0000000004</td>\n",
       "      <td>0.0000000003</td>\n",
       "      <td>0.0000000002</td>\n",
       "      <td>0.0000000002</td>\n",
       "      <td>0.0000000001</td>\n",
       "      <td>...</td>\n",
       "      <td>0.0000000000</td>\n",
       "      <td>0.0000000000</td>\n",
       "      <td>0.0000000000</td>\n",
       "      <td>0.0000000000</td>\n",
       "      <td>0.0000000000</td>\n",
       "      <td>0.0000000000</td>\n",
       "      <td>0.0000000000</td>\n",
       "      <td>0.0000000000</td>\n",
       "      <td>0.0000000000</td>\n",
       "      <td>0.0000000000</td>\n",
       "    </tr>\n",
       "    <tr>\n",
       "      <th>3</th>\n",
       "      <td>5.0000000000</td>\n",
       "      <td>45.4000000000</td>\n",
       "      <td>0.0000000009</td>\n",
       "      <td>0.0000000007</td>\n",
       "      <td>0.0000000006</td>\n",
       "      <td>0.0000000005</td>\n",
       "      <td>0.0000000004</td>\n",
       "      <td>0.0000000003</td>\n",
       "      <td>0.0000000002</td>\n",
       "      <td>0.0000000002</td>\n",
       "      <td>...</td>\n",
       "      <td>0.0000000000</td>\n",
       "      <td>0.0000000000</td>\n",
       "      <td>0.0000000000</td>\n",
       "      <td>0.0000000000</td>\n",
       "      <td>0.0000000000</td>\n",
       "      <td>0.0000000000</td>\n",
       "      <td>0.0000000000</td>\n",
       "      <td>0.0000000000</td>\n",
       "      <td>0.0000000000</td>\n",
       "      <td>0.0000000000</td>\n",
       "    </tr>\n",
       "    <tr>\n",
       "      <th>4</th>\n",
       "      <td>5.0000000000</td>\n",
       "      <td>45.5000000000</td>\n",
       "      <td>0.0000000009</td>\n",
       "      <td>0.0000000007</td>\n",
       "      <td>0.0000000006</td>\n",
       "      <td>0.0000000004</td>\n",
       "      <td>0.0000000004</td>\n",
       "      <td>0.0000000003</td>\n",
       "      <td>0.0000000002</td>\n",
       "      <td>0.0000000002</td>\n",
       "      <td>...</td>\n",
       "      <td>0.0000000000</td>\n",
       "      <td>0.0000000000</td>\n",
       "      <td>0.0000000000</td>\n",
       "      <td>0.0000000000</td>\n",
       "      <td>0.0000000000</td>\n",
       "      <td>0.0000000000</td>\n",
       "      <td>0.0000000000</td>\n",
       "      <td>0.0000000000</td>\n",
       "      <td>0.0000000000</td>\n",
       "      <td>0.0000000000</td>\n",
       "    </tr>\n",
       "  </tbody>\n",
       "</table>\n",
       "<p>5 rows × 38 columns</p>\n",
       "</div>"
      ],
      "text/plain": [
       "          Long           Lat          4.6          4.7          4.8  \\\n",
       "0 5.0000000000 45.1000000000 0.0000000001 0.0000000001 0.0000000001   \n",
       "1 5.0000000000 45.2000000000 0.0000000004 0.0000000003 0.0000000002   \n",
       "2 5.0000000000 45.3000000000 0.0000000008 0.0000000006 0.0000000005   \n",
       "3 5.0000000000 45.4000000000 0.0000000009 0.0000000007 0.0000000006   \n",
       "4 5.0000000000 45.5000000000 0.0000000009 0.0000000007 0.0000000006   \n",
       "\n",
       "           4.9          5.0          5.1          5.2          5.3  ...  \\\n",
       "0 0.0000000000 0.0000000000 0.0000000000 0.0000000000 0.0000000000  ...   \n",
       "1 0.0000000002 0.0000000002 0.0000000001 0.0000000001 0.0000000001  ...   \n",
       "2 0.0000000004 0.0000000003 0.0000000002 0.0000000002 0.0000000001  ...   \n",
       "3 0.0000000005 0.0000000004 0.0000000003 0.0000000002 0.0000000002  ...   \n",
       "4 0.0000000004 0.0000000004 0.0000000003 0.0000000002 0.0000000002  ...   \n",
       "\n",
       "           7.2          7.3          7.4          7.5          7.6  \\\n",
       "0 0.0000000000 0.0000000000 0.0000000000 0.0000000000 0.0000000000   \n",
       "1 0.0000000000 0.0000000000 0.0000000000 0.0000000000 0.0000000000   \n",
       "2 0.0000000000 0.0000000000 0.0000000000 0.0000000000 0.0000000000   \n",
       "3 0.0000000000 0.0000000000 0.0000000000 0.0000000000 0.0000000000   \n",
       "4 0.0000000000 0.0000000000 0.0000000000 0.0000000000 0.0000000000   \n",
       "\n",
       "           7.7          7.8          7.9          8.0          8.1  \n",
       "0 0.0000000000 0.0000000000 0.0000000000 0.0000000000 0.0000000000  \n",
       "1 0.0000000000 0.0000000000 0.0000000000 0.0000000000 0.0000000000  \n",
       "2 0.0000000000 0.0000000000 0.0000000000 0.0000000000 0.0000000000  \n",
       "3 0.0000000000 0.0000000000 0.0000000000 0.0000000000 0.0000000000  \n",
       "4 0.0000000000 0.0000000000 0.0000000000 0.0000000000 0.0000000000  \n",
       "\n",
       "[5 rows x 38 columns]"
      ]
     },
     "execution_count": 67,
     "metadata": {},
     "output_type": "execute_result"
    }
   ],
   "source": [
    "# Downsample the eartquakes\n",
    "res = 10\n",
    "ds = df.copy()\n",
    "ds['Lat'] = (ds['Lat']*res).astype(int)\n",
    "ds['Long'] = (ds['Long']*res).astype(int)\n",
    "ds = ds.groupby(['Long','Lat'], as_index=False).sum()\n",
    "ds['Lat'] = ds['Lat']/res\n",
    "ds['Long'] = ds['Long']/res\n",
    "\n",
    "print(f'Original number of eartquakes: {len(df)}')\n",
    "print(f'Downsampled number of eartquakes: {len(ds)}')\n",
    "print(f'Ratio: {len(df)/len(ds):.2f}')\n",
    "ds.head()\n"
   ]
  },
  {
   "cell_type": "code",
   "execution_count": 99,
   "metadata": {},
   "outputs": [
    {
     "data": {
      "text/plain": [
       "0.20025143023418376"
      ]
     },
     "execution_count": 99,
     "metadata": {},
     "output_type": "execute_result"
    }
   ],
   "source": [
    "ds['4.6'].sum()"
   ]
  },
  {
   "cell_type": "code",
   "execution_count": 100,
   "metadata": {},
   "outputs": [
    {
     "data": {
      "text/plain": [
       "0.20025143023418376"
      ]
     },
     "execution_count": 100,
     "metadata": {},
     "output_type": "execute_result"
    }
   ],
   "source": [
    "df['4.6'].sum()"
   ]
  },
  {
   "cell_type": "code",
   "execution_count": 43,
   "metadata": {},
   "outputs": [],
   "source": [
    "ds.to_csv('earthquake_probabilities/italy_ds16.csv', index=False)"
   ]
  },
  {
   "cell_type": "markdown",
   "metadata": {},
   "source": [
    "# Preprocessing the network"
   ]
  },
  {
   "cell_type": "code",
   "execution_count": 2,
   "metadata": {},
   "outputs": [],
   "source": [
    "#g1 = nx.read_gml('networks/usa_995.gml', label='id')\n",
    "g = read_lgf_to_networkx_extended('../spine/solution_janos-us_sndlib_long-lat_cost3_minAvailWPreq0-99500.lgf')"
   ]
  },
  {
   "cell_type": "code",
   "execution_count": 7,
   "metadata": {},
   "outputs": [
    {
     "data": {
      "text/plain": [
       "{'points': {'point': [{'Longitude': -77.04, 'Latitude': 38.85},\n",
       "   {'Longitude': -81.68, 'Latitude': 41.52}]},\n",
       " 'onspine': 1,\n",
       " 'unav1': 0.0030015221,\n",
       " 'unav': 0.001}"
      ]
     },
     "execution_count": 7,
     "metadata": {},
     "output_type": "execute_result"
    }
   ],
   "source": [
    "g.edges[(0, 8, 0)]"
   ]
  },
  {
   "cell_type": "code",
   "execution_count": 8,
   "metadata": {},
   "outputs": [],
   "source": [
    "for e in g.edges:\n",
    "    g.edges[e]['unav'] = g.edges[e]['unav1']"
   ]
  },
  {
   "cell_type": "code",
   "execution_count": 4,
   "metadata": {},
   "outputs": [],
   "source": [
    "for e in g2.edges:\n",
    "    pointA = g2.edges[e]['points']['point'][0]\n",
    "    pointB = g2.edges[e]['points']['point'][-1]\n",
    "    g2.edges[e]['length'] = distance((pointA['Latitude'], pointA['Longitude']), (pointB['Latitude'], pointB['Longitude'])).km"
   ]
  },
  {
   "cell_type": "code",
   "execution_count": 9,
   "metadata": {},
   "outputs": [
    {
     "data": {
      "text/plain": [
       "0"
      ]
     },
     "execution_count": 9,
     "metadata": {},
     "output_type": "execute_result"
    }
   ],
   "source": [
    "#nx.write_gml(g2, 'networks/usa_995.gml')\n",
    "write_networkx_to_lgf(g, 'networks/usa_995_initial.lgf')"
   ]
  },
  {
   "cell_type": "code",
   "execution_count": null,
   "metadata": {},
   "outputs": [],
   "source": [
    "EARTH_RADIUS = 6371\n",
    "\n",
    "g = nx.read_gml('networks/interoute_v2_feri.gml', label='id')\n",
    "edge = (2, 5, 0)\n",
    "\n",
    "for n in g.nodes:\n",
    "    u = node_to_SVector(g.nodes[n])\n",
    "    v,w = edge_to_SVectors(g.edges[edge])\n",
    "    gomb = int(u.distance_to_section(v,w) * EARTH_RADIUS)\n",
    "    \n",
    "    edge_points = [tuple(p.values()) for p in g.edges[edge]['points']['point']]\n",
    "    l = LineString(edge_points)\n",
    "    p = Point(g.nodes[n]['Longitude'], g.nodes[n]['Latitude'])\n",
    "    nearest_point = nearest_points(l, p)[0].coords[0]\n",
    "    R = distance(lonlat(*(g.nodes[n]['Longitude'], g.nodes[n]['Latitude'])), lonlat(*nearest_point)).km\n",
    "    print(f'{(gomb-R)/(R+1):.2f}')"
   ]
  },
  {
   "cell_type": "markdown",
   "metadata": {},
   "source": [
    "# Earthquake intensity calculation"
   ]
  },
  {
   "cell_type": "code",
   "execution_count": 15,
   "metadata": {},
   "outputs": [],
   "source": [
    "g = nx.read_gml('networks/usa_995.gml', label='id')\n",
    "\n",
    "df = pd.read_csv('earthquake_probabilities/usa_ds23.csv')\n",
    "df.insert(loc=0, column='Epicenter', value=list(zip(df.Long, df.Lat)))\n",
    "df.set_index('Epicenter', inplace=True)\n",
    "df.drop(['Lat', 'Long'], axis=1, inplace=True)\n",
    "\n",
    "epicenters = df.index\n",
    "magnitudes = df.columns"
   ]
  },
  {
   "cell_type": "code",
   "execution_count": 16,
   "metadata": {},
   "outputs": [
    {
     "data": {
      "text/plain": [
       "Index([(-124.5, 42.0), (-124.5, 42.5)], dtype='object', name='Epicenter')"
      ]
     },
     "execution_count": 16,
     "metadata": {},
     "output_type": "execute_result"
    }
   ],
   "source": [
    "epicenters[:2]"
   ]
  },
  {
   "cell_type": "code",
   "execution_count": 17,
   "metadata": {
    "tags": []
   },
   "outputs": [
    {
     "data": {
      "application/vnd.jupyter.widget-view+json": {
       "model_id": "6dad81f5d3d545bd9937ce7c494238bc",
       "version_major": 2,
       "version_minor": 0
      },
      "text/plain": [
       "HBox(children=(FloatProgress(value=0.0, max=42.0), HTML(value='')))"
      ]
     },
     "metadata": {},
     "output_type": "display_data"
    },
    {
     "name": "stdout",
     "output_type": "stream",
     "text": [
      "\n"
     ]
    }
   ],
   "source": [
    "EARTH_RADIUS = 6371\n",
    "I1= np.ones((g.number_of_edges(), len(epicenters), len(magnitudes)))\n",
    "I2 = np.ones((g.number_of_edges(), len(epicenters), len(magnitudes)))\n",
    "\n",
    "D1 = np.ones((g.number_of_edges(), len(epicenters)))\n",
    "D2 = np.ones((g.number_of_edges(), len(epicenters)))\n",
    "\n",
    "for i, e in tqdm(enumerate(g.edges), total=g.number_of_edges()):\n",
    "    edge_points = [(p['Longitude'], p['Latitude']) for p in g.edges[e]['points']['point']]\n",
    "    l = LineString(edge_points)\n",
    "    v,w = edge_to_SVectors(g.edges[e])\n",
    "    for j, epicenter in enumerate(epicenters):\n",
    "        p = Point(epicenter[0],epicenter[1])\n",
    "        nearest_point = nearest_points(l, p)[0].coords[0]\n",
    "        # print([o.wkt for o in nearest_points(l, p)])\n",
    "        \n",
    "        R1 = distance(lonlat(*epicenter), lonlat(*nearest_point)).km\n",
    "        \n",
    "        u = SVector(epicenter[1],epicenter[0])\n",
    "        R2 = u.distance_to_section(v,w) * EARTH_RADIUS\n",
    "        #print(i, e,R1, R2)\n",
    "        \n",
    "        D1[i,j] = R1\n",
    "        D2[i,j] = R2\n",
    "\n",
    "\n",
    "for k, M in enumerate(magnitudes):\n",
    "    i1 = intensity_europe(np.float(M), D1)\n",
    "    i1[i1<1.] = 1.\n",
    "    i2 = intensity_europe(np.float(M), D2)\n",
    "    i2[i2<1.] = 1.\n",
    "    I1[:,:,k] = i1\n",
    "    I2[:,:,k] = i2"
   ]
  },
  {
   "cell_type": "code",
   "execution_count": 32,
   "metadata": {},
   "outputs": [],
   "source": [
    "I3 = np.ones((g.number_of_edges(), len(df.index), len(df.columns)))\n",
    "for k, M in enumerate(df.columns):\n",
    "    i = intensity_europe(np.float(M), D1-1.5)\n",
    "    i[i<1.] = 1.\n",
    "    I3[:,:,k] = i"
   ]
  },
  {
   "cell_type": "code",
   "execution_count": 18,
   "metadata": {},
   "outputs": [
    {
     "data": {
      "text/plain": [
       "(array([8.5000e+01, 1.6540e+03, 9.9894e+04, 3.5055e+04, 4.1900e+03,\n",
       "        2.0240e+03, 1.2760e+03, 9.0600e+02, 6.6300e+02, 4.1300e+02,\n",
       "        3.0000e+02, 2.0700e+02, 1.3100e+02, 1.0200e+02, 6.2000e+01,\n",
       "        5.3000e+01, 3.6000e+01, 3.1000e+01, 2.8000e+01, 1.6000e+01]),\n",
       " array([-25.09311274, -15.19055418,  -5.28799562,   4.61456294,\n",
       "         14.5171215 ,  24.41968006,  34.32223862,  44.22479718,\n",
       "         54.12735574,  64.02991431,  73.93247287,  83.83503143,\n",
       "         93.73758999, 103.64014855, 113.54270711, 123.44526567,\n",
       "        133.34782423, 143.25038279, 153.15294136, 163.05549992,\n",
       "        172.95805848]),\n",
       " <BarContainer object of 20 artists>)"
      ]
     },
     "execution_count": 18,
     "metadata": {},
     "output_type": "execute_result"
    },
    {
     "data": {
      "image/png": "[encoded data removed]",
      "text/plain": [
       "<Figure size 432x288 with 1 Axes>"
      ]
     },
     "metadata": {
      "needs_background": "light"
     },
     "output_type": "display_data"
    }
   ],
   "source": [
    "import matplotlib.pyplot as plt\n",
    "\n",
    "diff = ((D1 - D2)).flatten()\n",
    "\n",
    "plt.hist(diff, 20)"
   ]
  },
  {
   "cell_type": "code",
   "execution_count": 32,
   "metadata": {},
   "outputs": [],
   "source": [
    "np.save('intensities/usa_ds23.npy', I1)\n",
    "#np.save('intensities/italy_ds16_csak.npy', I2)"
   ]
  },
  {
   "cell_type": "markdown",
   "metadata": {},
   "source": [
    "# SRLG collection"
   ]
  },
  {
   "cell_type": "code",
   "execution_count": 11,
   "metadata": {},
   "outputs": [
    {
     "data": {
      "application/vnd.jupyter.widget-view+json": {
       "model_id": "1b1f530f9fbb4d72a3d88791fe93c296",
       "version_major": 2,
       "version_minor": 0
      },
      "text/plain": [
       "HBox(children=(FloatProgress(value=0.0, max=11930.0), HTML(value='')))"
      ]
     },
     "metadata": {},
     "output_type": "display_data"
    },
    {
     "name": "stdout",
     "output_type": "stream",
     "text": [
      "\n"
     ]
    },
    {
     "data": {
      "text/plain": [
       "356"
      ]
     },
     "execution_count": 11,
     "metadata": {},
     "output_type": "execute_result"
    }
   ],
   "source": [
    "g = nx.read_gml('networks/italy_995.gml', label=\"id\")\n",
    "min_cut_srlgs = get_minimal_cut_SRLGs('PSRLGs/italy_995.xml', g)\n",
    "len(min_cut_srlgs)"
   ]
  },
  {
   "cell_type": "code",
   "execution_count": 16,
   "metadata": {},
   "outputs": [
    {
     "name": "stdout",
     "output_type": "stream",
     "text": [
      "0.022360473108439742\n",
      "45\n",
      "0.022135238966453235\n"
     ]
    }
   ],
   "source": [
    "H = np.array([6+0*g.edges[e]['onspine'] for e in g.edges])\n",
    "print(get_probability_of_falling_apart(min_cut_srlgs,g,I1,H,prob_matrix))\n",
    "min_cut_srlgs_short = [srlg for srlg in min_cut_srlgs if get_SRLG_probability(srlg,g,I1,H,prob_matrix) > 0.00018]\n",
    "print(len(min_cut_srlgs_short))\n",
    "print(get_probability_of_falling_apart(min_cut_srlgs_short,g,I1,H,prob_matrix))"
   ]
  },
  {
   "cell_type": "code",
   "execution_count": 3,
   "metadata": {},
   "outputs": [
    {
     "data": {
      "text/plain": [
       "11929"
      ]
     },
     "execution_count": 3,
     "metadata": {},
     "output_type": "execute_result"
    }
   ],
   "source": [
    "len(srlgs)"
   ]
  },
  {
   "cell_type": "code",
   "execution_count": null,
   "metadata": {},
   "outputs": [],
   "source": [
    " for srlg in srlgs:\n",
    "    print(get_SRLG_probability(srlg,g,I1,H,prob_matrix), srlg)\n",
    "#print(get_probability_of_falling_apart(srlgs,g,I1,H,prob_matrix))"
   ]
  },
  {
   "cell_type": "code",
   "execution_count": 2,
   "metadata": {},
   "outputs": [],
   "source": [
    "# The network\n",
    "network = 'italy_995'\n",
    "\n",
    "g = nx.read_gml(f'networks/{network}.gml', label=\"id\")\n",
    "L = len(g.edges)\n",
    "links = range(L)\n",
    "\n",
    "# The matrix of the intensity values, dimensions: [L,P,M] (link, position, magnitude)\n",
    "I1 = np.load(f'intensities/{network}_ds16.npy')\n",
    "#I2 = np.load('intensities/italy_ds16_csak.npy')\n",
    "\n",
    "# The matrix of earthquake probabilities, dimensions: [P,M] (position, magnitude)\n",
    "prob_matrix = pd.read_csv('earthquake_probabilities/italy_ds16.csv').drop(['Lat', 'Long'], axis=1).to_numpy()\n",
    "P, M = prob_matrix.shape\n",
    "epicenters = range(P)\n",
    "magnitudes = range(M)\n",
    "\n",
    "srlgs, srlg_probs = get_SRLGs(f'PSRLGs/{network}.xml')\n",
    "srlg_lengths = [len(srlg) for srlg in srlgs]\n",
    "H = np.ones(L) * 6."
   ]
  },
  {
   "cell_type": "code",
   "execution_count": null,
   "metadata": {},
   "outputs": [],
   "source": [
    "H = np.ones(L) * 6.\n",
    "#for T in np.concatenate((np.arange(0.01, 0.001, -0.001), np.arange(0.001, 0.0007, -0.0001))):\n",
    "for T in [0.001]:\n",
    "    print(f'=====================\\n{T:.4f}')\n",
    "    for i in range(len(srlgs)):\n",
    "        if srlg_probs[i] > T:\n",
    "            print(f'{srlg_probs[i]:.4f}, {get_SRLG_probability(srlgs[i],g,I1,H,prob_matrix):.4f}, {get_SRLG_probability(srlgs[i],g,I2,H,prob_matrix):.4f}, {srlgs[i]}')"
   ]
  },
  {
   "cell_type": "code",
   "execution_count": 14,
   "metadata": {},
   "outputs": [],
   "source": [
    "# Correcting node order in SRLG edges\n",
    "edge_list = list(g.edges)\n",
    "for idx,srlg in enumerate(min_cut_srlgs_short):\n",
    "    for l in srlg:\n",
    "        if l not in edge_list:\n",
    "            min_cut_srlgs_short[idx].discard(l)\n",
    "            min_cut_srlgs_short[idx].add((l[1],l[0],l[2]))"
   ]
  },
  {
   "cell_type": "code",
   "execution_count": 15,
   "metadata": {},
   "outputs": [],
   "source": [
    "# Write\n",
    "with open('min_cut_SRLGs/italy_995_2-4', 'wb') as fp:\n",
    "    pickle.dump(min_cut_srlgs_short, fp)\n",
    "\n",
    "# Read\n",
    "#with open ('min_cut_SRLGs/italy', 'rb') as fp:\n",
    "#    cut_srlgs = pickle.load(fp)"
   ]
  },
  {
   "cell_type": "markdown",
   "metadata": {},
   "source": [
    "# Creating SRG file"
   ]
  },
  {
   "cell_type": "code",
   "execution_count": 9,
   "metadata": {},
   "outputs": [],
   "source": [
    "g = read_lgf_to_networkx_extended('networks/usa_99.lgf')\n",
    "\n",
    "with open ('results/Heuristic_upgraded_edges_usa_99_nospine', 'rb') as fp:\n",
    "    cut_srlgs = pickle.load(fp)"
   ]
  },
  {
   "cell_type": "code",
   "execution_count": 48,
   "metadata": {},
   "outputs": [
    {
     "data": {
      "text/plain": [
       "0"
      ]
     },
     "execution_count": 48,
     "metadata": {},
     "output_type": "execute_result"
    }
   ],
   "source": [
    "write_networkx_to_srg('networks/italy_995.srg', g, srlgs)"
   ]
  },
  {
   "cell_type": "code",
   "execution_count": 4,
   "metadata": {},
   "outputs": [],
   "source": [
    "# Simple failures\n",
    "srlg_simple = [[e] for e in g.edges()]\n",
    "srlg_simple_nocut = [srlg for srlg in srlg_simple if remains_connected(g.copy(), srlg)]\n",
    "\n",
    "# Adjacent failures\n",
    "srlg_adj = []\n",
    "for u in g:\n",
    "    for pair in combinations(list(g[u]), 2):\n",
    "        srlg_adj.append([(u, pair[0]), (u, pair[1])])\n",
    "srlg_adj_nocut = [srlg for srlg in srlg_adj if remains_connected(g.copy(), srlg)]"
   ]
  },
  {
   "cell_type": "code",
   "execution_count": 8,
   "metadata": {},
   "outputs": [
    {
     "name": "stdout",
     "output_type": "stream",
     "text": [
      "0.01000\t93\n",
      "0.00750\t93\n",
      "0.00500\t93\n",
      "0.00250\t96\n",
      "0.00205\t101\n",
      "{(22, 24, 0), (23, 24, 0), (20, 24, 0)}\n",
      "{(21, 23, 0), (23, 24, 0), (23, 25, 0)}\n",
      "0.00080\t106\n",
      "{(22, 24, 0), (23, 24, 0), (20, 24, 0)}\n",
      "{(20, 22, 0), (21, 22, 0), (22, 24, 0)}\n",
      "{(21, 23, 0), (23, 24, 0), (23, 25, 0)}\n",
      "{(21, 25, 0), (23, 25, 0)}\n",
      "0.00040\t111\n",
      "{(22, 24, 0), (23, 24, 0), (20, 24, 0)}\n",
      "{(20, 22, 0), (21, 22, 0), (22, 24, 0)}\n",
      "{(21, 23, 0), (23, 24, 0), (23, 25, 0)}\n",
      "{(21, 25, 0), (23, 25, 0)}\n",
      "0.00035\t117\n",
      "{(22, 24, 0), (23, 24, 0), (20, 24, 0)}\n",
      "{(20, 22, 0), (21, 22, 0), (22, 24, 0)}\n",
      "{(21, 23, 0), (23, 24, 0), (23, 25, 0)}\n",
      "{(21, 22, 0), (21, 23, 0), (14, 21, 0), (21, 25, 0)}\n",
      "{(21, 25, 0), (23, 25, 0)}\n",
      "0.00015\t135\n",
      "{(22, 24, 0), (23, 24, 0), (20, 24, 0)}\n",
      "{(20, 22, 0), (22, 24, 0), (23, 24, 0), (20, 24, 0)}\n",
      "{(23, 24, 0), (21, 22, 0), (20, 22, 0), (22, 24, 0), (20, 24, 0)}\n",
      "{(22, 24, 0), (21, 22, 0), (23, 24, 0), (20, 24, 0)}\n",
      "{(20, 22, 0), (21, 22, 0), (22, 24, 0), (23, 24, 0)}\n",
      "{(20, 22, 0), (21, 22, 0), (23, 24, 0), (20, 24, 0)}\n",
      "{(20, 22, 0), (21, 22, 0), (22, 24, 0), (20, 24, 0)}\n",
      "{(20, 22, 0), (21, 22, 0), (22, 24, 0)}\n",
      "{(21, 23, 0), (23, 24, 0), (23, 25, 0)}\n",
      "{(21, 22, 0), (21, 23, 0), (14, 21, 0), (21, 25, 0)}\n",
      "{(21, 25, 0), (23, 25, 0)}\n",
      "0.00005\t160\n",
      "{(22, 24, 0), (23, 24, 0), (20, 24, 0)}\n",
      "{(20, 22, 0), (22, 24, 0), (23, 24, 0), (20, 24, 0)}\n",
      "{(23, 24, 0), (21, 22, 0), (20, 22, 0), (22, 24, 0), (20, 24, 0)}\n",
      "{(22, 24, 0), (21, 22, 0), (23, 24, 0), (20, 24, 0)}\n",
      "{(20, 22, 0), (21, 22, 0), (22, 24, 0), (23, 24, 0)}\n",
      "{(20, 22, 0), (21, 22, 0), (23, 24, 0), (20, 24, 0)}\n",
      "{(20, 22, 0), (21, 22, 0), (22, 24, 0), (20, 24, 0)}\n",
      "{(20, 22, 0), (21, 22, 0), (22, 24, 0)}\n",
      "{(21, 23, 0), (23, 24, 0), (23, 25, 0)}\n",
      "{(20, 22, 0), (21, 22, 0), (21, 23, 0), (22, 24, 0)}\n",
      "{(10, 13, 0), (10, 12, 0), (10, 15, 0), (10, 17, 0)}\n",
      "{(21, 22, 0), (21, 23, 0), (14, 21, 0), (21, 25, 0)}\n",
      "{(21, 25, 0), (23, 25, 0)}\n",
      "{(3, 6, 0), (3, 7, 0)}\n"
     ]
    }
   ],
   "source": [
    "network = 'usa_995'\n",
    "g_init = read_lgf_to_networkx_extended(f'networks/{network}_initial.lgf')\n",
    "g_spine = read_lgf_to_networkx_extended(f'networks/{network}.lgf')\n",
    "srlgs, srlg_probs = get_SRLGs(f'PSRLGs/{network}.xml')\n",
    "\n",
    "srlg_adj_sample = sample(srlg_adj_nocut, int(len(srlg_adj)*0.5) )\n",
    "x, y = [],[]\n",
    "prev_l = 0\n",
    "prev_T = 1\n",
    "#for T in [0.01, 0.0075, 0.005, 0.0025, 0.001, 0.00075, 0.0005, 0.00025]:\n",
    "for idx,T in enumerate(np.concatenate((np.arange(0.01, 0.001, -0.00005), np.arange(0.001, 0.0000, -0.00005)))):\n",
    "    current_srlgs = [srlg for i, srlg in enumerate(srlgs) if srlg_probs[i] > T and len(srlg) > 1] + srlg_simple_nocut + srlg_adj_sample\n",
    "    if len(current_srlgs) > prev_l+3 or prev_T-T>0.00246:\n",
    "        print(f'{T:.5f}\\t{len(current_srlgs)}')\n",
    "        prev_l = len(current_srlgs)\n",
    "        y.append(len(current_srlgs))\n",
    "        x.append(T)\n",
    "        prev_T = T\n",
    "        write_networkx_to_srg(f'results/{network}/SRLG/initial+1.5/{network}_TFA1_T{T:.5f}_NS_initial+1.5.srg', g_init, current_srlgs)\n",
    "    \n",
    "        for srlg in current_srlgs:\n",
    "            if not remains_connected(g.copy(), srlg):\n",
    "                print(srlg)\n",
    "    "
   ]
  },
  {
   "cell_type": "code",
   "execution_count": 87,
   "metadata": {},
   "outputs": [
    {
     "data": {
      "image/png": "[encoded data removed]",
      "text/plain": [
       "<Figure size 648x432 with 1 Axes>"
      ]
     },
     "metadata": {
      "needs_background": "light"
     },
     "output_type": "display_data"
    }
   ],
   "source": [
    "fig, ax = plt.subplots(figsize=(9,6))\n",
    "ax.plot(x,y, 'o-')\n",
    "ax.set_xscale('log')\n",
    "ax.grid()"
   ]
  },
  {
   "cell_type": "markdown",
   "metadata": {},
   "source": [
    "# Modify SRG file"
   ]
  },
  {
   "cell_type": "code",
   "execution_count": 7,
   "metadata": {},
   "outputs": [],
   "source": [
    "import glob"
   ]
  },
  {
   "cell_type": "code",
   "execution_count": 43,
   "metadata": {},
   "outputs": [],
   "source": [
    "network = 'italy_995'\n",
    "g_init = read_lgf_to_networkx_extended(f'networks/{network}_initial.lgf')\n",
    "g_spine = read_lgf_to_networkx_extended(f'networks/{network}.lgf')\n",
    "\n",
    "srlg_adj_sample = sample(srlg_adj_nocut, int(len(srlg_adj)*0.1) )\n",
    "\n",
    "for srg_file in glob.glob(f'results/{network}/SRLG/initial/*.srg'):\n",
    "    g, srlgs = read_lgf_to_networkx_extended(srg_file)\n",
    "    for i,e in list(enumerate(g.edges)):\n",
    "    if i%2 == 1:\n",
    "        g.remove_edge(*e)\n",
    "    srlgs = [srlg[::2] for srlg in srlgs if len(srlg)>2]\n",
    "    srlgs += srlg_simple_nocut + srlg_adj_sample\n",
    "    \n",
    "    #print(srlgs)\n",
    "#     if '_S_' in srg_file:\n",
    "#         write_networkx_to_srg(srg_file.replace('initial', 'initial+1.1'), g_spine, srlgs)\n",
    "#     else:\n",
    "#         write_networkx_to_srg(srg_file.replace('initial', 'initial+1.1'), g_init, srlgs)"
   ]
  },
  {
   "cell_type": "code",
   "execution_count": 36,
   "metadata": {},
   "outputs": [
    {
     "name": "stdout",
     "output_type": "stream",
     "text": [
      "[(17, 16), (17, 23)]\n",
      "[(13, 11), (13, 14)]\n"
     ]
    }
   ],
   "source": [
    "for srlg in srlg_adj_sample:\n",
    "    if not remains_connected(g_init.copy(), srlg):\n",
    "        print(srlg)"
   ]
  },
  {
   "cell_type": "markdown",
   "metadata": {},
   "source": [
    "# TFA, T connection"
   ]
  },
  {
   "cell_type": "code",
   "execution_count": 2,
   "metadata": {},
   "outputs": [],
   "source": [
    "# The network\n",
    "network = 'italy_995'\n",
    "\n",
    "g = nx.read_gml(f'networks/{network}.gml', label=\"id\")\n",
    "L = len(g.edges)\n",
    "links = range(L)\n",
    "\n",
    "# The matrix of the intensity values, dimensions: [L,P,M] (link, position, magnitude)\n",
    "I1 = np.load(f'intensities/{network}_ds16.npy')\n",
    "#I2 = np.load('intensities/italy_ds16_csak.npy')\n",
    "\n",
    "# The matrix of earthquake probabilities, dimensions: [P,M] (position, magnitude)\n",
    "prob_matrix = pd.read_csv('earthquake_probabilities/italy_ds16.csv').drop(['Lat', 'Long'], axis=1).to_numpy()\n",
    "P, M = prob_matrix.shape\n",
    "epicenters = range(P)\n",
    "magnitudes = range(M)\n",
    "\n",
    "srlgs, srlg_probs = get_SRLGs(f'PSRLGs/{network}.xml')\n",
    "H = np.ones(L) * 6.\n",
    "\n",
    "with open (f'min_cut_SRLGs/{network}', 'rb') as fp:\n",
    "    min_cut_srlgs = pickle.load(fp)"
   ]
  },
  {
   "cell_type": "code",
   "execution_count": 17,
   "metadata": {},
   "outputs": [
    {
     "name": "stdout",
     "output_type": "stream",
     "text": [
      "0.0005 0.000108\n",
      "0.0006 0.000108\n",
      "0.0007 0.000338\n",
      "0.0008 0.000338\n",
      "0.0009 0.000338\n",
      "0.001 0.000338\n",
      "0.002 0.000338\n",
      "0.003 0.000383\n",
      "0.004 0.000894\n",
      "0.005 0.000894\n",
      "0.006 0.000894\n",
      "0.007 0.001595\n",
      "0.008 0.001595\n",
      "0.009 0.001595\n",
      "0.01 0.001595\n"
     ]
    }
   ],
   "source": [
    "TFAs = []\n",
    "min_Ts = []\n",
    "\n",
    "for upgrade_file in sorted(glob.glob(f'results/{network}/upgrade_level/SB0/*.csv')):\n",
    "    df_upgrade = pd.read_csv(upgrade_file)\n",
    "    TFA = float(upgrade_file.split('TFA')[-1].split('_')[0])\n",
    "    max_cut_prob = max([get_SRLG_probability(srlg,g,I1,df_upgrade['H (Heuristic 2)'].to_numpy(),prob_matrix) for srlg in min_cut_srlgs])\n",
    "    print(f'{TFA} {max_cut_prob:.6f}')\n",
    "    TFAs.append(TFA)\n",
    "    min_Ts.append(max_cut_prob)"
   ]
  },
  {
   "cell_type": "code",
   "execution_count": 25,
   "metadata": {
    "collapsed": true,
    "jupyter": {
     "outputs_hidden": true
    }
   },
   "outputs": [
    {
     "data": {
      "text/plain": [
       "Text(0, 0.5, 'min T to not block')"
      ]
     },
     "execution_count": 25,
     "metadata": {},
     "output_type": "execute_result"
    },
    {
     "data": {
      "image/png": "[encoded data removed]",
      "text/plain": [
       "<Figure size 432x288 with 1 Axes>"
      ]
     },
     "metadata": {
      "needs_background": "light"
     },
     "output_type": "display_data"
    }
   ],
   "source": [
    "fig, ax = plt.subplots()\n",
    "ax.loglog(TFAs, min_Ts, 'o-')\n",
    "ax.invert_xaxis()\n",
    "ax.grid(which='both')\n",
    "ax.set_xlabel('T_D')\n",
    "ax.set_ylabel('min T to not block')"
   ]
  },
  {
   "cell_type": "code",
   "execution_count": 7,
   "metadata": {},
   "outputs": [
    {
     "name": "stdout",
     "output_type": "stream",
     "text": [
      "4324.1004253423\n"
     ]
    }
   ],
   "source": [
    "cost = 0\n",
    "for e in g.edges:\n",
    "    cost += g.edges[e]['length']*g.edges[e]['onspine']\n",
    "print(cost)"
   ]
  }
 ],
 "metadata": {
  "kernelspec": {
   "display_name": "Python 3",
   "language": "python",
   "name": "python3"
  },
  "language_info": {
   "codemirror_mode": {
    "name": "ipython",
    "version": 3
   },
   "file_extension": ".py",
   "mimetype": "text/x-python",
   "name": "python",
   "nbconvert_exporter": "python",
   "pygments_lexer": "ipython3",
   "version": "3.7.7"
  }
 },
 "nbformat": 4,
 "nbformat_minor": 4
}
