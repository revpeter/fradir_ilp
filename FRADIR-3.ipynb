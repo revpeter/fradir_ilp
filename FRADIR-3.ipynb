{
 "cells": [
  {
   "cell_type": "code",
   "execution_count": 1,
   "metadata": {},
   "outputs": [],
   "source": [
    "from backend import *\n",
    "from tqdm.notebook import tqdm"
   ]
  },
  {
   "cell_type": "markdown",
   "metadata": {},
   "source": [
    "# Preprocessing Earthquake probabilities"
   ]
  },
  {
   "cell_type": "code",
   "execution_count": 205,
   "metadata": {},
   "outputs": [],
   "source": [
    "# Creating the DataFrame of the earthquakes' probabilities\n",
    "df = pd.read_table('../incremental_annual_rates/incremental_annual_rates_USA.txt', sep='\\s+', header=None)\n",
    "\n",
    "df.columns = ['Long', 'Lat'] + [str(np.around(x,1)) for x in np.arange(4.6, 9.6, 0.1)]\n",
    "df.drop(df.columns[42:], axis=1, inplace=True)\n",
    "df.fillna(value=0.0, inplace=True)\n",
    "df = df[df['4.6'] != 0.0]\n",
    "\n",
    "df.to_csv('incremental_annual_rates/incremental_annual_rates_italy_without_zeros.csv', index=False)"
   ]
  },
  {
   "cell_type": "code",
   "execution_count": 201,
   "metadata": {},
   "outputs": [
    {
     "data": {
      "text/html": [
       "<div>\n",
       "<style scoped>\n",
       "    .dataframe tbody tr th:only-of-type {\n",
       "        vertical-align: middle;\n",
       "    }\n",
       "\n",
       "    .dataframe tbody tr th {\n",
       "        vertical-align: top;\n",
       "    }\n",
       "\n",
       "    .dataframe thead th {\n",
       "        text-align: right;\n",
       "    }\n",
       "</style>\n",
       "<table border=\"1\" class=\"dataframe\">\n",
       "  <thead>\n",
       "    <tr style=\"text-align: right;\">\n",
       "      <th></th>\n",
       "      <th>Lat</th>\n",
       "      <th>Long</th>\n",
       "      <th>4.6</th>\n",
       "      <th>4.7</th>\n",
       "      <th>4.8</th>\n",
       "      <th>4.9</th>\n",
       "      <th>5.0</th>\n",
       "      <th>5.1</th>\n",
       "      <th>5.2</th>\n",
       "      <th>5.3</th>\n",
       "      <th>...</th>\n",
       "      <th>7.7</th>\n",
       "      <th>7.8</th>\n",
       "      <th>7.9</th>\n",
       "      <th>8.0</th>\n",
       "      <th>8.1</th>\n",
       "      <th>8.2</th>\n",
       "      <th>8.3</th>\n",
       "      <th>8.4</th>\n",
       "      <th>8.5</th>\n",
       "      <th>8.6</th>\n",
       "    </tr>\n",
       "  </thead>\n",
       "  <tbody>\n",
       "    <tr>\n",
       "      <th>0</th>\n",
       "      <td>-82.0</td>\n",
       "      <td>24.5</td>\n",
       "      <td>5.522443e-09</td>\n",
       "      <td>4.386632e-09</td>\n",
       "      <td>3.484426e-09</td>\n",
       "      <td>2.767778e-09</td>\n",
       "      <td>2.198524e-09</td>\n",
       "      <td>1.746350e-09</td>\n",
       "      <td>1.387175e-09</td>\n",
       "      <td>1.101872e-09</td>\n",
       "      <td>...</td>\n",
       "      <td>0.0</td>\n",
       "      <td>0.0</td>\n",
       "      <td>0.0</td>\n",
       "      <td>0.0</td>\n",
       "      <td>0.0</td>\n",
       "      <td>0.0</td>\n",
       "      <td>0.0</td>\n",
       "      <td>0.0</td>\n",
       "      <td>0.0</td>\n",
       "      <td>0.0</td>\n",
       "    </tr>\n",
       "    <tr>\n",
       "      <th>1</th>\n",
       "      <td>-81.9</td>\n",
       "      <td>24.5</td>\n",
       "      <td>7.100443e-09</td>\n",
       "      <td>5.640082e-09</td>\n",
       "      <td>4.480077e-09</td>\n",
       "      <td>3.558651e-09</td>\n",
       "      <td>2.826737e-09</td>\n",
       "      <td>2.245357e-09</td>\n",
       "      <td>1.783551e-09</td>\n",
       "      <td>1.416725e-09</td>\n",
       "      <td>...</td>\n",
       "      <td>0.0</td>\n",
       "      <td>0.0</td>\n",
       "      <td>0.0</td>\n",
       "      <td>0.0</td>\n",
       "      <td>0.0</td>\n",
       "      <td>0.0</td>\n",
       "      <td>0.0</td>\n",
       "      <td>0.0</td>\n",
       "      <td>0.0</td>\n",
       "      <td>0.0</td>\n",
       "    </tr>\n",
       "  </tbody>\n",
       "</table>\n",
       "<p>2 rows × 43 columns</p>\n",
       "</div>"
      ],
      "text/plain": [
       "    Lat  Long           4.6           4.7           4.8           4.9  \\\n",
       "0 -82.0  24.5  5.522443e-09  4.386632e-09  3.484426e-09  2.767778e-09   \n",
       "1 -81.9  24.5  7.100443e-09  5.640082e-09  4.480077e-09  3.558651e-09   \n",
       "\n",
       "            5.0           5.1           5.2           5.3  ...  7.7  7.8  7.9  \\\n",
       "0  2.198524e-09  1.746350e-09  1.387175e-09  1.101872e-09  ...  0.0  0.0  0.0   \n",
       "1  2.826737e-09  2.245357e-09  1.783551e-09  1.416725e-09  ...  0.0  0.0  0.0   \n",
       "\n",
       "   8.0  8.1  8.2  8.3  8.4  8.5  8.6  \n",
       "0  0.0  0.0  0.0  0.0  0.0  0.0  0.0  \n",
       "1  0.0  0.0  0.0  0.0  0.0  0.0  0.0  \n",
       "\n",
       "[2 rows x 43 columns]"
      ]
     },
     "execution_count": 201,
     "metadata": {},
     "output_type": "execute_result"
    }
   ],
   "source": [
    "df = pd.read_csv('../incremental_annual_rates/incremental_annual_rates_USA.csv')\n",
    "df.describe()"
   ]
  },
  {
   "cell_type": "code",
   "execution_count": 6,
   "metadata": {},
   "outputs": [],
   "source": [
    "df = df[df['4.6'] != 0.0]"
   ]
  },
  {
   "cell_type": "code",
   "execution_count": 12,
   "metadata": {},
   "outputs": [],
   "source": [
    "# Delete If no earthquake exist with such magnitude\n",
    "df.drop(labels=['8.5', '8.6'], axis=1, inplace=True)"
   ]
  },
  {
   "cell_type": "code",
   "execution_count": 14,
   "metadata": {},
   "outputs": [],
   "source": [
    "# Convert the rates to probabilities\n",
    "prob_matrix = df.drop(['Lat', 'Long'], axis=1).to_numpy()\n",
    "scale = prob_matrix.sum()\n",
    "print(scale)\n",
    "df.iloc[:,2:] = df.iloc[:,2:] / scale\n",
    "\n",
    "df.to_csv('earthquake_probabilities/usa.csv', index=False)"
   ]
  },
  {
   "cell_type": "code",
   "execution_count": 18,
   "metadata": {},
   "outputs": [],
   "source": [
    "df = pd.read_csv('earthquake_probabilities/usa.csv')"
   ]
  },
  {
   "cell_type": "code",
   "execution_count": null,
   "metadata": {},
   "outputs": [],
   "source": [
    "# Downsample the eartquakes\n",
    "res = 2\n",
    "ds = df.copy()\n",
    "ds['Lat'] = (ds['Lat']*res).astype(int)\n",
    "ds['Long'] = (ds['Long']*res).astype(int)\n",
    "ds = ds.groupby(['Lat','Long']).sum()\n",
    "ds = ds[ds['4.6'] != 0.0]\n",
    "ds.reset_index(inplace=True)\n",
    "ds['Lat'] = ds['Lat']/res\n",
    "ds['Long'] = ds['Long']/res\n",
    "ds.head(3)"
   ]
  },
  {
   "cell_type": "code",
   "execution_count": null,
   "metadata": {},
   "outputs": [],
   "source": [
    "ds.to_csv('earthquake_probabilities/usa_ds23.csv', index=False)"
   ]
  },
  {
   "cell_type": "markdown",
   "metadata": {},
   "source": [
    "# Preprocessing the network"
   ]
  },
  {
   "cell_type": "code",
   "execution_count": 3,
   "metadata": {},
   "outputs": [],
   "source": [
    "g = nx.read_gml('networks/usa_99.gml', label='id')\n",
    "#g = read_lgf_to_networkx_extended('networks/usa_99.lgf')"
   ]
  },
  {
   "cell_type": "code",
   "execution_count": 21,
   "metadata": {},
   "outputs": [
    {
     "data": {
      "text/plain": [
       "6.006940938772047"
      ]
     },
     "execution_count": 21,
     "metadata": {},
     "output_type": "execute_result"
    }
   ],
   "source": [
    "intensity_usa(5.1, 8.3)"
   ]
  },
  {
   "cell_type": "code",
   "execution_count": null,
   "metadata": {
    "tags": []
   },
   "outputs": [],
   "source": [
    "for e in g.edges:\n",
    "    edge_points = [tuple(utm.from_latlon(p['Latitude'], p['Longitude'])[:2]) for p in g.edges[e]['points']['point']]\n",
    "    edge = LineString(edge_points)\n",
    "    epicenter_utm = utm.from_latlon(40, -80)\n",
    "    epicenter = Point(epicenter_utm[:2])\n",
    "    nearest_point = nearest_points(edge, epicenter)[0].coords[0]\n",
    "    print(nearest_point)\n",
    "    print(epicenter.coords[0])\n",
    "    #dist = distance(lonlat(*epicenter.coords[0]), lonlat(*nearest_point)).km\n",
    "    dist = distance(utm.to_latlon(*epicenter_utm), lonlat(*nearest_point)).km\n",
    "    intensity = intensity_europe(8.6, dist)\n",
    "    print(\"%.1f\" % intensity)"
   ]
  },
  {
   "cell_type": "code",
   "execution_count": null,
   "metadata": {},
   "outputs": [],
   "source": [
    "EARTH_RADIUS = 6371\n",
    "\n",
    "g = nx.read_gml('networks/usa_99.gml', label='id')\n",
    "edge = (2, 5, 0)\n",
    "\n",
    "for n in g.nodes:\n",
    "    u = node_to_SVector(g.nodes[n])\n",
    "    v,w = edge_to_SVectors(g.edges[edge])\n",
    "    gomb = int(u.distance_to_section(v,w) * EARTH_RADIUS)\n",
    "    \n",
    "    edge_points = [tuple(p.values()) for p in g.edges[edge]['points']['point']]\n",
    "    l = LineString(edge_points)\n",
    "    p = Point(g.nodes[n]['Longitude'], g.nodes[n]['Latitude'])\n",
    "    nearest_point = nearest_points(l, p)[0].coords[0]\n",
    "    R = distance(lonlat(*(g.nodes[n]['Longitude'], g.nodes[n]['Latitude'])), lonlat(*nearest_point)).km\n",
    "    print(f'{(gomb-R)/(R+1):.2f}')"
   ]
  },
  {
   "cell_type": "markdown",
   "metadata": {},
   "source": [
    "# Earthquake intensity calculation"
   ]
  },
  {
   "cell_type": "code",
   "execution_count": 55,
   "metadata": {},
   "outputs": [],
   "source": [
    "g = nx.read_gml('networks/usa_99.gml', label='id')\n",
    "\n",
    "df = pd.read_csv('earthquake_probabilities/usa_ds23.csv')\n",
    "df.insert(loc=0, column='Epicenter', value=list(zip(df.Lat, df.Long)))\n",
    "df.set_index('Epicenter', inplace=True)\n",
    "df.drop(['Lat', 'Long'], axis=1, inplace=True)\n",
    "\n",
    "epicenters = df.index\n",
    "magnitudes = df.columns"
   ]
  },
  {
   "cell_type": "code",
   "execution_count": 56,
   "metadata": {},
   "outputs": [
    {
     "data": {
      "text/plain": [
       "Index(['4.6', '4.7', '4.8', '4.9', '5.0', '5.1', '5.2', '5.3', '5.4', '5.5',\n",
       "       '5.6', '5.7', '5.8', '5.9', '6.0', '6.1', '6.2', '6.3', '6.4', '6.5',\n",
       "       '6.6', '6.7', '6.8', '6.9', '7.0', '7.1', '7.2', '7.3', '7.4', '7.5',\n",
       "       '7.6', '7.7', '7.8', '7.9', '8.0', '8.1', '8.2', '8.3', '8.4'],\n",
       "      dtype='object')"
      ]
     },
     "execution_count": 56,
     "metadata": {},
     "output_type": "execute_result"
    }
   ],
   "source": [
    "magnitudes"
   ]
  },
  {
   "cell_type": "code",
   "execution_count": 69,
   "metadata": {
    "tags": []
   },
   "outputs": [
    {
     "data": {
      "application/vnd.jupyter.widget-view+json": {
       "model_id": "241d50850d7144adacaea4d4cd7327e9",
       "version_major": 2,
       "version_minor": 0
      },
      "text/plain": [
       "HBox(children=(FloatProgress(value=0.0, max=42.0), HTML(value='')))"
      ]
     },
     "metadata": {},
     "output_type": "display_data"
    },
    {
     "name": "stdout",
     "output_type": "stream",
     "text": [
      "\n"
     ]
    }
   ],
   "source": [
    "EARTH_RADIUS = 6371\n",
    "I1= np.ones((g.number_of_edges(), len(epicenters), len(magnitudes)))\n",
    "I2 = np.ones((g.number_of_edges(), len(epicenters), len(magnitudes)))\n",
    "\n",
    "D1 = np.ones((g.number_of_edges(), len(epicenters)))\n",
    "D2 = np.ones((g.number_of_edges(), len(epicenters)))\n",
    "\n",
    "for i, e in tqdm(enumerate(g.edges), total=g.number_of_edges()):\n",
    "    edge_points = [tuple(p.values()) for p in g.edges[e]['points']['point']]\n",
    "    l = LineString(edge_points)\n",
    "    v,w = edge_to_SVectors(g.edges[e])\n",
    "    for j, epicenter in enumerate(epicenters):\n",
    "        p = Point(epicenter)\n",
    "        nearest_point = nearest_points(l, p)[0].coords[0]\n",
    "        R1 = distance(lonlat(*epicenter), lonlat(*nearest_point)).km\n",
    "        \n",
    "        u = SVector(epicenter[1],epicenter[0])\n",
    "        R2 = u.distance_to_section(v,w) * EARTH_RADIUS\n",
    "        \n",
    "        D1[i,j] = R1\n",
    "        D2[i,j] = R2\n",
    "\n",
    "\n",
    "for k, M in enumerate(magnitudes):\n",
    "    i1 = intensity_usa(np.float(M), D1)\n",
    "    i1[i1<1.] = 1.\n",
    "    i2 = intensity_usa(np.float(M), D2)\n",
    "    i2[i2<1.] = 1.\n",
    "    I1[:,:,k] = i1\n",
    "    I2[:,:,k] = i2"
   ]
  },
  {
   "cell_type": "code",
   "execution_count": 72,
   "metadata": {},
   "outputs": [
    {
     "data": {
      "text/plain": [
       "89407"
      ]
     },
     "execution_count": 72,
     "metadata": {},
     "output_type": "execute_result"
    }
   ],
   "source": [
    "((I1 - I2) < -0.1).sum()"
   ]
  },
  {
   "cell_type": "code",
   "execution_count": 13,
   "metadata": {},
   "outputs": [
    {
     "data": {
      "text/plain": [
       "(array([8.5000e+01, 1.6540e+03, 9.9894e+04, 3.5055e+04, 4.1900e+03,\n",
       "        2.0240e+03, 1.2760e+03, 9.0600e+02, 6.6300e+02, 4.1300e+02,\n",
       "        3.0000e+02, 2.0700e+02, 1.3100e+02, 1.0200e+02, 6.2000e+01,\n",
       "        5.3000e+01, 3.6000e+01, 3.1000e+01, 2.8000e+01, 1.6000e+01]),\n",
       " array([-25.09311274, -15.19055418,  -5.28799562,   4.61456294,\n",
       "         14.5171215 ,  24.41968006,  34.32223862,  44.22479718,\n",
       "         54.12735574,  64.02991431,  73.93247287,  83.83503143,\n",
       "         93.73758999, 103.64014855, 113.54270711, 123.44526567,\n",
       "        133.34782423, 143.25038279, 153.15294136, 163.05549992,\n",
       "        172.95805848]),\n",
       " <BarContainer object of 20 artists>)"
      ]
     },
     "execution_count": 13,
     "metadata": {},
     "output_type": "execute_result"
    },
    {
     "data": {
      "image/png": "[encoded data removed]",
      "text/plain": [
       "<Figure size 432x288 with 1 Axes>"
      ]
     },
     "metadata": {
      "needs_background": "light"
     },
     "output_type": "display_data"
    }
   ],
   "source": [
    "import matplotlib.pyplot as plt\n",
    "\n",
    "diff = ((D1 - D2)).flatten()\n",
    "\n",
    "plt.hist(diff, 20)"
   ]
  },
  {
   "cell_type": "code",
   "execution_count": 75,
   "metadata": {},
   "outputs": [],
   "source": [
    "np.save('intensities/usa_99_ds23.npy', I1)\n",
    "np.save('intensities/usa_99_ds23_csak.npy', I2)"
   ]
  },
  {
   "cell_type": "markdown",
   "metadata": {},
   "source": [
    "# SRLG collection"
   ]
  },
  {
   "cell_type": "code",
   "execution_count": null,
   "metadata": {},
   "outputs": [],
   "source": [
    "min_cut_srlgs = get_minimal_cut_SRLGs('PSRLGs/usa_99_complete_it6.xml')\n",
    "len(min_cut_srlgs)"
   ]
  },
  {
   "cell_type": "code",
   "execution_count": 15,
   "metadata": {},
   "outputs": [
    {
     "data": {
      "application/vnd.jupyter.widget-view+json": {
       "model_id": "e66f3afaff9540ad87917f8cef2ad8f0",
       "version_major": 2,
       "version_minor": 0
      },
      "text/plain": [
       "HBox(children=(FloatProgress(value=0.0, max=751.0), HTML(value='')))"
      ]
     },
     "metadata": {},
     "output_type": "display_data"
    },
    {
     "name": "stdout",
     "output_type": "stream",
     "text": [
      "\n"
     ]
    }
   ],
   "source": [
    "srlgs, srlg_probs = get_SRLGs('PSRLGs/usa_99_complete_it6.xml')"
   ]
  },
  {
   "cell_type": "code",
   "execution_count": 346,
   "metadata": {},
   "outputs": [
    {
     "data": {
      "text/plain": [
       "0.13014360751392431"
      ]
     },
     "execution_count": 346,
     "metadata": {},
     "output_type": "execute_result"
    }
   ],
   "source": [
    "sum(srlg_probs)"
   ]
  },
  {
   "cell_type": "code",
   "execution_count": 9,
   "metadata": {},
   "outputs": [
    {
     "data": {
      "application/vnd.jupyter.widget-view+json": {
       "model_id": "c169365b233042669c7e0cc60b0d0984",
       "version_major": 2,
       "version_minor": 0
      },
      "text/plain": [
       "HBox(children=(FloatProgress(value=0.0, max=751.0), HTML(value='')))"
      ]
     },
     "metadata": {},
     "output_type": "display_data"
    },
    {
     "name": "stdout",
     "output_type": "stream",
     "text": [
      "\n"
     ]
    }
   ],
   "source": [
    "# The network\n",
    "g = nx.read_gml('networks/usa_99.gml', label=\"id\")\n",
    "L = len(g.edges)\n",
    "links = range(L)\n",
    "\n",
    "# The matrix of the intensity values, dimensions: [L,P,M] (link, position, magnitude)\n",
    "I1 = np.load('intensities/usa_99_ds23.npy')\n",
    "I2 = np.load('intensities/usa_99_ds23_csak.npy')\n",
    "\n",
    "# The matrix of earthquake probabilities, dimensions: [P,M] (position, magnitude)\n",
    "prob_matrix = pd.read_csv('earthquake_probabilities/usa_ds23.csv').drop(['Lat', 'Long'], axis=1).to_numpy()\n",
    "P, M = prob_matrix.shape\n",
    "epicenters = range(P)\n",
    "magnitudes = range(M)\n",
    "\n",
    "srlgs, srlg_probs = get_SRLGs('PSRLGs/usa_99_complete_it6.xml')\n",
    "H = np.ones(L) * 6."
   ]
  },
  {
   "cell_type": "code",
   "execution_count": null,
   "metadata": {},
   "outputs": [],
   "source": [
    "H = np.ones(L) * 6.\n",
    "for T in np.concatenate((np.arange(0.01, 0.001, -0.001), np.arange(0.001, 0.0007, -0.0001))):\n",
    "#for T in np.arange(0.01, 0.007, -0.001):\n",
    "    print(f'=====================\\n{T:.4f}')\n",
    "    for i in range(len(srlgs)):\n",
    "        if srlg_probs[i] > T:\n",
    "            print(f'{srlg_probs[i]:.4f}, {get_SRLG_probability(srlgs[i],g,I1,H,prob_matrix):.4f}, {get_SRLG_probability(srlgs[i],g,I2,H,prob_matrix):.4f},{srlgs[i]}')"
   ]
  },
  {
   "cell_type": "code",
   "execution_count": 365,
   "metadata": {},
   "outputs": [],
   "source": [
    "# Correcting node order in SRLG edges\n",
    "edge_list = list(g.edges)\n",
    "for idx,srlg in enumerate(srlgs):\n",
    "    for l in srlg:\n",
    "        if l not in edge_list:\n",
    "            srlgs[idx].discard(l)\n",
    "            srlgs[idx].add((l[1],l[0],l[2]))"
   ]
  },
  {
   "cell_type": "code",
   "execution_count": 22,
   "metadata": {},
   "outputs": [],
   "source": [
    "# Write\n",
    "with open('min_cut_SRLGs/usa_99', 'wb') as fp:\n",
    "    pickle.dump(min_cut_srlgs, fp)\n",
    "\n",
    "# Read\n",
    "#with open ('min_cut_SRLGs/italy', 'rb') as fp:\n",
    "#    cut_srlgs = pickle.load(fp)"
   ]
  },
  {
   "cell_type": "markdown",
   "metadata": {},
   "source": [
    "# Creating SRG file"
   ]
  },
  {
   "cell_type": "code",
   "execution_count": 9,
   "metadata": {},
   "outputs": [],
   "source": [
    "g = read_lgf_to_networkx_extended('networks/usa_99.lgf')\n",
    "\n",
    "with open ('results/Heuristic_upgraded_edges_usa_99_nospine', 'rb') as fp:\n",
    "    cut_srlgs = pickle.load(fp)"
   ]
  },
  {
   "cell_type": "code",
   "execution_count": 36,
   "metadata": {},
   "outputs": [
    {
     "data": {
      "text/plain": [
       "0"
      ]
     },
     "execution_count": 36,
     "metadata": {},
     "output_type": "execute_result"
    }
   ],
   "source": [
    "write_networkx_to_srg('networks/usa_99.srg', g, srlgs)"
   ]
  }
 ],
 "metadata": {
  "kernelspec": {
   "display_name": "Python 3",
   "language": "python",
   "name": "python3"
  },
  "language_info": {
   "codemirror_mode": {
    "name": "ipython",
    "version": 3
   },
   "file_extension": ".py",
   "mimetype": "text/x-python",
   "name": "python",
   "nbconvert_exporter": "python",
   "pygments_lexer": "ipython3",
   "version": "3.7.7"
  }
 },
 "nbformat": 4,
 "nbformat_minor": 4
}
