{
 "cells": [
  {
   "cell_type": "code",
   "execution_count": 1,
   "metadata": {},
   "outputs": [],
   "source": [
    "import pandas as pd\n",
    "import numpy as np\n",
    "import networkx as nx\n",
    "from shapely.geometry import Point, LineString\n",
    "from shapely.ops import nearest_points\n",
    "from geopy.distance import distance, lonlat\n",
    "from tqdm.notebook import tqdm\n",
    "import xml.etree.ElementTree as ET\n",
    "from ast import literal_eval\n",
    "import re\n",
    "import pickle\n"
   ]
  },
  {
   "cell_type": "code",
   "execution_count": null,
   "metadata": {},
   "outputs": [],
   "source": [
    "# Creating the DataFrame of the earthquakes' probabilities\n",
    "df = pd.read_table('../incremental_annual_rates/incremental_annual_rates_italy.txt', sep='\\s+', header=None)\n",
    "\n",
    "df.columns = ['Lat', 'Long'] + [str(np.around(x,1)) for x in np.arange(4.6, 8.7, 0.1)]\n",
    "df.drop(df.columns[42:], axis=1, inplace=True)\n",
    "df.fillna(value=0.0, inplace=True)\n",
    "df = df[df['4.6'] != 0.0]\n",
    "df.rename(columns={'Lat':'Long', 'Long':'Lat'}, inplace=True)\n",
    "\n",
    "df.to_csv('incremental_annual_rates/incremental_annual_rates_italy_without_zeros.csv', index=False)"
   ]
  },
  {
   "cell_type": "code",
   "execution_count": 18,
   "metadata": {},
   "outputs": [
    {
     "data": {
      "text/html": [
       "<div>\n",
       "<style scoped>\n",
       "    .dataframe tbody tr th:only-of-type {\n",
       "        vertical-align: middle;\n",
       "    }\n",
       "\n",
       "    .dataframe tbody tr th {\n",
       "        vertical-align: top;\n",
       "    }\n",
       "\n",
       "    .dataframe thead th {\n",
       "        text-align: right;\n",
       "    }\n",
       "</style>\n",
       "<table border=\"1\" class=\"dataframe\">\n",
       "  <thead>\n",
       "    <tr style=\"text-align: right;\">\n",
       "      <th></th>\n",
       "      <th>Lat</th>\n",
       "      <th>Long</th>\n",
       "      <th>4.6</th>\n",
       "      <th>4.7</th>\n",
       "      <th>4.8</th>\n",
       "      <th>4.9</th>\n",
       "      <th>5.0</th>\n",
       "      <th>5.1</th>\n",
       "      <th>5.2</th>\n",
       "      <th>5.3</th>\n",
       "      <th>...</th>\n",
       "      <th>7.7</th>\n",
       "      <th>7.8</th>\n",
       "      <th>7.9</th>\n",
       "      <th>8.0</th>\n",
       "      <th>8.1</th>\n",
       "      <th>8.2</th>\n",
       "      <th>8.3</th>\n",
       "      <th>8.4</th>\n",
       "      <th>8.5</th>\n",
       "      <th>8.6</th>\n",
       "    </tr>\n",
       "  </thead>\n",
       "  <tbody>\n",
       "    <tr>\n",
       "      <th>0</th>\n",
       "      <td>5.00</td>\n",
       "      <td>48.5</td>\n",
       "      <td>0.0</td>\n",
       "      <td>0.0</td>\n",
       "      <td>0.0</td>\n",
       "      <td>0.0</td>\n",
       "      <td>0.0</td>\n",
       "      <td>0.0</td>\n",
       "      <td>0.0</td>\n",
       "      <td>0.0</td>\n",
       "      <td>...</td>\n",
       "      <td>0.0</td>\n",
       "      <td>0.0</td>\n",
       "      <td>0.0</td>\n",
       "      <td>0.0</td>\n",
       "      <td>0.0</td>\n",
       "      <td>0.0</td>\n",
       "      <td>0.0</td>\n",
       "      <td>0.0</td>\n",
       "      <td>0.0</td>\n",
       "      <td>0.0</td>\n",
       "    </tr>\n",
       "    <tr>\n",
       "      <th>1</th>\n",
       "      <td>5.05</td>\n",
       "      <td>48.5</td>\n",
       "      <td>0.0</td>\n",
       "      <td>0.0</td>\n",
       "      <td>0.0</td>\n",
       "      <td>0.0</td>\n",
       "      <td>0.0</td>\n",
       "      <td>0.0</td>\n",
       "      <td>0.0</td>\n",
       "      <td>0.0</td>\n",
       "      <td>...</td>\n",
       "      <td>0.0</td>\n",
       "      <td>0.0</td>\n",
       "      <td>0.0</td>\n",
       "      <td>0.0</td>\n",
       "      <td>0.0</td>\n",
       "      <td>0.0</td>\n",
       "      <td>0.0</td>\n",
       "      <td>0.0</td>\n",
       "      <td>0.0</td>\n",
       "      <td>0.0</td>\n",
       "    </tr>\n",
       "  </tbody>\n",
       "</table>\n",
       "<p>2 rows × 43 columns</p>\n",
       "</div>"
      ],
      "text/plain": [
       "    Lat  Long  4.6  4.7  4.8  4.9  5.0  5.1  5.2  5.3  ...  7.7  7.8  7.9  \\\n",
       "0  5.00  48.5  0.0  0.0  0.0  0.0  0.0  0.0  0.0  0.0  ...  0.0  0.0  0.0   \n",
       "1  5.05  48.5  0.0  0.0  0.0  0.0  0.0  0.0  0.0  0.0  ...  0.0  0.0  0.0   \n",
       "\n",
       "   8.0  8.1  8.2  8.3  8.4  8.5  8.6  \n",
       "0  0.0  0.0  0.0  0.0  0.0  0.0  0.0  \n",
       "1  0.0  0.0  0.0  0.0  0.0  0.0  0.0  \n",
       "\n",
       "[2 rows x 43 columns]"
      ]
     },
     "execution_count": 18,
     "metadata": {},
     "output_type": "execute_result"
    }
   ],
   "source": [
    "df = pd.read_csv('../incremental_annual_rates/incremental_annual_rates_italy.csv')\n",
    "#df.set_index(['Lat','Long'], inplace=True)\n",
    "df.head(2)"
   ]
  },
  {
   "cell_type": "code",
   "execution_count": 19,
   "metadata": {},
   "outputs": [
    {
     "data": {
      "text/html": [
       "<div>\n",
       "<style scoped>\n",
       "    .dataframe tbody tr th:only-of-type {\n",
       "        vertical-align: middle;\n",
       "    }\n",
       "\n",
       "    .dataframe tbody tr th {\n",
       "        vertical-align: top;\n",
       "    }\n",
       "\n",
       "    .dataframe thead th {\n",
       "        text-align: right;\n",
       "    }\n",
       "</style>\n",
       "<table border=\"1\" class=\"dataframe\">\n",
       "  <thead>\n",
       "    <tr style=\"text-align: right;\">\n",
       "      <th></th>\n",
       "      <th>Lat</th>\n",
       "      <th>Long</th>\n",
       "      <th>4.6</th>\n",
       "      <th>4.7</th>\n",
       "      <th>4.8</th>\n",
       "      <th>4.9</th>\n",
       "      <th>5.0</th>\n",
       "      <th>5.1</th>\n",
       "      <th>5.2</th>\n",
       "      <th>5.3</th>\n",
       "      <th>...</th>\n",
       "      <th>7.7</th>\n",
       "      <th>7.8</th>\n",
       "      <th>7.9</th>\n",
       "      <th>8.0</th>\n",
       "      <th>8.1</th>\n",
       "      <th>8.2</th>\n",
       "      <th>8.3</th>\n",
       "      <th>8.4</th>\n",
       "      <th>8.5</th>\n",
       "      <th>8.6</th>\n",
       "    </tr>\n",
       "  </thead>\n",
       "  <tbody>\n",
       "    <tr>\n",
       "      <th>0</th>\n",
       "      <td>5.0</td>\n",
       "      <td>45.0</td>\n",
       "      <td>5.268220e-09</td>\n",
       "      <td>4.184696e-09</td>\n",
       "      <td>3.324022e-09</td>\n",
       "      <td>2.640365e-09</td>\n",
       "      <td>2.097316e-09</td>\n",
       "      <td>1.665957e-09</td>\n",
       "      <td>1.323317e-09</td>\n",
       "      <td>1.051148e-09</td>\n",
       "      <td>...</td>\n",
       "      <td>0.0</td>\n",
       "      <td>0.0</td>\n",
       "      <td>0.0</td>\n",
       "      <td>0.0</td>\n",
       "      <td>0.0</td>\n",
       "      <td>0.0</td>\n",
       "      <td>0.0</td>\n",
       "      <td>0.0</td>\n",
       "      <td>0.0</td>\n",
       "      <td>0.0</td>\n",
       "    </tr>\n",
       "    <tr>\n",
       "      <th>1</th>\n",
       "      <td>5.0</td>\n",
       "      <td>45.2</td>\n",
       "      <td>2.802193e-08</td>\n",
       "      <td>2.225861e-08</td>\n",
       "      <td>1.768064e-08</td>\n",
       "      <td>1.404423e-08</td>\n",
       "      <td>1.115573e-08</td>\n",
       "      <td>8.861313e-09</td>\n",
       "      <td>7.038791e-09</td>\n",
       "      <td>5.591110e-09</td>\n",
       "      <td>...</td>\n",
       "      <td>0.0</td>\n",
       "      <td>0.0</td>\n",
       "      <td>0.0</td>\n",
       "      <td>0.0</td>\n",
       "      <td>0.0</td>\n",
       "      <td>0.0</td>\n",
       "      <td>0.0</td>\n",
       "      <td>0.0</td>\n",
       "      <td>0.0</td>\n",
       "      <td>0.0</td>\n",
       "    </tr>\n",
       "    <tr>\n",
       "      <th>2</th>\n",
       "      <td>5.0</td>\n",
       "      <td>45.4</td>\n",
       "      <td>5.112818e-08</td>\n",
       "      <td>4.061256e-08</td>\n",
       "      <td>3.225970e-08</td>\n",
       "      <td>2.562479e-08</td>\n",
       "      <td>2.035450e-08</td>\n",
       "      <td>1.616815e-08</td>\n",
       "      <td>1.284282e-08</td>\n",
       "      <td>1.020141e-08</td>\n",
       "      <td>...</td>\n",
       "      <td>0.0</td>\n",
       "      <td>0.0</td>\n",
       "      <td>0.0</td>\n",
       "      <td>0.0</td>\n",
       "      <td>0.0</td>\n",
       "      <td>0.0</td>\n",
       "      <td>0.0</td>\n",
       "      <td>0.0</td>\n",
       "      <td>0.0</td>\n",
       "      <td>0.0</td>\n",
       "    </tr>\n",
       "    <tr>\n",
       "      <th>3</th>\n",
       "      <td>5.0</td>\n",
       "      <td>45.6</td>\n",
       "      <td>1.131072e-07</td>\n",
       "      <td>8.984425e-08</td>\n",
       "      <td>7.136582e-08</td>\n",
       "      <td>5.668789e-08</td>\n",
       "      <td>4.502879e-08</td>\n",
       "      <td>3.576764e-08</td>\n",
       "      <td>2.841125e-08</td>\n",
       "      <td>2.256786e-08</td>\n",
       "      <td>...</td>\n",
       "      <td>0.0</td>\n",
       "      <td>0.0</td>\n",
       "      <td>0.0</td>\n",
       "      <td>0.0</td>\n",
       "      <td>0.0</td>\n",
       "      <td>0.0</td>\n",
       "      <td>0.0</td>\n",
       "      <td>0.0</td>\n",
       "      <td>0.0</td>\n",
       "      <td>0.0</td>\n",
       "    </tr>\n",
       "    <tr>\n",
       "      <th>4</th>\n",
       "      <td>5.0</td>\n",
       "      <td>45.8</td>\n",
       "      <td>2.701120e-07</td>\n",
       "      <td>2.145576e-07</td>\n",
       "      <td>1.704292e-07</td>\n",
       "      <td>1.353767e-07</td>\n",
       "      <td>1.075335e-07</td>\n",
       "      <td>8.541693e-08</td>\n",
       "      <td>6.784908e-08</td>\n",
       "      <td>5.389444e-08</td>\n",
       "      <td>...</td>\n",
       "      <td>0.0</td>\n",
       "      <td>0.0</td>\n",
       "      <td>0.0</td>\n",
       "      <td>0.0</td>\n",
       "      <td>0.0</td>\n",
       "      <td>0.0</td>\n",
       "      <td>0.0</td>\n",
       "      <td>0.0</td>\n",
       "      <td>0.0</td>\n",
       "      <td>0.0</td>\n",
       "    </tr>\n",
       "    <tr>\n",
       "      <th>...</th>\n",
       "      <td>...</td>\n",
       "      <td>...</td>\n",
       "      <td>...</td>\n",
       "      <td>...</td>\n",
       "      <td>...</td>\n",
       "      <td>...</td>\n",
       "      <td>...</td>\n",
       "      <td>...</td>\n",
       "      <td>...</td>\n",
       "      <td>...</td>\n",
       "      <td>...</td>\n",
       "      <td>...</td>\n",
       "      <td>...</td>\n",
       "      <td>...</td>\n",
       "      <td>...</td>\n",
       "      <td>...</td>\n",
       "      <td>...</td>\n",
       "      <td>...</td>\n",
       "      <td>...</td>\n",
       "      <td>...</td>\n",
       "      <td>...</td>\n",
       "    </tr>\n",
       "    <tr>\n",
       "      <th>3174</th>\n",
       "      <td>19.8</td>\n",
       "      <td>39.4</td>\n",
       "      <td>1.269970e-07</td>\n",
       "      <td>1.008773e-07</td>\n",
       "      <td>8.012970e-08</td>\n",
       "      <td>6.364928e-08</td>\n",
       "      <td>5.055842e-08</td>\n",
       "      <td>4.015998e-08</td>\n",
       "      <td>3.190021e-08</td>\n",
       "      <td>2.533923e-08</td>\n",
       "      <td>...</td>\n",
       "      <td>0.0</td>\n",
       "      <td>0.0</td>\n",
       "      <td>0.0</td>\n",
       "      <td>0.0</td>\n",
       "      <td>0.0</td>\n",
       "      <td>0.0</td>\n",
       "      <td>0.0</td>\n",
       "      <td>0.0</td>\n",
       "      <td>0.0</td>\n",
       "      <td>0.0</td>\n",
       "    </tr>\n",
       "    <tr>\n",
       "      <th>3175</th>\n",
       "      <td>19.8</td>\n",
       "      <td>39.6</td>\n",
       "      <td>1.615555e-07</td>\n",
       "      <td>1.283281e-07</td>\n",
       "      <td>1.019346e-07</td>\n",
       "      <td>8.096956e-08</td>\n",
       "      <td>6.431640e-08</td>\n",
       "      <td>5.108834e-08</td>\n",
       "      <td>4.058091e-08</td>\n",
       "      <td>3.223456e-08</td>\n",
       "      <td>...</td>\n",
       "      <td>0.0</td>\n",
       "      <td>0.0</td>\n",
       "      <td>0.0</td>\n",
       "      <td>0.0</td>\n",
       "      <td>0.0</td>\n",
       "      <td>0.0</td>\n",
       "      <td>0.0</td>\n",
       "      <td>0.0</td>\n",
       "      <td>0.0</td>\n",
       "      <td>0.0</td>\n",
       "    </tr>\n",
       "    <tr>\n",
       "      <th>3176</th>\n",
       "      <td>19.8</td>\n",
       "      <td>39.8</td>\n",
       "      <td>1.051104e-07</td>\n",
       "      <td>8.349213e-08</td>\n",
       "      <td>6.632016e-08</td>\n",
       "      <td>5.267997e-08</td>\n",
       "      <td>4.184519e-08</td>\n",
       "      <td>3.323882e-08</td>\n",
       "      <td>2.640253e-08</td>\n",
       "      <td>2.097228e-08</td>\n",
       "      <td>...</td>\n",
       "      <td>0.0</td>\n",
       "      <td>0.0</td>\n",
       "      <td>0.0</td>\n",
       "      <td>0.0</td>\n",
       "      <td>0.0</td>\n",
       "      <td>0.0</td>\n",
       "      <td>0.0</td>\n",
       "      <td>0.0</td>\n",
       "      <td>0.0</td>\n",
       "      <td>0.0</td>\n",
       "    </tr>\n",
       "    <tr>\n",
       "      <th>3177</th>\n",
       "      <td>19.8</td>\n",
       "      <td>40.0</td>\n",
       "      <td>2.083151e-08</td>\n",
       "      <td>1.654706e-08</td>\n",
       "      <td>1.314380e-08</td>\n",
       "      <td>1.044049e-08</td>\n",
       "      <td>8.293175e-09</td>\n",
       "      <td>6.587503e-09</td>\n",
       "      <td>5.232639e-09</td>\n",
       "      <td>4.156433e-09</td>\n",
       "      <td>...</td>\n",
       "      <td>0.0</td>\n",
       "      <td>0.0</td>\n",
       "      <td>0.0</td>\n",
       "      <td>0.0</td>\n",
       "      <td>0.0</td>\n",
       "      <td>0.0</td>\n",
       "      <td>0.0</td>\n",
       "      <td>0.0</td>\n",
       "      <td>0.0</td>\n",
       "      <td>0.0</td>\n",
       "    </tr>\n",
       "    <tr>\n",
       "      <th>3178</th>\n",
       "      <td>19.8</td>\n",
       "      <td>40.2</td>\n",
       "      <td>8.166089e-10</td>\n",
       "      <td>6.486555e-10</td>\n",
       "      <td>5.152454e-10</td>\n",
       "      <td>4.092740e-10</td>\n",
       "      <td>3.250979e-10</td>\n",
       "      <td>2.582344e-10</td>\n",
       "      <td>2.051229e-10</td>\n",
       "      <td>1.629349e-10</td>\n",
       "      <td>...</td>\n",
       "      <td>0.0</td>\n",
       "      <td>0.0</td>\n",
       "      <td>0.0</td>\n",
       "      <td>0.0</td>\n",
       "      <td>0.0</td>\n",
       "      <td>0.0</td>\n",
       "      <td>0.0</td>\n",
       "      <td>0.0</td>\n",
       "      <td>0.0</td>\n",
       "      <td>0.0</td>\n",
       "    </tr>\n",
       "  </tbody>\n",
       "</table>\n",
       "<p>3179 rows × 43 columns</p>\n",
       "</div>"
      ],
      "text/plain": [
       "       Lat  Long           4.6           4.7           4.8           4.9  \\\n",
       "0      5.0  45.0  5.268220e-09  4.184696e-09  3.324022e-09  2.640365e-09   \n",
       "1      5.0  45.2  2.802193e-08  2.225861e-08  1.768064e-08  1.404423e-08   \n",
       "2      5.0  45.4  5.112818e-08  4.061256e-08  3.225970e-08  2.562479e-08   \n",
       "3      5.0  45.6  1.131072e-07  8.984425e-08  7.136582e-08  5.668789e-08   \n",
       "4      5.0  45.8  2.701120e-07  2.145576e-07  1.704292e-07  1.353767e-07   \n",
       "...    ...   ...           ...           ...           ...           ...   \n",
       "3174  19.8  39.4  1.269970e-07  1.008773e-07  8.012970e-08  6.364928e-08   \n",
       "3175  19.8  39.6  1.615555e-07  1.283281e-07  1.019346e-07  8.096956e-08   \n",
       "3176  19.8  39.8  1.051104e-07  8.349213e-08  6.632016e-08  5.267997e-08   \n",
       "3177  19.8  40.0  2.083151e-08  1.654706e-08  1.314380e-08  1.044049e-08   \n",
       "3178  19.8  40.2  8.166089e-10  6.486555e-10  5.152454e-10  4.092740e-10   \n",
       "\n",
       "               5.0           5.1           5.2           5.3  ...  7.7  7.8  \\\n",
       "0     2.097316e-09  1.665957e-09  1.323317e-09  1.051148e-09  ...  0.0  0.0   \n",
       "1     1.115573e-08  8.861313e-09  7.038791e-09  5.591110e-09  ...  0.0  0.0   \n",
       "2     2.035450e-08  1.616815e-08  1.284282e-08  1.020141e-08  ...  0.0  0.0   \n",
       "3     4.502879e-08  3.576764e-08  2.841125e-08  2.256786e-08  ...  0.0  0.0   \n",
       "4     1.075335e-07  8.541693e-08  6.784908e-08  5.389444e-08  ...  0.0  0.0   \n",
       "...            ...           ...           ...           ...  ...  ...  ...   \n",
       "3174  5.055842e-08  4.015998e-08  3.190021e-08  2.533923e-08  ...  0.0  0.0   \n",
       "3175  6.431640e-08  5.108834e-08  4.058091e-08  3.223456e-08  ...  0.0  0.0   \n",
       "3176  4.184519e-08  3.323882e-08  2.640253e-08  2.097228e-08  ...  0.0  0.0   \n",
       "3177  8.293175e-09  6.587503e-09  5.232639e-09  4.156433e-09  ...  0.0  0.0   \n",
       "3178  3.250979e-10  2.582344e-10  2.051229e-10  1.629349e-10  ...  0.0  0.0   \n",
       "\n",
       "      7.9  8.0  8.1  8.2  8.3  8.4  8.5  8.6  \n",
       "0     0.0  0.0  0.0  0.0  0.0  0.0  0.0  0.0  \n",
       "1     0.0  0.0  0.0  0.0  0.0  0.0  0.0  0.0  \n",
       "2     0.0  0.0  0.0  0.0  0.0  0.0  0.0  0.0  \n",
       "3     0.0  0.0  0.0  0.0  0.0  0.0  0.0  0.0  \n",
       "4     0.0  0.0  0.0  0.0  0.0  0.0  0.0  0.0  \n",
       "...   ...  ...  ...  ...  ...  ...  ...  ...  \n",
       "3174  0.0  0.0  0.0  0.0  0.0  0.0  0.0  0.0  \n",
       "3175  0.0  0.0  0.0  0.0  0.0  0.0  0.0  0.0  \n",
       "3176  0.0  0.0  0.0  0.0  0.0  0.0  0.0  0.0  \n",
       "3177  0.0  0.0  0.0  0.0  0.0  0.0  0.0  0.0  \n",
       "3178  0.0  0.0  0.0  0.0  0.0  0.0  0.0  0.0  \n",
       "\n",
       "[3179 rows x 43 columns]"
      ]
     },
     "execution_count": 19,
     "metadata": {},
     "output_type": "execute_result"
    }
   ],
   "source": [
    "df['Lat'] = (df['Lat']*5).astype(int)\n",
    "df['Long'] = (df['Long']*5).astype(int)\n",
    "df_4 = df.groupby(['Lat','Long']).sum()\n",
    "df_4 = df_4[df_4['4.6'] != 0.0]\n",
    "df_4.reset_index(inplace=True)\n",
    "df_4['Lat'] = df_4['Lat']/5\n",
    "df_4['Long'] = df_4['Long']/5\n",
    "df_4"
   ]
  },
  {
   "cell_type": "code",
   "execution_count": 20,
   "metadata": {},
   "outputs": [],
   "source": [
    "df_4.to_csv('earthquake_probabilities/italy_ds16.csv', index=False)"
   ]
  },
  {
   "cell_type": "code",
   "execution_count": 21,
   "metadata": {},
   "outputs": [],
   "source": [
    "g = nx.read_gml('networks/italy.gml', label='id')"
   ]
  },
  {
   "cell_type": "code",
   "execution_count": 22,
   "metadata": {
    "tags": []
   },
   "outputs": [],
   "source": [
    "def intensity_europe(M, R):\n",
    "    h = 3.91\n",
    "    D = np.sqrt(h**2 + R**2)\n",
    "    return 1.621*M - 1.343 - 0.0086*(D-h) - 1.037*(np.log(D)-np.log(h))"
   ]
  },
  {
   "cell_type": "code",
   "execution_count": null,
   "metadata": {},
   "outputs": [],
   "source": [
    "l = [tuple(d.values()) for d in g.edges[('Rome', 'Pescara', 0)]['points']['point']]\n",
    "edge = LineString(l)\n",
    "point = Point(10.8,48.3)\n",
    "nearest_point = nearest_points(edge, point)[0]\n",
    "nearest_point.coords[:]"
   ]
  },
  {
   "cell_type": "code",
   "execution_count": null,
   "metadata": {
    "tags": []
   },
   "outputs": [],
   "source": [
    "for e in g.edges:\n",
    "    edge_points = [tuple(p.values()) for p in g.edges[e]['points']['point']]\n",
    "    edge = LineString(edge_points)\n",
    "    epicenter = Point(10.5,48.2)\n",
    "    nearest_point = nearest_points(edge, epicenter)[0].coords[0]\n",
    "    print(nearest_point)\n",
    "    print(epicenter.coords[0])\n",
    "    dist = distance(lonlat(*epicenter.coords[0]), lonlat(*nearest_point)).km\n",
    "    intensity = intensity_europe(8.6, dist)\n",
    "    print(\"%.1f\" % intensity)"
   ]
  },
  {
   "cell_type": "code",
   "execution_count": 24,
   "metadata": {},
   "outputs": [],
   "source": [
    "#df['Epicenter'] = list(zip(df.Lat, df.Long))\n",
    "df.insert(loc=0, column='Epicenter', value=list(zip(df.Lat, df.Long)))\n",
    "df.set_index('Epicenter', inplace=True)\n",
    "df.drop(['Lat', 'Long'], axis=1, inplace=True)"
   ]
  },
  {
   "cell_type": "code",
   "execution_count": 25,
   "metadata": {},
   "outputs": [
    {
     "data": {
      "text/html": [
       "<div>\n",
       "<style scoped>\n",
       "    .dataframe tbody tr th:only-of-type {\n",
       "        vertical-align: middle;\n",
       "    }\n",
       "\n",
       "    .dataframe tbody tr th {\n",
       "        vertical-align: top;\n",
       "    }\n",
       "\n",
       "    .dataframe thead th {\n",
       "        text-align: right;\n",
       "    }\n",
       "</style>\n",
       "<table border=\"1\" class=\"dataframe\">\n",
       "  <thead>\n",
       "    <tr style=\"text-align: right;\">\n",
       "      <th></th>\n",
       "      <th>4.6</th>\n",
       "      <th>4.7</th>\n",
       "      <th>4.8</th>\n",
       "      <th>4.9</th>\n",
       "      <th>5.0</th>\n",
       "      <th>5.1</th>\n",
       "      <th>5.2</th>\n",
       "      <th>5.3</th>\n",
       "      <th>5.4</th>\n",
       "      <th>5.5</th>\n",
       "      <th>...</th>\n",
       "      <th>7.7</th>\n",
       "      <th>7.8</th>\n",
       "      <th>7.9</th>\n",
       "      <th>8.0</th>\n",
       "      <th>8.1</th>\n",
       "      <th>8.2</th>\n",
       "      <th>8.3</th>\n",
       "      <th>8.4</th>\n",
       "      <th>8.5</th>\n",
       "      <th>8.6</th>\n",
       "    </tr>\n",
       "    <tr>\n",
       "      <th>Epicenter</th>\n",
       "      <th></th>\n",
       "      <th></th>\n",
       "      <th></th>\n",
       "      <th></th>\n",
       "      <th></th>\n",
       "      <th></th>\n",
       "      <th></th>\n",
       "      <th></th>\n",
       "      <th></th>\n",
       "      <th></th>\n",
       "      <th></th>\n",
       "      <th></th>\n",
       "      <th></th>\n",
       "      <th></th>\n",
       "      <th></th>\n",
       "      <th></th>\n",
       "      <th></th>\n",
       "      <th></th>\n",
       "      <th></th>\n",
       "      <th></th>\n",
       "      <th></th>\n",
       "    </tr>\n",
       "  </thead>\n",
       "  <tbody>\n",
       "    <tr>\n",
       "      <th>(5.0, 45.0)</th>\n",
       "      <td>5.268220e-09</td>\n",
       "      <td>4.184696e-09</td>\n",
       "      <td>3.324022e-09</td>\n",
       "      <td>2.640365e-09</td>\n",
       "      <td>2.097316e-09</td>\n",
       "      <td>1.665957e-09</td>\n",
       "      <td>1.323317e-09</td>\n",
       "      <td>1.051148e-09</td>\n",
       "      <td>8.349566e-10</td>\n",
       "      <td>6.632296e-10</td>\n",
       "      <td>...</td>\n",
       "      <td>0.0</td>\n",
       "      <td>0.0</td>\n",
       "      <td>0.0</td>\n",
       "      <td>0.0</td>\n",
       "      <td>0.0</td>\n",
       "      <td>0.0</td>\n",
       "      <td>0.0</td>\n",
       "      <td>0.0</td>\n",
       "      <td>0.0</td>\n",
       "      <td>0.0</td>\n",
       "    </tr>\n",
       "    <tr>\n",
       "      <th>(5.0, 45.2)</th>\n",
       "      <td>2.802193e-08</td>\n",
       "      <td>2.225861e-08</td>\n",
       "      <td>1.768064e-08</td>\n",
       "      <td>1.404423e-08</td>\n",
       "      <td>1.115573e-08</td>\n",
       "      <td>8.861313e-09</td>\n",
       "      <td>7.038791e-09</td>\n",
       "      <td>5.591110e-09</td>\n",
       "      <td>4.441177e-09</td>\n",
       "      <td>3.527752e-09</td>\n",
       "      <td>...</td>\n",
       "      <td>0.0</td>\n",
       "      <td>0.0</td>\n",
       "      <td>0.0</td>\n",
       "      <td>0.0</td>\n",
       "      <td>0.0</td>\n",
       "      <td>0.0</td>\n",
       "      <td>0.0</td>\n",
       "      <td>0.0</td>\n",
       "      <td>0.0</td>\n",
       "      <td>0.0</td>\n",
       "    </tr>\n",
       "    <tr>\n",
       "      <th>(5.0, 45.4)</th>\n",
       "      <td>5.112818e-08</td>\n",
       "      <td>4.061256e-08</td>\n",
       "      <td>3.225970e-08</td>\n",
       "      <td>2.562479e-08</td>\n",
       "      <td>2.035450e-08</td>\n",
       "      <td>1.616815e-08</td>\n",
       "      <td>1.284282e-08</td>\n",
       "      <td>1.020141e-08</td>\n",
       "      <td>8.103271e-09</td>\n",
       "      <td>6.436657e-09</td>\n",
       "      <td>...</td>\n",
       "      <td>0.0</td>\n",
       "      <td>0.0</td>\n",
       "      <td>0.0</td>\n",
       "      <td>0.0</td>\n",
       "      <td>0.0</td>\n",
       "      <td>0.0</td>\n",
       "      <td>0.0</td>\n",
       "      <td>0.0</td>\n",
       "      <td>0.0</td>\n",
       "      <td>0.0</td>\n",
       "    </tr>\n",
       "    <tr>\n",
       "      <th>(5.0, 45.6)</th>\n",
       "      <td>1.131072e-07</td>\n",
       "      <td>8.984425e-08</td>\n",
       "      <td>7.136582e-08</td>\n",
       "      <td>5.668789e-08</td>\n",
       "      <td>4.502879e-08</td>\n",
       "      <td>3.576764e-08</td>\n",
       "      <td>2.841125e-08</td>\n",
       "      <td>2.256786e-08</td>\n",
       "      <td>1.792628e-08</td>\n",
       "      <td>1.423935e-08</td>\n",
       "      <td>...</td>\n",
       "      <td>0.0</td>\n",
       "      <td>0.0</td>\n",
       "      <td>0.0</td>\n",
       "      <td>0.0</td>\n",
       "      <td>0.0</td>\n",
       "      <td>0.0</td>\n",
       "      <td>0.0</td>\n",
       "      <td>0.0</td>\n",
       "      <td>0.0</td>\n",
       "      <td>0.0</td>\n",
       "    </tr>\n",
       "    <tr>\n",
       "      <th>(5.0, 45.8)</th>\n",
       "      <td>2.701120e-07</td>\n",
       "      <td>2.145576e-07</td>\n",
       "      <td>1.704292e-07</td>\n",
       "      <td>1.353767e-07</td>\n",
       "      <td>1.075335e-07</td>\n",
       "      <td>8.541693e-08</td>\n",
       "      <td>6.784908e-08</td>\n",
       "      <td>5.389444e-08</td>\n",
       "      <td>4.280987e-08</td>\n",
       "      <td>3.400509e-08</td>\n",
       "      <td>...</td>\n",
       "      <td>0.0</td>\n",
       "      <td>0.0</td>\n",
       "      <td>0.0</td>\n",
       "      <td>0.0</td>\n",
       "      <td>0.0</td>\n",
       "      <td>0.0</td>\n",
       "      <td>0.0</td>\n",
       "      <td>0.0</td>\n",
       "      <td>0.0</td>\n",
       "      <td>0.0</td>\n",
       "    </tr>\n",
       "  </tbody>\n",
       "</table>\n",
       "<p>5 rows × 41 columns</p>\n",
       "</div>"
      ],
      "text/plain": [
       "                      4.6           4.7           4.8           4.9  \\\n",
       "Epicenter                                                             \n",
       "(5.0, 45.0)  5.268220e-09  4.184696e-09  3.324022e-09  2.640365e-09   \n",
       "(5.0, 45.2)  2.802193e-08  2.225861e-08  1.768064e-08  1.404423e-08   \n",
       "(5.0, 45.4)  5.112818e-08  4.061256e-08  3.225970e-08  2.562479e-08   \n",
       "(5.0, 45.6)  1.131072e-07  8.984425e-08  7.136582e-08  5.668789e-08   \n",
       "(5.0, 45.8)  2.701120e-07  2.145576e-07  1.704292e-07  1.353767e-07   \n",
       "\n",
       "                      5.0           5.1           5.2           5.3  \\\n",
       "Epicenter                                                             \n",
       "(5.0, 45.0)  2.097316e-09  1.665957e-09  1.323317e-09  1.051148e-09   \n",
       "(5.0, 45.2)  1.115573e-08  8.861313e-09  7.038791e-09  5.591110e-09   \n",
       "(5.0, 45.4)  2.035450e-08  1.616815e-08  1.284282e-08  1.020141e-08   \n",
       "(5.0, 45.6)  4.502879e-08  3.576764e-08  2.841125e-08  2.256786e-08   \n",
       "(5.0, 45.8)  1.075335e-07  8.541693e-08  6.784908e-08  5.389444e-08   \n",
       "\n",
       "                      5.4           5.5  ...  7.7  7.8  7.9  8.0  8.1  8.2  \\\n",
       "Epicenter                                ...                                 \n",
       "(5.0, 45.0)  8.349566e-10  6.632296e-10  ...  0.0  0.0  0.0  0.0  0.0  0.0   \n",
       "(5.0, 45.2)  4.441177e-09  3.527752e-09  ...  0.0  0.0  0.0  0.0  0.0  0.0   \n",
       "(5.0, 45.4)  8.103271e-09  6.436657e-09  ...  0.0  0.0  0.0  0.0  0.0  0.0   \n",
       "(5.0, 45.6)  1.792628e-08  1.423935e-08  ...  0.0  0.0  0.0  0.0  0.0  0.0   \n",
       "(5.0, 45.8)  4.280987e-08  3.400509e-08  ...  0.0  0.0  0.0  0.0  0.0  0.0   \n",
       "\n",
       "             8.3  8.4  8.5  8.6  \n",
       "Epicenter                        \n",
       "(5.0, 45.0)  0.0  0.0  0.0  0.0  \n",
       "(5.0, 45.2)  0.0  0.0  0.0  0.0  \n",
       "(5.0, 45.4)  0.0  0.0  0.0  0.0  \n",
       "(5.0, 45.6)  0.0  0.0  0.0  0.0  \n",
       "(5.0, 45.8)  0.0  0.0  0.0  0.0  \n",
       "\n",
       "[5 rows x 41 columns]"
      ]
     },
     "execution_count": 25,
     "metadata": {},
     "output_type": "execute_result"
    }
   ],
   "source": [
    "#df=df_4\n",
    "df.head()"
   ]
  },
  {
   "cell_type": "code",
   "execution_count": 26,
   "metadata": {},
   "outputs": [],
   "source": [
    "epicenters = df.index.to_numpy()\n",
    "magnitudes = df.columns.to_numpy()"
   ]
  },
  {
   "cell_type": "code",
   "execution_count": 27,
   "metadata": {
    "tags": []
   },
   "outputs": [
    {
     "data": {
      "application/vnd.jupyter.widget-view+json": {
       "model_id": "45d6dfd40d5b4b82b3741242efc22b05",
       "version_major": 2,
       "version_minor": 0
      },
      "text/plain": [
       "HBox(children=(FloatProgress(value=0.0, max=35.0), HTML(value='')))"
      ]
     },
     "metadata": {},
     "output_type": "display_data"
    },
    {
     "data": {
      "application/vnd.jupyter.widget-view+json": {
       "model_id": "2f4cb4c53f00482eb8bc3e18a5ca07c1",
       "version_major": 2,
       "version_minor": 0
      },
      "text/plain": [
       "HBox(children=(FloatProgress(value=0.0, max=3179.0), HTML(value='')))"
      ]
     },
     "metadata": {},
     "output_type": "display_data"
    },
    {
     "name": "stdout",
     "output_type": "stream",
     "text": [
      "\n"
     ]
    },
    {
     "data": {
      "application/vnd.jupyter.widget-view+json": {
       "model_id": "9d6f23dbc6924216a851e9e15bc774e5",
       "version_major": 2,
       "version_minor": 0
      },
      "text/plain": [
       "HBox(children=(FloatProgress(value=0.0, max=3179.0), HTML(value='')))"
      ]
     },
     "metadata": {},
     "output_type": "display_data"
    },
    {
     "name": "stdout",
     "output_type": "stream",
     "text": [
      "\n"
     ]
    },
    {
     "data": {
      "application/vnd.jupyter.widget-view+json": {
       "model_id": "402bef97b5524343a85d73a380accdfb",
       "version_major": 2,
       "version_minor": 0
      },
      "text/plain": [
       "HBox(children=(FloatProgress(value=0.0, max=3179.0), HTML(value='')))"
      ]
     },
     "metadata": {},
     "output_type": "display_data"
    },
    {
     "name": "stdout",
     "output_type": "stream",
     "text": [
      "\n"
     ]
    },
    {
     "data": {
      "application/vnd.jupyter.widget-view+json": {
       "model_id": "0557adae28a644a69a4619f65c7ca9a5",
       "version_major": 2,
       "version_minor": 0
      },
      "text/plain": [
       "HBox(children=(FloatProgress(value=0.0, max=3179.0), HTML(value='')))"
      ]
     },
     "metadata": {},
     "output_type": "display_data"
    },
    {
     "name": "stdout",
     "output_type": "stream",
     "text": [
      "\n"
     ]
    },
    {
     "data": {
      "application/vnd.jupyter.widget-view+json": {
       "model_id": "28006fc65edc4bf7bf3b43a16a362e44",
       "version_major": 2,
       "version_minor": 0
      },
      "text/plain": [
       "HBox(children=(FloatProgress(value=0.0, max=3179.0), HTML(value='')))"
      ]
     },
     "metadata": {},
     "output_type": "display_data"
    },
    {
     "name": "stdout",
     "output_type": "stream",
     "text": [
      "\n"
     ]
    },
    {
     "data": {
      "application/vnd.jupyter.widget-view+json": {
       "model_id": "b42fc9b162fb4acebb912eafe5a0e656",
       "version_major": 2,
       "version_minor": 0
      },
      "text/plain": [
       "HBox(children=(FloatProgress(value=0.0, max=3179.0), HTML(value='')))"
      ]
     },
     "metadata": {},
     "output_type": "display_data"
    },
    {
     "name": "stdout",
     "output_type": "stream",
     "text": [
      "\n"
     ]
    },
    {
     "data": {
      "application/vnd.jupyter.widget-view+json": {
       "model_id": "6850f9609ef3475f848ee691f5dd5e05",
       "version_major": 2,
       "version_minor": 0
      },
      "text/plain": [
       "HBox(children=(FloatProgress(value=0.0, max=3179.0), HTML(value='')))"
      ]
     },
     "metadata": {},
     "output_type": "display_data"
    },
    {
     "name": "stdout",
     "output_type": "stream",
     "text": [
      "\n"
     ]
    },
    {
     "data": {
      "application/vnd.jupyter.widget-view+json": {
       "model_id": "23367c74484b4d939de2c188f2348dfd",
       "version_major": 2,
       "version_minor": 0
      },
      "text/plain": [
       "HBox(children=(FloatProgress(value=0.0, max=3179.0), HTML(value='')))"
      ]
     },
     "metadata": {},
     "output_type": "display_data"
    },
    {
     "name": "stdout",
     "output_type": "stream",
     "text": [
      "\n"
     ]
    },
    {
     "data": {
      "application/vnd.jupyter.widget-view+json": {
       "model_id": "2e33ee98231140ee8c833150143d317b",
       "version_major": 2,
       "version_minor": 0
      },
      "text/plain": [
       "HBox(children=(FloatProgress(value=0.0, max=3179.0), HTML(value='')))"
      ]
     },
     "metadata": {},
     "output_type": "display_data"
    },
    {
     "name": "stdout",
     "output_type": "stream",
     "text": [
      "\n"
     ]
    },
    {
     "data": {
      "application/vnd.jupyter.widget-view+json": {
       "model_id": "98c8f8754fc649cb922341989d50553a",
       "version_major": 2,
       "version_minor": 0
      },
      "text/plain": [
       "HBox(children=(FloatProgress(value=0.0, max=3179.0), HTML(value='')))"
      ]
     },
     "metadata": {},
     "output_type": "display_data"
    },
    {
     "name": "stdout",
     "output_type": "stream",
     "text": [
      "\n"
     ]
    },
    {
     "data": {
      "application/vnd.jupyter.widget-view+json": {
       "model_id": "d68fd54309b747f7826e6380c6c8176f",
       "version_major": 2,
       "version_minor": 0
      },
      "text/plain": [
       "HBox(children=(FloatProgress(value=0.0, max=3179.0), HTML(value='')))"
      ]
     },
     "metadata": {},
     "output_type": "display_data"
    },
    {
     "name": "stdout",
     "output_type": "stream",
     "text": [
      "\n"
     ]
    },
    {
     "data": {
      "application/vnd.jupyter.widget-view+json": {
       "model_id": "eb15cbeecb184eb29bde620c82c963ac",
       "version_major": 2,
       "version_minor": 0
      },
      "text/plain": [
       "HBox(children=(FloatProgress(value=0.0, max=3179.0), HTML(value='')))"
      ]
     },
     "metadata": {},
     "output_type": "display_data"
    },
    {
     "name": "stdout",
     "output_type": "stream",
     "text": [
      "\n"
     ]
    },
    {
     "data": {
      "application/vnd.jupyter.widget-view+json": {
       "model_id": "75125896c9334be0bc0ecffb59eb2e17",
       "version_major": 2,
       "version_minor": 0
      },
      "text/plain": [
       "HBox(children=(FloatProgress(value=0.0, max=3179.0), HTML(value='')))"
      ]
     },
     "metadata": {},
     "output_type": "display_data"
    },
    {
     "name": "stdout",
     "output_type": "stream",
     "text": [
      "\n"
     ]
    },
    {
     "data": {
      "application/vnd.jupyter.widget-view+json": {
       "model_id": "a152fe1bccbe440998c72fbce5345c83",
       "version_major": 2,
       "version_minor": 0
      },
      "text/plain": [
       "HBox(children=(FloatProgress(value=0.0, max=3179.0), HTML(value='')))"
      ]
     },
     "metadata": {},
     "output_type": "display_data"
    },
    {
     "name": "stdout",
     "output_type": "stream",
     "text": [
      "\n"
     ]
    },
    {
     "data": {
      "application/vnd.jupyter.widget-view+json": {
       "model_id": "2801d1f4a93749aea731dd0ae5ee399f",
       "version_major": 2,
       "version_minor": 0
      },
      "text/plain": [
       "HBox(children=(FloatProgress(value=0.0, max=3179.0), HTML(value='')))"
      ]
     },
     "metadata": {},
     "output_type": "display_data"
    },
    {
     "name": "stdout",
     "output_type": "stream",
     "text": [
      "\n"
     ]
    },
    {
     "data": {
      "application/vnd.jupyter.widget-view+json": {
       "model_id": "d2f42c47670e43d09aa21e831eba51c3",
       "version_major": 2,
       "version_minor": 0
      },
      "text/plain": [
       "HBox(children=(FloatProgress(value=0.0, max=3179.0), HTML(value='')))"
      ]
     },
     "metadata": {},
     "output_type": "display_data"
    },
    {
     "name": "stdout",
     "output_type": "stream",
     "text": [
      "\n"
     ]
    },
    {
     "data": {
      "application/vnd.jupyter.widget-view+json": {
       "model_id": "0539a70ac25e40d1bce77e6a39b3835a",
       "version_major": 2,
       "version_minor": 0
      },
      "text/plain": [
       "HBox(children=(FloatProgress(value=0.0, max=3179.0), HTML(value='')))"
      ]
     },
     "metadata": {},
     "output_type": "display_data"
    },
    {
     "name": "stdout",
     "output_type": "stream",
     "text": [
      "\n"
     ]
    },
    {
     "data": {
      "application/vnd.jupyter.widget-view+json": {
       "model_id": "9b16a1804f61414182d8052f1ca5fcd2",
       "version_major": 2,
       "version_minor": 0
      },
      "text/plain": [
       "HBox(children=(FloatProgress(value=0.0, max=3179.0), HTML(value='')))"
      ]
     },
     "metadata": {},
     "output_type": "display_data"
    },
    {
     "name": "stdout",
     "output_type": "stream",
     "text": [
      "\n"
     ]
    },
    {
     "data": {
      "application/vnd.jupyter.widget-view+json": {
       "model_id": "cff6090e942444e492c002e986b0984d",
       "version_major": 2,
       "version_minor": 0
      },
      "text/plain": [
       "HBox(children=(FloatProgress(value=0.0, max=3179.0), HTML(value='')))"
      ]
     },
     "metadata": {},
     "output_type": "display_data"
    },
    {
     "name": "stdout",
     "output_type": "stream",
     "text": [
      "\n"
     ]
    },
    {
     "data": {
      "application/vnd.jupyter.widget-view+json": {
       "model_id": "29ce6b2eff034a18ae896f7c9b1202f2",
       "version_major": 2,
       "version_minor": 0
      },
      "text/plain": [
       "HBox(children=(FloatProgress(value=0.0, max=3179.0), HTML(value='')))"
      ]
     },
     "metadata": {},
     "output_type": "display_data"
    },
    {
     "name": "stdout",
     "output_type": "stream",
     "text": [
      "\n"
     ]
    },
    {
     "data": {
      "application/vnd.jupyter.widget-view+json": {
       "model_id": "9b8f05d8a11d4497b370ec3ae8600a82",
       "version_major": 2,
       "version_minor": 0
      },
      "text/plain": [
       "HBox(children=(FloatProgress(value=0.0, max=3179.0), HTML(value='')))"
      ]
     },
     "metadata": {},
     "output_type": "display_data"
    },
    {
     "name": "stdout",
     "output_type": "stream",
     "text": [
      "\n"
     ]
    },
    {
     "data": {
      "application/vnd.jupyter.widget-view+json": {
       "model_id": "77d8cad1cc974bccac1deae7a1241d71",
       "version_major": 2,
       "version_minor": 0
      },
      "text/plain": [
       "HBox(children=(FloatProgress(value=0.0, max=3179.0), HTML(value='')))"
      ]
     },
     "metadata": {},
     "output_type": "display_data"
    },
    {
     "name": "stdout",
     "output_type": "stream",
     "text": [
      "\n"
     ]
    },
    {
     "data": {
      "application/vnd.jupyter.widget-view+json": {
       "model_id": "6d1618a4810747feba8562f44a305b71",
       "version_major": 2,
       "version_minor": 0
      },
      "text/plain": [
       "HBox(children=(FloatProgress(value=0.0, max=3179.0), HTML(value='')))"
      ]
     },
     "metadata": {},
     "output_type": "display_data"
    },
    {
     "name": "stdout",
     "output_type": "stream",
     "text": [
      "\n"
     ]
    },
    {
     "data": {
      "application/vnd.jupyter.widget-view+json": {
       "model_id": "3a3e04958ba5414b84fa1415922aa025",
       "version_major": 2,
       "version_minor": 0
      },
      "text/plain": [
       "HBox(children=(FloatProgress(value=0.0, max=3179.0), HTML(value='')))"
      ]
     },
     "metadata": {},
     "output_type": "display_data"
    },
    {
     "name": "stdout",
     "output_type": "stream",
     "text": [
      "\n"
     ]
    },
    {
     "data": {
      "application/vnd.jupyter.widget-view+json": {
       "model_id": "9c53334ce92649ff99a06bd70dcae67a",
       "version_major": 2,
       "version_minor": 0
      },
      "text/plain": [
       "HBox(children=(FloatProgress(value=0.0, max=3179.0), HTML(value='')))"
      ]
     },
     "metadata": {},
     "output_type": "display_data"
    },
    {
     "name": "stdout",
     "output_type": "stream",
     "text": [
      "\n"
     ]
    },
    {
     "data": {
      "application/vnd.jupyter.widget-view+json": {
       "model_id": "fc0df071fd58437b98247f496e44ad93",
       "version_major": 2,
       "version_minor": 0
      },
      "text/plain": [
       "HBox(children=(FloatProgress(value=0.0, max=3179.0), HTML(value='')))"
      ]
     },
     "metadata": {},
     "output_type": "display_data"
    },
    {
     "name": "stdout",
     "output_type": "stream",
     "text": [
      "\n"
     ]
    },
    {
     "data": {
      "application/vnd.jupyter.widget-view+json": {
       "model_id": "32ba7bcff034474aa7335c4b48653877",
       "version_major": 2,
       "version_minor": 0
      },
      "text/plain": [
       "HBox(children=(FloatProgress(value=0.0, max=3179.0), HTML(value='')))"
      ]
     },
     "metadata": {},
     "output_type": "display_data"
    },
    {
     "name": "stdout",
     "output_type": "stream",
     "text": [
      "\n"
     ]
    },
    {
     "data": {
      "application/vnd.jupyter.widget-view+json": {
       "model_id": "5e4688ef2bde406797e2ba4907cdd802",
       "version_major": 2,
       "version_minor": 0
      },
      "text/plain": [
       "HBox(children=(FloatProgress(value=0.0, max=3179.0), HTML(value='')))"
      ]
     },
     "metadata": {},
     "output_type": "display_data"
    },
    {
     "name": "stdout",
     "output_type": "stream",
     "text": [
      "\n"
     ]
    },
    {
     "data": {
      "application/vnd.jupyter.widget-view+json": {
       "model_id": "4bc996258cf2469eb82b264ec67b12b1",
       "version_major": 2,
       "version_minor": 0
      },
      "text/plain": [
       "HBox(children=(FloatProgress(value=0.0, max=3179.0), HTML(value='')))"
      ]
     },
     "metadata": {},
     "output_type": "display_data"
    },
    {
     "name": "stdout",
     "output_type": "stream",
     "text": [
      "\n"
     ]
    },
    {
     "data": {
      "application/vnd.jupyter.widget-view+json": {
       "model_id": "6950c95e7a30455d843fed71356d9192",
       "version_major": 2,
       "version_minor": 0
      },
      "text/plain": [
       "HBox(children=(FloatProgress(value=0.0, max=3179.0), HTML(value='')))"
      ]
     },
     "metadata": {},
     "output_type": "display_data"
    },
    {
     "name": "stdout",
     "output_type": "stream",
     "text": [
      "\n"
     ]
    },
    {
     "data": {
      "application/vnd.jupyter.widget-view+json": {
       "model_id": "a39e36cf70194291bd6befc1d31b9e85",
       "version_major": 2,
       "version_minor": 0
      },
      "text/plain": [
       "HBox(children=(FloatProgress(value=0.0, max=3179.0), HTML(value='')))"
      ]
     },
     "metadata": {},
     "output_type": "display_data"
    },
    {
     "name": "stdout",
     "output_type": "stream",
     "text": [
      "\n"
     ]
    },
    {
     "data": {
      "application/vnd.jupyter.widget-view+json": {
       "model_id": "0d92c20ff3a84e4995d2bbfa969d2c7d",
       "version_major": 2,
       "version_minor": 0
      },
      "text/plain": [
       "HBox(children=(FloatProgress(value=0.0, max=3179.0), HTML(value='')))"
      ]
     },
     "metadata": {},
     "output_type": "display_data"
    },
    {
     "name": "stdout",
     "output_type": "stream",
     "text": [
      "\n"
     ]
    },
    {
     "data": {
      "application/vnd.jupyter.widget-view+json": {
       "model_id": "e8f0405c44144bd18e66e71674267f32",
       "version_major": 2,
       "version_minor": 0
      },
      "text/plain": [
       "HBox(children=(FloatProgress(value=0.0, max=3179.0), HTML(value='')))"
      ]
     },
     "metadata": {},
     "output_type": "display_data"
    },
    {
     "name": "stdout",
     "output_type": "stream",
     "text": [
      "\n"
     ]
    },
    {
     "data": {
      "application/vnd.jupyter.widget-view+json": {
       "model_id": "def1e28a6a8e40c599c45dac14a9ac20",
       "version_major": 2,
       "version_minor": 0
      },
      "text/plain": [
       "HBox(children=(FloatProgress(value=0.0, max=3179.0), HTML(value='')))"
      ]
     },
     "metadata": {},
     "output_type": "display_data"
    },
    {
     "name": "stdout",
     "output_type": "stream",
     "text": [
      "\n"
     ]
    },
    {
     "data": {
      "application/vnd.jupyter.widget-view+json": {
       "model_id": "69a2eb6a493245669bc8aaee2842264c",
       "version_major": 2,
       "version_minor": 0
      },
      "text/plain": [
       "HBox(children=(FloatProgress(value=0.0, max=3179.0), HTML(value='')))"
      ]
     },
     "metadata": {},
     "output_type": "display_data"
    },
    {
     "name": "stdout",
     "output_type": "stream",
     "text": [
      "\n",
      "\n"
     ]
    }
   ],
   "source": [
    "I = np.ones((g.number_of_edges(), len(epicenters), len(magnitudes)))\n",
    "for i, e in tqdm(enumerate(g.edges), total=g.number_of_edges()):\n",
    "    edge_points = [tuple(p.values()) for p in g.edges[e]['points']['point']]\n",
    "    l = LineString(edge_points)\n",
    "    for j, epicenter in tqdm(enumerate(epicenters), total=len(epicenters)):\n",
    "        p = Point(epicenter)\n",
    "        nearest_point = nearest_points(l, p)[0].coords[0]\n",
    "        R = distance(lonlat(*epicenter), lonlat(*nearest_point)).km\n",
    "        for k, M in enumerate(magnitudes):\n",
    "            intensity = intensity_europe(np.float(M), R)\n",
    "            if intensity > 1.0:\n",
    "                I[i,j,k] = intensity"
   ]
  },
  {
   "cell_type": "code",
   "execution_count": 28,
   "metadata": {},
   "outputs": [],
   "source": [
    "np.save('intensities/italy_ds8.npy', I)"
   ]
  },
  {
   "cell_type": "code",
   "execution_count": null,
   "metadata": {
    "tags": []
   },
   "outputs": [],
   "source": [
    "def remains_connected(g, srlg):\n",
    "    g.remove_edges_from(srlg)\n",
    "    return nx.is_connected(g.to_undirected())\n",
    "\n",
    "def get_minimal_cut_SRLGs(PSRLG_file)\n",
    "    xtree = ET.parse(PSRLG_file)\n",
    "    xroot = xtree.getroot()\n",
    "    cut_srlgs = []\n",
    "    for fs in tqdm(xroot.iter('Failure_State'), total=len(xroot.findall('Failure_State'))):\n",
    "        # (edge_id, node_id, node_id)\n",
    "        srlg = set([ (int(edge[1]), int(edge[2]), 0) if edge[0] != '24' else (int(edge[1]), int(edge[2]), 1) for edge in re.findall(r\"(\\d+):\\((\\d+)\\D+(\\d+)\\D+\\)\", fs.find('Edges').text)])\n",
    "        if not remains_connected(g.copy(), srlg):\n",
    "            added = False\n",
    "            for i, s in tqdm(enumerate(cut_srlgs), total=len(cut_srlgs)):\n",
    "                if srlg.issubset(s):\n",
    "                    cut_srlgs[i] = srlg\n",
    "                    added = True\n",
    "                    break\n",
    "                elif srlg.issuperset(s):\n",
    "                    added = True\n",
    "                    break\n",
    "            if not cut_srlgs or not added:\n",
    "                cut_srlgs.append(srlg)\n",
    "        return cut_srlgs\n",
    "\n",
    "cut_srlgs = get_minimal_cut_SRLGs('PSRLGs/whole_graph_simple_VI_upper_big_grid.xml')"
   ]
  },
  {
   "cell_type": "code",
   "execution_count": null,
   "metadata": {},
   "outputs": [],
   "source": [
    "# Write\n",
    "with open('min_cut_SRLGs/italy_corrected', 'wb') as fp:\n",
    "    pickle.dump(cut_srlgs, fp)\n",
    "\n",
    "# Read\n",
    "#with open ('min_cut_SRLGs/italy', 'rb') as fp:\n",
    "#    cut_srlgs = pickle.load(fp)"
   ]
  },
  {
   "cell_type": "code",
   "execution_count": null,
   "metadata": {},
   "outputs": [],
   "source": [
    "edge_list = list(g.edges)\n",
    "for idx,srlg in enumerate(cut_srlgs):\n",
    "    for l in srlg:\n",
    "        if l not in edge_list:\n",
    "            cut_srlgs[idx].discard(l)\n",
    "            cut_srlgs[idx].add((l[1],l[0],l[2]))"
   ]
  },
  {
   "cell_type": "code",
   "execution_count": null,
   "metadata": {},
   "outputs": [],
   "source": [
    "cut_srlgs"
   ]
  }
 ],
 "metadata": {
  "kernelspec": {
   "display_name": "Python 3",
   "language": "python",
   "name": "python3"
  },
  "language_info": {
   "codemirror_mode": {
    "name": "ipython",
    "version": 3
   },
   "file_extension": ".py",
   "mimetype": "text/x-python",
   "name": "python",
   "nbconvert_exporter": "python",
   "pygments_lexer": "ipython3",
   "version": "3.7.6"
  }
 },
 "nbformat": 4,
 "nbformat_minor": 4
}
