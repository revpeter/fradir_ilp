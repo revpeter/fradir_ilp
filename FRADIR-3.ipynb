{
 "cells": [
  {
   "cell_type": "code",
   "execution_count": 22,
   "metadata": {},
   "outputs": [],
   "source": [
    "import pandas as pd\n",
    "import numpy as np\n",
    "import networkx as nx\n",
    "from shapely.geometry import Point, LineString\n",
    "from shapely.ops import nearest_points\n",
    "from geopy.distance import distance, lonlat\n",
    "from tqdm.notebook import tqdm\n",
    "import xml.etree.ElementTree as ET\n",
    "from ast import literal_eval\n",
    "import re\n",
    "import pickle\n"
   ]
  },
  {
   "cell_type": "code",
   "execution_count": null,
   "metadata": {},
   "outputs": [],
   "source": [
    "# Creating the DataFrame of the earthquakes' probabilities\n",
    "df = pd.read_table('incremental_annual_rates/incremental_annual_rates_USA.txt', sep='\\s+', header=None)\n",
    "\n",
    "df.columns = ['Lat', 'Long'] + [str(np.around(x,1)) for x in np.arange(4.6, 8.7, 0.1)]\n",
    "df.drop(df.columns[42:], axis=1, inplace=True)\n",
    "df.fillna(value=0.0, inplace=True)\n",
    "df = df[df['4.6'] != 0.0]\n",
    "df.rename(columns={'Lat':'Long', 'Long':'Lat'}, inplace=True)\n",
    "\n",
    "df.to_csv('incremental_annual_rates/incremental_annual_rates_italy_without_zeros.csv', index=False)"
   ]
  },
  {
   "cell_type": "code",
   "execution_count": null,
   "metadata": {},
   "outputs": [],
   "source": [
    "df = pd.read_csv('earthquake_probabilities/italy.csv')\n",
    "df.head(2)"
   ]
  },
  {
   "cell_type": "code",
   "execution_count": null,
   "metadata": {},
   "outputs": [],
   "source": [
    "g = nx.read_gml('networks/italy.gml', label='id')"
   ]
  },
  {
   "cell_type": "code",
   "execution_count": null,
   "metadata": {
    "tags": []
   },
   "outputs": [],
   "source": [
    "def intensity_europe(M, R):\n",
    "    h = 3.91\n",
    "    D = np.sqrt(h**2 + R**2)\n",
    "    return 1.621*M - 1.343 - 0.0086*(D-h) - 1.037*(np.log(D)-np.log(h))"
   ]
  },
  {
   "cell_type": "code",
   "execution_count": null,
   "metadata": {},
   "outputs": [],
   "source": [
    "l = [tuple(d.values()) for d in g.edges[('Rome', 'Pescara', 0)]['points']['point']]\n",
    "edge = LineString(l)\n",
    "point = Point(10.8,48.3)\n",
    "nearest_point = nearest_points(edge, point)[0]\n",
    "nearest_point.coords[:]"
   ]
  },
  {
   "cell_type": "code",
   "execution_count": null,
   "metadata": {
    "tags": []
   },
   "outputs": [],
   "source": [
    "for e in g.edges:\n",
    "    edge_points = [tuple(p.values()) for p in g.edges[e]['points']['point']]\n",
    "    edge = LineString(edge_points)\n",
    "    epicenter = Point(10.5,48.2)\n",
    "    nearest_point = nearest_points(edge, epicenter)[0].coords[0]\n",
    "    print(nearest_point)\n",
    "    print(epicenter.coords[0])\n",
    "    dist = distance(lonlat(*epicenter.coords[0]), lonlat(*nearest_point)).km\n",
    "    intensity = intensity_europe(8.6, dist)\n",
    "    print(\"%.1f\" % intensity)"
   ]
  },
  {
   "cell_type": "code",
   "execution_count": null,
   "metadata": {},
   "outputs": [],
   "source": [
    "#df['Epicenter'] = list(zip(df.Lat, df.Long))\n",
    "df.insert(loc=0, column='Epicenter', value=list(zip(df.Lat, df.Long)))\n",
    "df.set_index('Epicenter', inplace=True)\n",
    "df.drop(['Lat', 'Long'], axis=1, inplace=True)"
   ]
  },
  {
   "cell_type": "code",
   "execution_count": null,
   "metadata": {},
   "outputs": [],
   "source": [
    "df.head()"
   ]
  },
  {
   "cell_type": "code",
   "execution_count": null,
   "metadata": {},
   "outputs": [],
   "source": [
    "epicenters = df.index.to_numpy()\n",
    "magnitudes = df.columns.to_numpy()"
   ]
  },
  {
   "cell_type": "code",
   "execution_count": null,
   "metadata": {
    "tags": []
   },
   "outputs": [],
   "source": [
    "I = np.ones((g.number_of_edges(), len(epicenters[:2]), len(magnitudes)))\n",
    "for i, e in tqdm(enumerate(g.edges), total=g.number_of_edges()):\n",
    "    edge_points = [tuple(p.values()) for p in g.edges[e]['points']['point']]\n",
    "    l = LineString(edge_points)\n",
    "    for j, epicenter in tqdm(enumerate(epicenters[:2]), total=len(epicenters)):\n",
    "        p = Point(epicenter)\n",
    "        nearest_point = nearest_points(l, p)[0].coords[0]\n",
    "        R = distance(lonlat(*epicenter), lonlat(*nearest_point)).km\n",
    "        for k, M in enumerate(magnitudes):\n",
    "            intensity = intensity_europe(np.float(M), R)\n",
    "            if intensity > 1.0:\n",
    "                I[i,j,k] = intensity"
   ]
  },
  {
   "cell_type": "code",
   "execution_count": null,
   "metadata": {},
   "outputs": [],
   "source": [
    "I[I>4]"
   ]
  },
  {
   "cell_type": "code",
   "execution_count": null,
   "metadata": {
    "tags": []
   },
   "outputs": [],
   "source": [
    "def remains_connected(g, srlg):\n",
    "    g.remove_edges_from(srlg)\n",
    "    return nx.is_connected(g.to_undirected())\n",
    "\n",
    "def get_minimal_cut_SRLGs(PSRLG_file)\n",
    "    xtree = ET.parse(PSRLG_file)\n",
    "    xroot = xtree.getroot()\n",
    "    cut_srlgs = []\n",
    "    for fs in tqdm(xroot.iter('Failure_State'), total=len(xroot.findall('Failure_State'))):\n",
    "        # (edge_id, node_id, node_id)\n",
    "        srlg = set([ (int(edge[1]), int(edge[2]), 0) if edge[0] != '24' else (int(edge[1]), int(edge[2]), 1) for edge in re.findall(r\"(\\d+):\\((\\d+)\\D+(\\d+)\\D+\\)\", fs.find('Edges').text)])\n",
    "        if not remains_connected(g.copy(), srlg):\n",
    "            added = False\n",
    "            for i, s in tqdm(enumerate(cut_srlgs), total=len(cut_srlgs)):\n",
    "                if srlg.issubset(s):\n",
    "                    cut_srlgs[i] = srlg\n",
    "                    added = True\n",
    "                    break\n",
    "                elif srlg.issuperset(s):\n",
    "                    added = True\n",
    "                    break\n",
    "            if not cut_srlgs or not added:\n",
    "                cut_srlgs.append(srlg)\n",
    "        return cut_srlgs\n",
    "\n",
    "cut_srlgs = get_minimal_cut_SRLGs('PSRLGs/whole_graph_simple_VI_upper_big_grid.xml')"
   ]
  },
  {
   "cell_type": "code",
   "execution_count": 23,
   "metadata": {},
   "outputs": [],
   "source": [
    "# Write\n",
    "with open('min_cut_SRLGs/italy', 'wb') as fp:\n",
    "    pickle.dump(cut_srlgs, fp)\n",
    "\n",
    "# Read\n",
    "#with open ('min_cut_SRLGs/italy', 'rb') as fp:\n",
    "#    cut_srlgs = pickle.load(fp)"
   ]
  },
  {
   "cell_type": "code",
   "execution_count": 21,
   "metadata": {},
   "outputs": [
    {
     "output_type": "execute_result",
     "data": {
      "text/plain": "[{(4, 5, 0), (18, 4, 0)},\n {(14, 13, 0), (15, 14, 0)},\n {(6, 9, 0), (8, 15, 0), (15, 22, 0)},\n {(12, 9, 0), (15, 12, 0)},\n {(0, 7, 0), (0, 24, 0), (1, 0, 0), (20, 0, 0)},\n {(0, 7, 0), (6, 7, 0), (7, 8, 0)},\n {(1, 8, 0), (7, 8, 0), (8, 15, 0), (8, 16, 0)},\n {(18, 2, 0), (18, 3, 0), (18, 4, 0), (24, 18, 0)},\n {(2, 1, 0), (2, 24, 0), (18, 2, 0)},\n {(19, 5, 0), (19, 21, 0), (19, 21, 1)},\n {(0, 7, 0), (1, 0, 0), (1, 8, 0), (6, 20, 0)},\n {(19, 21, 0), (19, 21, 1), (21, 20, 0)},\n {(8, 16, 0), (15, 22, 0)},\n {(15, 22, 0), (22, 16, 0), (22, 17, 0)},\n {(23, 17, 0)},\n {(6, 20, 0), (20, 0, 0), (21, 20, 0)},\n {(0, 7, 0), (1, 8, 0), (6, 7, 0), (7, 8, 0), (8, 16, 0)},\n {(0, 24, 0), (2, 24, 0), (24, 18, 0)},\n {(1, 0, 0), (1, 8, 0), (2, 1, 0)},\n {(8, 16, 0), (16, 17, 0), (22, 16, 0)},\n {(16, 17, 0), (22, 17, 0)},\n {(6, 7, 0), (6, 9, 0), (6, 20, 0)},\n {(6, 7, 0), (6, 9, 0), (6, 20, 0), (7, 8, 0)},\n {(10, 11, 0), (11, 13, 0)},\n {(6, 9, 0), (9, 10, 0), (12, 9, 0)},\n {(9, 10, 0), (10, 11, 0)},\n {(4, 5, 0), (5, 3, 0), (19, 5, 0)},\n {(8, 15, 0), (15, 12, 0), (15, 14, 0), (15, 22, 0)},\n {(5, 3, 0), (18, 3, 0)},\n {(5, 3, 0), (18, 2, 0), (18, 4, 0), (24, 18, 0)},\n {(5, 3, 0), (18, 3, 0), (18, 4, 0)},\n {(11, 13, 0), (14, 13, 0)}]"
     },
     "metadata": {},
     "execution_count": 21
    }
   ],
   "source": [
    "cut_srlgs"
   ]
  }
 ],
 "metadata": {
  "language_info": {
   "codemirror_mode": {
    "name": "ipython",
    "version": 3
   },
   "file_extension": ".py",
   "mimetype": "text/x-python",
   "name": "python",
   "nbconvert_exporter": "python",
   "pygments_lexer": "ipython3",
   "version": "3.7.6-final"
  },
  "orig_nbformat": 2,
  "kernelspec": {
   "name": "python3",
   "display_name": "Python 3"
  }
 },
 "nbformat": 4,
 "nbformat_minor": 2
}