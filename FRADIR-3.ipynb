{
 "cells": [
  {
   "cell_type": "code",
   "execution_count": 1,
   "metadata": {},
   "outputs": [],
   "source": [
    "from backend import *\n",
    "from tqdm.notebook import tqdm\n",
    "from shapely.geometry import Point, LineString\n",
    "from shapely.ops import nearest_points\n",
    "from itertools import combinations\n",
    "from random import sample\n",
    "import matplotlib.pyplot as plt"
   ]
  },
  {
   "cell_type": "markdown",
   "metadata": {},
   "source": [
    "# Preprocessing Earthquake probabilities"
   ]
  },
  {
   "cell_type": "code",
   "execution_count": 38,
   "metadata": {},
   "outputs": [],
   "source": [
    "# Creating the DataFrame of the earthquakes' probabilities\n",
    "#df = pd.read_table('../incremental_annual_rates/incremental_annual_rates_USA.txt', sep='\\s+', header=None)\n",
    "df = pd.read_table('/home/mogyi/Projects/FRADIR/PSRLG_JSAC2020_toMogyi/seismic_data/incremental_annual_rates/incremental_annual_rates_europe.txt', sep='\\s+', header=None)\n",
    "\n",
    "df.columns = ['Long', 'Lat'] + [str(np.around(x,1)) for x in np.arange(4.6, 8.7, 0.1)]\n",
    "#df.drop(df.columns[42:], axis=1, inplace=True)\n",
    "df.fillna(value=0.0, inplace=True)\n",
    "df = df[df['4.6'] != 0.0]\n",
    "\n",
    "#df.to_csv('incremental_annual_rates/incremental_annual_rates_italy_without_zeros.csv', index=False)"
   ]
  },
  {
   "cell_type": "code",
   "execution_count": 50,
   "metadata": {},
   "outputs": [],
   "source": [
    "pd.options.display.float_format = '{:,.10f}'.format"
   ]
  },
  {
   "cell_type": "code",
   "execution_count": 19,
   "metadata": {},
   "outputs": [
    {
     "data": {
      "text/html": [
       "<div>\n",
       "<style scoped>\n",
       "    .dataframe tbody tr th:only-of-type {\n",
       "        vertical-align: middle;\n",
       "    }\n",
       "\n",
       "    .dataframe tbody tr th {\n",
       "        vertical-align: top;\n",
       "    }\n",
       "\n",
       "    .dataframe thead th {\n",
       "        text-align: right;\n",
       "    }\n",
       "</style>\n",
       "<table border=\"1\" class=\"dataframe\">\n",
       "  <thead>\n",
       "    <tr style=\"text-align: right;\">\n",
       "      <th></th>\n",
       "      <th>Long</th>\n",
       "      <th>Lat</th>\n",
       "      <th>4.6</th>\n",
       "      <th>4.7</th>\n",
       "      <th>4.8</th>\n",
       "      <th>4.9</th>\n",
       "      <th>5.0</th>\n",
       "      <th>5.1</th>\n",
       "      <th>5.2</th>\n",
       "      <th>5.3</th>\n",
       "      <th>...</th>\n",
       "      <th>7.7</th>\n",
       "      <th>7.8</th>\n",
       "      <th>7.9</th>\n",
       "      <th>8.0</th>\n",
       "      <th>8.1</th>\n",
       "      <th>8.2</th>\n",
       "      <th>8.3</th>\n",
       "      <th>8.4</th>\n",
       "      <th>8.5</th>\n",
       "      <th>8.6</th>\n",
       "    </tr>\n",
       "  </thead>\n",
       "  <tbody>\n",
       "    <tr>\n",
       "      <th>count</th>\n",
       "      <td>260980.000000</td>\n",
       "      <td>260980.000000</td>\n",
       "      <td>260980.000000</td>\n",
       "      <td>260980.000000</td>\n",
       "      <td>260980.000000</td>\n",
       "      <td>260980.000000</td>\n",
       "      <td>260980.000000</td>\n",
       "      <td>260980.000000</td>\n",
       "      <td>260980.000000</td>\n",
       "      <td>260980.000000</td>\n",
       "      <td>...</td>\n",
       "      <td>2.609800e+05</td>\n",
       "      <td>2.609800e+05</td>\n",
       "      <td>2.609800e+05</td>\n",
       "      <td>2.609800e+05</td>\n",
       "      <td>2.609800e+05</td>\n",
       "      <td>2.609800e+05</td>\n",
       "      <td>2.609800e+05</td>\n",
       "      <td>2.609800e+05</td>\n",
       "      <td>2.609800e+05</td>\n",
       "      <td>2.609800e+05</td>\n",
       "    </tr>\n",
       "    <tr>\n",
       "      <th>mean</th>\n",
       "      <td>3.066856</td>\n",
       "      <td>52.743007</td>\n",
       "      <td>0.000047</td>\n",
       "      <td>0.000038</td>\n",
       "      <td>0.000031</td>\n",
       "      <td>0.000025</td>\n",
       "      <td>0.000021</td>\n",
       "      <td>0.000017</td>\n",
       "      <td>0.000014</td>\n",
       "      <td>0.000011</td>\n",
       "      <td>...</td>\n",
       "      <td>5.012261e-08</td>\n",
       "      <td>3.764656e-08</td>\n",
       "      <td>2.755767e-08</td>\n",
       "      <td>1.979079e-08</td>\n",
       "      <td>1.397042e-08</td>\n",
       "      <td>1.006591e-08</td>\n",
       "      <td>7.184459e-09</td>\n",
       "      <td>4.985056e-09</td>\n",
       "      <td>3.368074e-09</td>\n",
       "      <td>2.230056e-09</td>\n",
       "    </tr>\n",
       "    <tr>\n",
       "      <th>std</th>\n",
       "      <td>19.402349</td>\n",
       "      <td>11.917344</td>\n",
       "      <td>0.000184</td>\n",
       "      <td>0.000149</td>\n",
       "      <td>0.000121</td>\n",
       "      <td>0.000099</td>\n",
       "      <td>0.000080</td>\n",
       "      <td>0.000065</td>\n",
       "      <td>0.000053</td>\n",
       "      <td>0.000043</td>\n",
       "      <td>...</td>\n",
       "      <td>3.393354e-07</td>\n",
       "      <td>2.777078e-07</td>\n",
       "      <td>2.250829e-07</td>\n",
       "      <td>1.813262e-07</td>\n",
       "      <td>1.456852e-07</td>\n",
       "      <td>1.183677e-07</td>\n",
       "      <td>9.564705e-08</td>\n",
       "      <td>7.677998e-08</td>\n",
       "      <td>6.165406e-08</td>\n",
       "      <td>4.908171e-08</td>\n",
       "    </tr>\n",
       "    <tr>\n",
       "      <th>min</th>\n",
       "      <td>-31.050000</td>\n",
       "      <td>30.650000</td>\n",
       "      <td>0.000001</td>\n",
       "      <td>0.000000</td>\n",
       "      <td>0.000000</td>\n",
       "      <td>0.000000</td>\n",
       "      <td>0.000000</td>\n",
       "      <td>0.000000</td>\n",
       "      <td>0.000000</td>\n",
       "      <td>0.000000</td>\n",
       "      <td>...</td>\n",
       "      <td>0.000000e+00</td>\n",
       "      <td>0.000000e+00</td>\n",
       "      <td>0.000000e+00</td>\n",
       "      <td>0.000000e+00</td>\n",
       "      <td>0.000000e+00</td>\n",
       "      <td>0.000000e+00</td>\n",
       "      <td>0.000000e+00</td>\n",
       "      <td>0.000000e+00</td>\n",
       "      <td>0.000000e+00</td>\n",
       "      <td>0.000000e+00</td>\n",
       "    </tr>\n",
       "    <tr>\n",
       "      <th>25%</th>\n",
       "      <td>-13.450000</td>\n",
       "      <td>42.250000</td>\n",
       "      <td>0.000001</td>\n",
       "      <td>0.000001</td>\n",
       "      <td>0.000001</td>\n",
       "      <td>0.000001</td>\n",
       "      <td>0.000001</td>\n",
       "      <td>0.000000</td>\n",
       "      <td>0.000000</td>\n",
       "      <td>0.000000</td>\n",
       "      <td>...</td>\n",
       "      <td>0.000000e+00</td>\n",
       "      <td>0.000000e+00</td>\n",
       "      <td>0.000000e+00</td>\n",
       "      <td>0.000000e+00</td>\n",
       "      <td>0.000000e+00</td>\n",
       "      <td>0.000000e+00</td>\n",
       "      <td>0.000000e+00</td>\n",
       "      <td>0.000000e+00</td>\n",
       "      <td>0.000000e+00</td>\n",
       "      <td>0.000000e+00</td>\n",
       "    </tr>\n",
       "    <tr>\n",
       "      <th>50%</th>\n",
       "      <td>2.850000</td>\n",
       "      <td>52.350000</td>\n",
       "      <td>0.000004</td>\n",
       "      <td>0.000003</td>\n",
       "      <td>0.000003</td>\n",
       "      <td>0.000002</td>\n",
       "      <td>0.000002</td>\n",
       "      <td>0.000001</td>\n",
       "      <td>0.000001</td>\n",
       "      <td>0.000001</td>\n",
       "      <td>...</td>\n",
       "      <td>0.000000e+00</td>\n",
       "      <td>0.000000e+00</td>\n",
       "      <td>0.000000e+00</td>\n",
       "      <td>0.000000e+00</td>\n",
       "      <td>0.000000e+00</td>\n",
       "      <td>0.000000e+00</td>\n",
       "      <td>0.000000e+00</td>\n",
       "      <td>0.000000e+00</td>\n",
       "      <td>0.000000e+00</td>\n",
       "      <td>0.000000e+00</td>\n",
       "    </tr>\n",
       "    <tr>\n",
       "      <th>75%</th>\n",
       "      <td>19.450000</td>\n",
       "      <td>62.750000</td>\n",
       "      <td>0.000018</td>\n",
       "      <td>0.000015</td>\n",
       "      <td>0.000012</td>\n",
       "      <td>0.000010</td>\n",
       "      <td>0.000008</td>\n",
       "      <td>0.000006</td>\n",
       "      <td>0.000005</td>\n",
       "      <td>0.000004</td>\n",
       "      <td>...</td>\n",
       "      <td>0.000000e+00</td>\n",
       "      <td>0.000000e+00</td>\n",
       "      <td>0.000000e+00</td>\n",
       "      <td>0.000000e+00</td>\n",
       "      <td>0.000000e+00</td>\n",
       "      <td>0.000000e+00</td>\n",
       "      <td>0.000000e+00</td>\n",
       "      <td>0.000000e+00</td>\n",
       "      <td>0.000000e+00</td>\n",
       "      <td>0.000000e+00</td>\n",
       "    </tr>\n",
       "    <tr>\n",
       "      <th>max</th>\n",
       "      <td>45.050000</td>\n",
       "      <td>74.950000</td>\n",
       "      <td>0.016320</td>\n",
       "      <td>0.013266</td>\n",
       "      <td>0.010783</td>\n",
       "      <td>0.008765</td>\n",
       "      <td>0.007124</td>\n",
       "      <td>0.005791</td>\n",
       "      <td>0.004707</td>\n",
       "      <td>0.003826</td>\n",
       "      <td>...</td>\n",
       "      <td>2.600000e-05</td>\n",
       "      <td>2.200000e-05</td>\n",
       "      <td>1.700000e-05</td>\n",
       "      <td>1.400000e-05</td>\n",
       "      <td>1.200000e-05</td>\n",
       "      <td>9.000000e-06</td>\n",
       "      <td>8.000000e-06</td>\n",
       "      <td>6.000000e-06</td>\n",
       "      <td>5.000000e-06</td>\n",
       "      <td>4.000000e-06</td>\n",
       "    </tr>\n",
       "  </tbody>\n",
       "</table>\n",
       "<p>8 rows × 43 columns</p>\n",
       "</div>"
      ],
      "text/plain": [
       "                Long            Lat            4.6            4.7  \\\n",
       "count  260980.000000  260980.000000  260980.000000  260980.000000   \n",
       "mean        3.066856      52.743007       0.000047       0.000038   \n",
       "std        19.402349      11.917344       0.000184       0.000149   \n",
       "min       -31.050000      30.650000       0.000001       0.000000   \n",
       "25%       -13.450000      42.250000       0.000001       0.000001   \n",
       "50%         2.850000      52.350000       0.000004       0.000003   \n",
       "75%        19.450000      62.750000       0.000018       0.000015   \n",
       "max        45.050000      74.950000       0.016320       0.013266   \n",
       "\n",
       "                 4.8            4.9            5.0            5.1  \\\n",
       "count  260980.000000  260980.000000  260980.000000  260980.000000   \n",
       "mean        0.000031       0.000025       0.000021       0.000017   \n",
       "std         0.000121       0.000099       0.000080       0.000065   \n",
       "min         0.000000       0.000000       0.000000       0.000000   \n",
       "25%         0.000001       0.000001       0.000001       0.000000   \n",
       "50%         0.000003       0.000002       0.000002       0.000001   \n",
       "75%         0.000012       0.000010       0.000008       0.000006   \n",
       "max         0.010783       0.008765       0.007124       0.005791   \n",
       "\n",
       "                 5.2            5.3  ...           7.7           7.8  \\\n",
       "count  260980.000000  260980.000000  ...  2.609800e+05  2.609800e+05   \n",
       "mean        0.000014       0.000011  ...  5.012261e-08  3.764656e-08   \n",
       "std         0.000053       0.000043  ...  3.393354e-07  2.777078e-07   \n",
       "min         0.000000       0.000000  ...  0.000000e+00  0.000000e+00   \n",
       "25%         0.000000       0.000000  ...  0.000000e+00  0.000000e+00   \n",
       "50%         0.000001       0.000001  ...  0.000000e+00  0.000000e+00   \n",
       "75%         0.000005       0.000004  ...  0.000000e+00  0.000000e+00   \n",
       "max         0.004707       0.003826  ...  2.600000e-05  2.200000e-05   \n",
       "\n",
       "                7.9           8.0           8.1           8.2           8.3  \\\n",
       "count  2.609800e+05  2.609800e+05  2.609800e+05  2.609800e+05  2.609800e+05   \n",
       "mean   2.755767e-08  1.979079e-08  1.397042e-08  1.006591e-08  7.184459e-09   \n",
       "std    2.250829e-07  1.813262e-07  1.456852e-07  1.183677e-07  9.564705e-08   \n",
       "min    0.000000e+00  0.000000e+00  0.000000e+00  0.000000e+00  0.000000e+00   \n",
       "25%    0.000000e+00  0.000000e+00  0.000000e+00  0.000000e+00  0.000000e+00   \n",
       "50%    0.000000e+00  0.000000e+00  0.000000e+00  0.000000e+00  0.000000e+00   \n",
       "75%    0.000000e+00  0.000000e+00  0.000000e+00  0.000000e+00  0.000000e+00   \n",
       "max    1.700000e-05  1.400000e-05  1.200000e-05  9.000000e-06  8.000000e-06   \n",
       "\n",
       "                8.4           8.5           8.6  \n",
       "count  2.609800e+05  2.609800e+05  2.609800e+05  \n",
       "mean   4.985056e-09  3.368074e-09  2.230056e-09  \n",
       "std    7.677998e-08  6.165406e-08  4.908171e-08  \n",
       "min    0.000000e+00  0.000000e+00  0.000000e+00  \n",
       "25%    0.000000e+00  0.000000e+00  0.000000e+00  \n",
       "50%    0.000000e+00  0.000000e+00  0.000000e+00  \n",
       "75%    0.000000e+00  0.000000e+00  0.000000e+00  \n",
       "max    6.000000e-06  5.000000e-06  4.000000e-06  \n",
       "\n",
       "[8 rows x 43 columns]"
      ]
     },
     "execution_count": 19,
     "metadata": {},
     "output_type": "execute_result"
    }
   ],
   "source": [
    "df.describe()"
   ]
  },
  {
   "cell_type": "code",
   "execution_count": null,
   "metadata": {},
   "outputs": [],
   "source": [
    "df = pd.read_csv('../incremental_annual_rates/incremental_annual_rates_USA.csv')\n",
    "df.describe()"
   ]
  },
  {
   "cell_type": "code",
   "execution_count": 6,
   "metadata": {},
   "outputs": [],
   "source": [
    "df = df[df['4.6'] != 0.0]"
   ]
  },
  {
   "cell_type": "code",
   "execution_count": 12,
   "metadata": {},
   "outputs": [],
   "source": [
    "# Delete If no earthquake exist with such magnitude\n",
    "df.drop(labels=['8.5', '8.6'], axis=1, inplace=True)"
   ]
  },
  {
   "cell_type": "code",
   "execution_count": 45,
   "metadata": {},
   "outputs": [
    {
     "name": "stdout",
     "output_type": "stream",
     "text": [
      "6.104395000000004\n"
     ]
    }
   ],
   "source": [
    "# Convert the rates to probabilities\n",
    "prob_matrix = df.drop(['Lat', 'Long'], axis=1).to_numpy()\n",
    "scale = prob_matrix.sum()\n",
    "print(scale)\n",
    "df.iloc[:,2:] = df.iloc[:,2:] / scale\n",
    "\n",
    "#df.to_csv('earthquake_probabilities/italy_short.csv', index=False)"
   ]
  },
  {
   "cell_type": "code",
   "execution_count": 46,
   "metadata": {},
   "outputs": [],
   "source": [
    "df.to_csv('earthquake_probabilities/germany.csv', index=False)"
   ]
  },
  {
   "cell_type": "code",
   "execution_count": 39,
   "metadata": {},
   "outputs": [],
   "source": [
    "df = df[df.Long.between(0,20) & df.Lat.between(43,59)]"
   ]
  },
  {
   "cell_type": "code",
   "execution_count": 42,
   "metadata": {},
   "outputs": [],
   "source": [
    "df.reset_index(drop=True, inplace=True)"
   ]
  },
  {
   "cell_type": "code",
   "execution_count": 44,
   "metadata": {},
   "outputs": [],
   "source": [
    "df.to_csv('../incremental_annual_rates/incremental_annual_rates_germany.txt', sep=' ', index=False)"
   ]
  },
  {
   "cell_type": "code",
   "execution_count": 53,
   "metadata": {},
   "outputs": [
    {
     "name": "stdout",
     "output_type": "stream",
     "text": [
      "Original number of eartquakes: 32000\n",
      "Downsampled number of eartquakes: 5120\n",
      "Ratio: 6.25\n"
     ]
    },
    {
     "data": {
      "text/html": [
       "<div>\n",
       "<style scoped>\n",
       "    .dataframe tbody tr th:only-of-type {\n",
       "        vertical-align: middle;\n",
       "    }\n",
       "\n",
       "    .dataframe tbody tr th {\n",
       "        vertical-align: top;\n",
       "    }\n",
       "\n",
       "    .dataframe thead th {\n",
       "        text-align: right;\n",
       "    }\n",
       "</style>\n",
       "<table border=\"1\" class=\"dataframe\">\n",
       "  <thead>\n",
       "    <tr style=\"text-align: right;\">\n",
       "      <th></th>\n",
       "      <th>Long</th>\n",
       "      <th>Lat</th>\n",
       "      <th>4.6</th>\n",
       "      <th>4.7</th>\n",
       "      <th>4.8</th>\n",
       "      <th>4.9</th>\n",
       "      <th>5.0</th>\n",
       "      <th>5.1</th>\n",
       "      <th>5.2</th>\n",
       "      <th>5.3</th>\n",
       "      <th>...</th>\n",
       "      <th>7.7</th>\n",
       "      <th>7.8</th>\n",
       "      <th>7.9</th>\n",
       "      <th>8.0</th>\n",
       "      <th>8.1</th>\n",
       "      <th>8.2</th>\n",
       "      <th>8.3</th>\n",
       "      <th>8.4</th>\n",
       "      <th>8.5</th>\n",
       "      <th>8.6</th>\n",
       "    </tr>\n",
       "  </thead>\n",
       "  <tbody>\n",
       "    <tr>\n",
       "      <th>0</th>\n",
       "      <td>0.0</td>\n",
       "      <td>43.00</td>\n",
       "      <td>0.000354</td>\n",
       "      <td>0.000288</td>\n",
       "      <td>0.000234</td>\n",
       "      <td>0.000190</td>\n",
       "      <td>0.000154</td>\n",
       "      <td>0.000125</td>\n",
       "      <td>1.020576e-04</td>\n",
       "      <td>8.305491e-05</td>\n",
       "      <td>...</td>\n",
       "      <td>3.276328e-07</td>\n",
       "      <td>3.276328e-07</td>\n",
       "      <td>3.276328e-07</td>\n",
       "      <td>3.276328e-07</td>\n",
       "      <td>3.276328e-07</td>\n",
       "      <td>1.638164e-07</td>\n",
       "      <td>0.0</td>\n",
       "      <td>0.0</td>\n",
       "      <td>0.0</td>\n",
       "      <td>0.0</td>\n",
       "    </tr>\n",
       "    <tr>\n",
       "      <th>1</th>\n",
       "      <td>0.0</td>\n",
       "      <td>43.25</td>\n",
       "      <td>0.000037</td>\n",
       "      <td>0.000030</td>\n",
       "      <td>0.000025</td>\n",
       "      <td>0.000020</td>\n",
       "      <td>0.000017</td>\n",
       "      <td>0.000013</td>\n",
       "      <td>1.064807e-05</td>\n",
       "      <td>8.682269e-06</td>\n",
       "      <td>...</td>\n",
       "      <td>0.000000e+00</td>\n",
       "      <td>0.000000e+00</td>\n",
       "      <td>0.000000e+00</td>\n",
       "      <td>0.000000e+00</td>\n",
       "      <td>0.000000e+00</td>\n",
       "      <td>0.000000e+00</td>\n",
       "      <td>0.0</td>\n",
       "      <td>0.0</td>\n",
       "      <td>0.0</td>\n",
       "      <td>0.0</td>\n",
       "    </tr>\n",
       "    <tr>\n",
       "      <th>2</th>\n",
       "      <td>0.0</td>\n",
       "      <td>43.50</td>\n",
       "      <td>0.000008</td>\n",
       "      <td>0.000006</td>\n",
       "      <td>0.000005</td>\n",
       "      <td>0.000004</td>\n",
       "      <td>0.000003</td>\n",
       "      <td>0.000003</td>\n",
       "      <td>2.293430e-06</td>\n",
       "      <td>1.638164e-06</td>\n",
       "      <td>...</td>\n",
       "      <td>0.000000e+00</td>\n",
       "      <td>0.000000e+00</td>\n",
       "      <td>0.000000e+00</td>\n",
       "      <td>0.000000e+00</td>\n",
       "      <td>0.000000e+00</td>\n",
       "      <td>0.000000e+00</td>\n",
       "      <td>0.0</td>\n",
       "      <td>0.0</td>\n",
       "      <td>0.0</td>\n",
       "      <td>0.0</td>\n",
       "    </tr>\n",
       "    <tr>\n",
       "      <th>3</th>\n",
       "      <td>0.0</td>\n",
       "      <td>43.75</td>\n",
       "      <td>0.000007</td>\n",
       "      <td>0.000005</td>\n",
       "      <td>0.000004</td>\n",
       "      <td>0.000003</td>\n",
       "      <td>0.000003</td>\n",
       "      <td>0.000002</td>\n",
       "      <td>1.965797e-06</td>\n",
       "      <td>1.638164e-06</td>\n",
       "      <td>...</td>\n",
       "      <td>0.000000e+00</td>\n",
       "      <td>0.000000e+00</td>\n",
       "      <td>0.000000e+00</td>\n",
       "      <td>0.000000e+00</td>\n",
       "      <td>0.000000e+00</td>\n",
       "      <td>0.000000e+00</td>\n",
       "      <td>0.0</td>\n",
       "      <td>0.0</td>\n",
       "      <td>0.0</td>\n",
       "      <td>0.0</td>\n",
       "    </tr>\n",
       "    <tr>\n",
       "      <th>4</th>\n",
       "      <td>0.0</td>\n",
       "      <td>44.00</td>\n",
       "      <td>0.000003</td>\n",
       "      <td>0.000003</td>\n",
       "      <td>0.000002</td>\n",
       "      <td>0.000002</td>\n",
       "      <td>0.000001</td>\n",
       "      <td>0.000001</td>\n",
       "      <td>9.828984e-07</td>\n",
       "      <td>6.552656e-07</td>\n",
       "      <td>...</td>\n",
       "      <td>0.000000e+00</td>\n",
       "      <td>0.000000e+00</td>\n",
       "      <td>0.000000e+00</td>\n",
       "      <td>0.000000e+00</td>\n",
       "      <td>0.000000e+00</td>\n",
       "      <td>0.000000e+00</td>\n",
       "      <td>0.0</td>\n",
       "      <td>0.0</td>\n",
       "      <td>0.0</td>\n",
       "      <td>0.0</td>\n",
       "    </tr>\n",
       "  </tbody>\n",
       "</table>\n",
       "<p>5 rows × 43 columns</p>\n",
       "</div>"
      ],
      "text/plain": [
       "   Long    Lat       4.6       4.7       4.8       4.9       5.0       5.1  \\\n",
       "0   0.0  43.00  0.000354  0.000288  0.000234  0.000190  0.000154  0.000125   \n",
       "1   0.0  43.25  0.000037  0.000030  0.000025  0.000020  0.000017  0.000013   \n",
       "2   0.0  43.50  0.000008  0.000006  0.000005  0.000004  0.000003  0.000003   \n",
       "3   0.0  43.75  0.000007  0.000005  0.000004  0.000003  0.000003  0.000002   \n",
       "4   0.0  44.00  0.000003  0.000003  0.000002  0.000002  0.000001  0.000001   \n",
       "\n",
       "            5.2           5.3  ...           7.7           7.8           7.9  \\\n",
       "0  1.020576e-04  8.305491e-05  ...  3.276328e-07  3.276328e-07  3.276328e-07   \n",
       "1  1.064807e-05  8.682269e-06  ...  0.000000e+00  0.000000e+00  0.000000e+00   \n",
       "2  2.293430e-06  1.638164e-06  ...  0.000000e+00  0.000000e+00  0.000000e+00   \n",
       "3  1.965797e-06  1.638164e-06  ...  0.000000e+00  0.000000e+00  0.000000e+00   \n",
       "4  9.828984e-07  6.552656e-07  ...  0.000000e+00  0.000000e+00  0.000000e+00   \n",
       "\n",
       "            8.0           8.1           8.2  8.3  8.4  8.5  8.6  \n",
       "0  3.276328e-07  3.276328e-07  1.638164e-07  0.0  0.0  0.0  0.0  \n",
       "1  0.000000e+00  0.000000e+00  0.000000e+00  0.0  0.0  0.0  0.0  \n",
       "2  0.000000e+00  0.000000e+00  0.000000e+00  0.0  0.0  0.0  0.0  \n",
       "3  0.000000e+00  0.000000e+00  0.000000e+00  0.0  0.0  0.0  0.0  \n",
       "4  0.000000e+00  0.000000e+00  0.000000e+00  0.0  0.0  0.0  0.0  \n",
       "\n",
       "[5 rows x 43 columns]"
      ]
     },
     "execution_count": 53,
     "metadata": {},
     "output_type": "execute_result"
    }
   ],
   "source": [
    "# Downsample the eartquakes\n",
    "res = 4\n",
    "ds = df.copy()\n",
    "ds['Lat'] = (ds['Lat']*res).astype(int)\n",
    "ds['Long'] = (ds['Long']*res).astype(int)\n",
    "ds = ds.groupby(['Long','Lat'], as_index=False).sum()\n",
    "ds['Lat'] = ds['Lat']/res\n",
    "ds['Long'] = ds['Long']/res\n",
    "\n",
    "print(f'Original number of eartquakes: {len(df)}')\n",
    "print(f'Downsampled number of eartquakes: {len(ds)}')\n",
    "print(f'Ratio: {len(df)/len(ds):.2f}')\n",
    "ds.head()\n"
   ]
  },
  {
   "cell_type": "code",
   "execution_count": 54,
   "metadata": {},
   "outputs": [
    {
     "data": {
      "text/plain": [
       "0.19461158722526956"
      ]
     },
     "execution_count": 54,
     "metadata": {},
     "output_type": "execute_result"
    }
   ],
   "source": [
    "ds['4.6'].sum()"
   ]
  },
  {
   "cell_type": "code",
   "execution_count": 55,
   "metadata": {},
   "outputs": [
    {
     "data": {
      "text/plain": [
       "0.19461158722526956"
      ]
     },
     "execution_count": 55,
     "metadata": {},
     "output_type": "execute_result"
    }
   ],
   "source": [
    "df['4.6'].sum()"
   ]
  },
  {
   "cell_type": "code",
   "execution_count": 56,
   "metadata": {},
   "outputs": [],
   "source": [
    "ds.to_csv('earthquake_probabilities/germany_ds6.csv', index=False)"
   ]
  },
  {
   "cell_type": "markdown",
   "metadata": {},
   "source": [
    "# Preprocessing the network"
   ]
  },
  {
   "cell_type": "code",
   "execution_count": 72,
   "metadata": {},
   "outputs": [],
   "source": [
    "#g1 = nx.read_gml('networks/usa_995.gml', label='id')\n",
    "g = read_lgf_to_networkx_extended('../spine/solution_germany50_sndlib_long-lat_cost3_averAvailWPreq0-99900.lgf')"
   ]
  },
  {
   "cell_type": "code",
   "execution_count": 79,
   "metadata": {},
   "outputs": [
    {
     "data": {
      "text/plain": [
       "50"
      ]
     },
     "execution_count": 79,
     "metadata": {},
     "output_type": "execute_result"
    }
   ],
   "source": [
    "len(g.nodes)"
   ]
  },
  {
   "cell_type": "code",
   "execution_count": 8,
   "metadata": {},
   "outputs": [],
   "source": [
    "for e in g.edges:\n",
    "    g.edges[e]['unav'] = g.edges[e]['unav1']"
   ]
  },
  {
   "cell_type": "code",
   "execution_count": 75,
   "metadata": {},
   "outputs": [],
   "source": [
    "for e in g.edges:\n",
    "    pointA = g.edges[e]['points']['point'][0]\n",
    "    pointB = g.edges[e]['points']['point'][-1]\n",
    "    g.edges[e]['length'] = distance((pointA['Latitude'], pointA['Longitude']), (pointB['Latitude'], pointB['Longitude'])).km"
   ]
  },
  {
   "cell_type": "code",
   "execution_count": 9,
   "metadata": {},
   "outputs": [
    {
     "data": {
      "text/plain": [
       "0"
      ]
     },
     "execution_count": 9,
     "metadata": {},
     "output_type": "execute_result"
    }
   ],
   "source": [
    "#nx.write_gml(g2, 'networks/usa_995.gml')\n",
    "write_networkx_to_lgf(g, 'networks/usa_995_initial.lgf')"
   ]
  },
  {
   "cell_type": "code",
   "execution_count": 76,
   "metadata": {},
   "outputs": [],
   "source": [
    "nx.write_gml(g, 'networks/germany.gml')"
   ]
  },
  {
   "cell_type": "code",
   "execution_count": 35,
   "metadata": {},
   "outputs": [
    {
     "data": {
      "text/plain": [
       "54.77"
      ]
     },
     "execution_count": 35,
     "metadata": {},
     "output_type": "execute_result"
    }
   ],
   "source": [
    "max([g.nodes[e]['Latitude'] for e in g.nodes])"
   ]
  },
  {
   "cell_type": "code",
   "execution_count": null,
   "metadata": {},
   "outputs": [],
   "source": [
    "EARTH_RADIUS = 6371\n",
    "\n",
    "g = nx.read_gml('networks/interoute_v2_feri.gml', label='id')\n",
    "edge = (2, 5, 0)\n",
    "\n",
    "for n in g.nodes:\n",
    "    u = node_to_SVector(g.nodes[n])\n",
    "    v,w = edge_to_SVectors(g.edges[edge])\n",
    "    gomb = int(u.distance_to_section(v,w) * EARTH_RADIUS)\n",
    "    \n",
    "    edge_points = [tuple(p.values()) for p in g.edges[edge]['points']['point']]\n",
    "    l = LineString(edge_points)\n",
    "    p = Point(g.nodes[n]['Longitude'], g.nodes[n]['Latitude'])\n",
    "    nearest_point = nearest_points(l, p)[0].coords[0]\n",
    "    R = distance(lonlat(*(g.nodes[n]['Longitude'], g.nodes[n]['Latitude'])), lonlat(*nearest_point)).km\n",
    "    print(f'{(gomb-R)/(R+1):.2f}')"
   ]
  },
  {
   "cell_type": "markdown",
   "metadata": {},
   "source": [
    "# Earthquake intensity calculation"
   ]
  },
  {
   "cell_type": "code",
   "execution_count": 2,
   "metadata": {},
   "outputs": [],
   "source": [
    "g = nx.read_gml('networks/germany.gml', label='id')\n",
    "\n",
    "df = pd.read_csv('earthquake_probabilities/germany_ds6.csv')\n",
    "df.insert(loc=0, column='Epicenter', value=list(zip(df.Long, df.Lat)))\n",
    "df.set_index('Epicenter', inplace=True)\n",
    "df.drop(['Lat', 'Long'], axis=1, inplace=True)\n",
    "\n",
    "epicenters = df.index\n",
    "magnitudes = df.columns"
   ]
  },
  {
   "cell_type": "code",
   "execution_count": 3,
   "metadata": {
    "tags": []
   },
   "outputs": [
    {
     "data": {
      "application/vnd.jupyter.widget-view+json": {
       "model_id": "d0cf3a0d07644aa4be6e314587223eab",
       "version_major": 2,
       "version_minor": 0
      },
      "text/plain": [
       "HBox(children=(FloatProgress(value=0.0, max=88.0), HTML(value='')))"
      ]
     },
     "metadata": {},
     "output_type": "display_data"
    },
    {
     "name": "stdout",
     "output_type": "stream",
     "text": [
      "\n"
     ]
    }
   ],
   "source": [
    "EARTH_RADIUS = 6371\n",
    "I1= np.ones((g.number_of_edges(), len(epicenters), len(magnitudes)))\n",
    "I2 = np.ones((g.number_of_edges(), len(epicenters), len(magnitudes)))\n",
    "\n",
    "D1 = np.ones((g.number_of_edges(), len(epicenters)))\n",
    "D2 = np.ones((g.number_of_edges(), len(epicenters)))\n",
    "\n",
    "for i, e in tqdm(enumerate(g.edges), total=g.number_of_edges()):\n",
    "    edge_points = [(p['Longitude'], p['Latitude']) for p in g.edges[e]['points']['point']]\n",
    "    l = LineString(edge_points)\n",
    "    v,w = edge_to_SVectors(g.edges[e])\n",
    "    for j, epicenter in enumerate(epicenters):\n",
    "        p = Point(epicenter[0],epicenter[1])\n",
    "        nearest_point = nearest_points(l, p)[0].coords[0]\n",
    "        # print([o.wkt for o in nearest_points(l, p)])\n",
    "        \n",
    "        R1 = distance(lonlat(*epicenter), lonlat(*nearest_point)).km\n",
    "        \n",
    "        u = SVector(epicenter[1],epicenter[0])\n",
    "        R2 = u.distance_to_section(v,w) * EARTH_RADIUS\n",
    "        #print(i, e,R1, R2)\n",
    "        \n",
    "        D1[i,j] = R1\n",
    "        D2[i,j] = R2\n",
    "\n",
    "\n",
    "for k, M in enumerate(magnitudes):\n",
    "    i1 = intensity_europe(np.float(M), D1)\n",
    "    i1[i1<1.] = 1.\n",
    "    i2 = intensity_europe(np.float(M), D2)\n",
    "    i2[i2<1.] = 1.\n",
    "    I1[:,:,k] = i1\n",
    "    I2[:,:,k] = i2"
   ]
  },
  {
   "cell_type": "code",
   "execution_count": 32,
   "metadata": {},
   "outputs": [],
   "source": [
    "I3 = np.ones((g.number_of_edges(), len(df.index), len(df.columns)))\n",
    "for k, M in enumerate(df.columns):\n",
    "    i = intensity_europe(np.float(M), D1-1.5)\n",
    "    i[i<1.] = 1.\n",
    "    I3[:,:,k] = i"
   ]
  },
  {
   "cell_type": "code",
   "execution_count": 4,
   "metadata": {},
   "outputs": [
    {
     "data": {
      "text/plain": [
       "(array([4.02849e+05, 1.46760e+04, 9.77000e+03, 7.18000e+03, 5.23700e+03,\n",
       "        3.60600e+03, 2.36900e+03, 1.66000e+03, 1.10500e+03, 7.35000e+02,\n",
       "        4.86000e+02, 3.93000e+02, 2.45000e+02, 1.24000e+02, 5.60000e+01,\n",
       "        2.30000e+01, 1.70000e+01, 1.40000e+01, 1.00000e+01, 5.00000e+00]),\n",
       " array([-0.95483189,  3.89739525,  8.7496224 , 13.60184954, 18.45407669,\n",
       "        23.30630383, 28.15853097, 33.01075812, 37.86298526, 42.71521241,\n",
       "        47.56743955, 52.41966669, 57.27189384, 62.12412098, 66.97634813,\n",
       "        71.82857527, 76.68080242, 81.53302956, 86.3852567 , 91.23748385,\n",
       "        96.08971099]),\n",
       " <BarContainer object of 20 artists>)"
      ]
     },
     "execution_count": 4,
     "metadata": {},
     "output_type": "execute_result"
    },
    {
     "data": {
      "image/png": "[encoded data removed]",
      "text/plain": [
       "<Figure size 432x288 with 1 Axes>"
      ]
     },
     "metadata": {
      "needs_background": "light"
     },
     "output_type": "display_data"
    }
   ],
   "source": [
    "import matplotlib.pyplot as plt\n",
    "\n",
    "diff = ((D1 - D2)).flatten()\n",
    "\n",
    "plt.hist(diff, 20)"
   ]
  },
  {
   "cell_type": "code",
   "execution_count": 15,
   "metadata": {},
   "outputs": [],
   "source": [
    "Imax = I1.max(axis=0)"
   ]
  },
  {
   "cell_type": "code",
   "execution_count": 19,
   "metadata": {},
   "outputs": [],
   "source": [
    "Eqfilter = (Imax > 6).any(axis=1)"
   ]
  },
  {
   "cell_type": "code",
   "execution_count": 20,
   "metadata": {},
   "outputs": [
    {
     "data": {
      "text/plain": [
       "(88, 575, 41)"
      ]
     },
     "execution_count": 20,
     "metadata": {},
     "output_type": "execute_result"
    }
   ],
   "source": [
    "I1[:,Eqfilter,:].shape"
   ]
  },
  {
   "cell_type": "code",
   "execution_count": 5,
   "metadata": {},
   "outputs": [],
   "source": [
    "np.save('intensities/germany_ds6.npy', I1)\n",
    "#np.save('intensities/italy_ds16_csak.npy', I2)"
   ]
  },
  {
   "cell_type": "markdown",
   "metadata": {},
   "source": [
    "# SRLG collection"
   ]
  },
  {
   "cell_type": "code",
   "execution_count": 9,
   "metadata": {},
   "outputs": [
    {
     "data": {
      "application/vnd.jupyter.widget-view+json": {
       "model_id": "6d01db24dd8f45ebba3f8aa4446d894b",
       "version_major": 2,
       "version_minor": 0
      },
      "text/plain": [
       "HBox(children=(FloatProgress(value=0.0, max=4288.0), HTML(value='')))"
      ]
     },
     "metadata": {},
     "output_type": "display_data"
    },
    {
     "name": "stdout",
     "output_type": "stream",
     "text": [
      "\n"
     ]
    },
    {
     "data": {
      "text/plain": [
       "432"
      ]
     },
     "execution_count": 9,
     "metadata": {},
     "output_type": "execute_result"
    }
   ],
   "source": [
    "#g = nx.read_gml('networks/cost266.gml', label=\"id\")\n",
    "min_cut_srlgs = get_minimal_cut_SRLGs('PSRLGs/germany.xml', g)\n",
    "len(min_cut_srlgs)"
   ]
  },
  {
   "cell_type": "code",
   "execution_count": 17,
   "metadata": {},
   "outputs": [
    {
     "name": "stdout",
     "output_type": "stream",
     "text": [
      "0.0034819175364634797\n",
      "41\n",
      "0.003326128142100894\n"
     ]
    }
   ],
   "source": [
    "H = np.array([6+0*g.edges[e]['onspine'] for e in g.edges])\n",
    "print(get_probability_of_falling_apart(min_cut_srlgs,g,I1,H,prob_matrix))\n",
    "min_cut_srlgs_short = [srlg for srlg in min_cut_srlgs if get_SRLG_probability(srlg,g,I1,H,prob_matrix) > 0.00006]\n",
    "print(len(min_cut_srlgs_short))\n",
    "print(get_probability_of_falling_apart(min_cut_srlgs_short,g,I1,H,prob_matrix))"
   ]
  },
  {
   "cell_type": "code",
   "execution_count": 23,
   "metadata": {},
   "outputs": [
    {
     "data": {
      "text/plain": [
       "4.365853658536586"
      ]
     },
     "execution_count": 23,
     "metadata": {},
     "output_type": "execute_result"
    }
   ],
   "source": [
    "np.mean([len(srlg) for srlg in min_cut_srlgs_short])"
   ]
  },
  {
   "cell_type": "code",
   "execution_count": null,
   "metadata": {},
   "outputs": [],
   "source": [
    " for srlg in srlgs:\n",
    "    print(get_SRLG_probability(srlg,g,I1,H,prob_matrix), srlg)\n",
    "#print(get_probability_of_falling_apart(srlgs,g,I1,H,prob_matrix))"
   ]
  },
  {
   "cell_type": "code",
   "execution_count": 6,
   "metadata": {},
   "outputs": [],
   "source": [
    "# The network\n",
    "network = 'germany'\n",
    "\n",
    "g = nx.read_gml(f'networks/{network}.gml', label=\"id\")\n",
    "L = len(g.edges)\n",
    "links = range(L)\n",
    "\n",
    "# The matrix of the intensity values, dimensions: [L,P,M] (link, position, magnitude)\n",
    "I1 = np.load(f'intensities/{network}_ds6.npy')\n",
    "#I2 = np.load('intensities/italy_ds16_csak.npy')\n",
    "\n",
    "# The matrix of earthquake probabilities, dimensions: [P,M] (position, magnitude)\n",
    "prob_matrix = pd.read_csv('earthquake_probabilities/germany_ds6.csv').drop(['Lat', 'Long'], axis=1).to_numpy()\n",
    "P, M = prob_matrix.shape\n",
    "epicenters = range(P)\n",
    "magnitudes = range(M)\n",
    "\n",
    "srlgs, srlg_probs = get_SRLGs(f'PSRLGs/{network}.xml')\n",
    "srlg_lengths = [len(srlg) for srlg in srlgs]\n",
    "H = np.ones(L) * 6."
   ]
  },
  {
   "cell_type": "code",
   "execution_count": 8,
   "metadata": {},
   "outputs": [
    {
     "name": "stdout",
     "output_type": "stream",
     "text": [
      "=====================\n",
      "0.0001\n",
      "0.0002, 0.0028, 0.0029, {(17, 24, 0)}\n",
      "0.0003, 0.0021, 0.0021, {(30, 45, 0)}\n"
     ]
    }
   ],
   "source": [
    "H = np.ones(L) * 6.\n",
    "#for T in np.concatenate((np.arange(0.01, 0.001, -0.001), np.arange(0.001, 0.0007, -0.0001))):\n",
    "for T in [0.0001]:\n",
    "    print(f'=====================\\n{T:.4f}')\n",
    "    for i in range(len(srlgs)):\n",
    "        if srlg_probs[i] > T:\n",
    "            print(f'{srlg_probs[i]:.4f}, {get_SRLG_probability(srlgs[i],g,I1,H,prob_matrix):.4f}, {get_SRLG_probability(srlgs[i],g,I2,H,prob_matrix):.4f}, {srlgs[i]}')"
   ]
  },
  {
   "cell_type": "code",
   "execution_count": 19,
   "metadata": {},
   "outputs": [],
   "source": [
    "# Correcting node order in SRLG edges\n",
    "edge_list = list(g.edges)\n",
    "for idx,srlg in enumerate(min_cut_srlgs_short):\n",
    "    for l in srlg:\n",
    "        if l not in edge_list:\n",
    "            min_cut_srlgs_short[idx].discard(l)\n",
    "            min_cut_srlgs_short[idx].add((l[1],l[0],l[2]))"
   ]
  },
  {
   "cell_type": "code",
   "execution_count": 21,
   "metadata": {},
   "outputs": [],
   "source": [
    "# Write\n",
    "with open('min_cut_SRLGs/germany', 'wb') as fp:\n",
    "    pickle.dump(min_cut_srlgs, fp)\n",
    "\n",
    "# Read\n",
    "#with open ('min_cut_SRLGs/italy', 'rb') as fp:\n",
    "#    cut_srlgs = pickle.load(fp)"
   ]
  },
  {
   "cell_type": "markdown",
   "metadata": {},
   "source": [
    "# Creating SRG file"
   ]
  },
  {
   "cell_type": "code",
   "execution_count": 9,
   "metadata": {},
   "outputs": [],
   "source": [
    "g = read_lgf_to_networkx_extended('networks/usa_99.lgf')\n",
    "\n",
    "with open ('results/Heuristic_upgraded_edges_usa_99_nospine', 'rb') as fp:\n",
    "    cut_srlgs = pickle.load(fp)"
   ]
  },
  {
   "cell_type": "code",
   "execution_count": 48,
   "metadata": {},
   "outputs": [
    {
     "data": {
      "text/plain": [
       "0"
      ]
     },
     "execution_count": 48,
     "metadata": {},
     "output_type": "execute_result"
    }
   ],
   "source": [
    "write_networkx_to_srg('networks/italy_995.srg', g, srlgs)"
   ]
  },
  {
   "cell_type": "code",
   "execution_count": 4,
   "metadata": {},
   "outputs": [],
   "source": [
    "# Simple failures\n",
    "srlg_simple = [[e] for e in g.edges()]\n",
    "srlg_simple_nocut = [srlg for srlg in srlg_simple if remains_connected(g.copy(), srlg)]\n",
    "\n",
    "# Adjacent failures\n",
    "srlg_adj = []\n",
    "for u in g:\n",
    "    for pair in combinations(list(g[u]), 2):\n",
    "        srlg_adj.append([(u, pair[0]), (u, pair[1])])\n",
    "srlg_adj_nocut = [srlg for srlg in srlg_adj if remains_connected(g.copy(), srlg)]"
   ]
  },
  {
   "cell_type": "code",
   "execution_count": 8,
   "metadata": {},
   "outputs": [
    {
     "name": "stdout",
     "output_type": "stream",
     "text": [
      "0.01000\t93\n",
      "0.00750\t93\n",
      "0.00500\t93\n",
      "0.00250\t96\n",
      "0.00205\t101\n",
      "{(22, 24, 0), (23, 24, 0), (20, 24, 0)}\n",
      "{(21, 23, 0), (23, 24, 0), (23, 25, 0)}\n",
      "0.00080\t106\n",
      "{(22, 24, 0), (23, 24, 0), (20, 24, 0)}\n",
      "{(20, 22, 0), (21, 22, 0), (22, 24, 0)}\n",
      "{(21, 23, 0), (23, 24, 0), (23, 25, 0)}\n",
      "{(21, 25, 0), (23, 25, 0)}\n",
      "0.00040\t111\n",
      "{(22, 24, 0), (23, 24, 0), (20, 24, 0)}\n",
      "{(20, 22, 0), (21, 22, 0), (22, 24, 0)}\n",
      "{(21, 23, 0), (23, 24, 0), (23, 25, 0)}\n",
      "{(21, 25, 0), (23, 25, 0)}\n",
      "0.00035\t117\n",
      "{(22, 24, 0), (23, 24, 0), (20, 24, 0)}\n",
      "{(20, 22, 0), (21, 22, 0), (22, 24, 0)}\n",
      "{(21, 23, 0), (23, 24, 0), (23, 25, 0)}\n",
      "{(21, 22, 0), (21, 23, 0), (14, 21, 0), (21, 25, 0)}\n",
      "{(21, 25, 0), (23, 25, 0)}\n",
      "0.00015\t135\n",
      "{(22, 24, 0), (23, 24, 0), (20, 24, 0)}\n",
      "{(20, 22, 0), (22, 24, 0), (23, 24, 0), (20, 24, 0)}\n",
      "{(23, 24, 0), (21, 22, 0), (20, 22, 0), (22, 24, 0), (20, 24, 0)}\n",
      "{(22, 24, 0), (21, 22, 0), (23, 24, 0), (20, 24, 0)}\n",
      "{(20, 22, 0), (21, 22, 0), (22, 24, 0), (23, 24, 0)}\n",
      "{(20, 22, 0), (21, 22, 0), (23, 24, 0), (20, 24, 0)}\n",
      "{(20, 22, 0), (21, 22, 0), (22, 24, 0), (20, 24, 0)}\n",
      "{(20, 22, 0), (21, 22, 0), (22, 24, 0)}\n",
      "{(21, 23, 0), (23, 24, 0), (23, 25, 0)}\n",
      "{(21, 22, 0), (21, 23, 0), (14, 21, 0), (21, 25, 0)}\n",
      "{(21, 25, 0), (23, 25, 0)}\n",
      "0.00005\t160\n",
      "{(22, 24, 0), (23, 24, 0), (20, 24, 0)}\n",
      "{(20, 22, 0), (22, 24, 0), (23, 24, 0), (20, 24, 0)}\n",
      "{(23, 24, 0), (21, 22, 0), (20, 22, 0), (22, 24, 0), (20, 24, 0)}\n",
      "{(22, 24, 0), (21, 22, 0), (23, 24, 0), (20, 24, 0)}\n",
      "{(20, 22, 0), (21, 22, 0), (22, 24, 0), (23, 24, 0)}\n",
      "{(20, 22, 0), (21, 22, 0), (23, 24, 0), (20, 24, 0)}\n",
      "{(20, 22, 0), (21, 22, 0), (22, 24, 0), (20, 24, 0)}\n",
      "{(20, 22, 0), (21, 22, 0), (22, 24, 0)}\n",
      "{(21, 23, 0), (23, 24, 0), (23, 25, 0)}\n",
      "{(20, 22, 0), (21, 22, 0), (21, 23, 0), (22, 24, 0)}\n",
      "{(10, 13, 0), (10, 12, 0), (10, 15, 0), (10, 17, 0)}\n",
      "{(21, 22, 0), (21, 23, 0), (14, 21, 0), (21, 25, 0)}\n",
      "{(21, 25, 0), (23, 25, 0)}\n",
      "{(3, 6, 0), (3, 7, 0)}\n"
     ]
    }
   ],
   "source": [
    "network = 'usa_995'\n",
    "g_init = read_lgf_to_networkx_extended(f'networks/{network}_initial.lgf')\n",
    "g_spine = read_lgf_to_networkx_extended(f'networks/{network}.lgf')\n",
    "srlgs, srlg_probs = get_SRLGs(f'PSRLGs/{network}.xml')\n",
    "\n",
    "srlg_adj_sample = sample(srlg_adj_nocut, int(len(srlg_adj)*0.5) )\n",
    "x, y = [],[]\n",
    "prev_l = 0\n",
    "prev_T = 1\n",
    "#for T in [0.01, 0.0075, 0.005, 0.0025, 0.001, 0.00075, 0.0005, 0.00025]:\n",
    "for idx,T in enumerate(np.concatenate((np.arange(0.01, 0.001, -0.00005), np.arange(0.001, 0.0000, -0.00005)))):\n",
    "    current_srlgs = [srlg for i, srlg in enumerate(srlgs) if srlg_probs[i] > T and len(srlg) > 1] + srlg_simple_nocut + srlg_adj_sample\n",
    "    if len(current_srlgs) > prev_l+3 or prev_T-T>0.00246:\n",
    "        print(f'{T:.5f}\\t{len(current_srlgs)}')\n",
    "        prev_l = len(current_srlgs)\n",
    "        y.append(len(current_srlgs))\n",
    "        x.append(T)\n",
    "        prev_T = T\n",
    "        write_networkx_to_srg(f'results/{network}/SRLG/initial+1.5/{network}_TFA1_T{T:.5f}_NS_initial+1.5.srg', g_init, current_srlgs)\n",
    "    \n",
    "        for srlg in current_srlgs:\n",
    "            if not remains_connected(g.copy(), srlg):\n",
    "                print(srlg)\n",
    "    "
   ]
  },
  {
   "cell_type": "code",
   "execution_count": 87,
   "metadata": {},
   "outputs": [
    {
     "data": {
      "image/png": "[encoded data removed]",
      "text/plain": [
       "<Figure size 648x432 with 1 Axes>"
      ]
     },
     "metadata": {
      "needs_background": "light"
     },
     "output_type": "display_data"
    }
   ],
   "source": [
    "fig, ax = plt.subplots(figsize=(9,6))\n",
    "ax.plot(x,y, 'o-')\n",
    "ax.set_xscale('log')\n",
    "ax.grid()"
   ]
  },
  {
   "cell_type": "markdown",
   "metadata": {},
   "source": [
    "# Modify SRG file"
   ]
  },
  {
   "cell_type": "code",
   "execution_count": 7,
   "metadata": {},
   "outputs": [],
   "source": [
    "import glob"
   ]
  },
  {
   "cell_type": "code",
   "execution_count": 43,
   "metadata": {},
   "outputs": [],
   "source": [
    "network = 'italy_995'\n",
    "g_init = read_lgf_to_networkx_extended(f'networks/{network}_initial.lgf')\n",
    "g_spine = read_lgf_to_networkx_extended(f'networks/{network}.lgf')\n",
    "\n",
    "srlg_adj_sample = sample(srlg_adj_nocut, int(len(srlg_adj)*0.1) )\n",
    "\n",
    "for srg_file in glob.glob(f'results/{network}/SRLG/initial/*.srg'):\n",
    "    g, srlgs = read_lgf_to_networkx_extended(srg_file)\n",
    "    for i,e in list(enumerate(g.edges)):\n",
    "    if i%2 == 1:\n",
    "        g.remove_edge(*e)\n",
    "    srlgs = [srlg[::2] for srlg in srlgs if len(srlg)>2]\n",
    "    srlgs += srlg_simple_nocut + srlg_adj_sample\n",
    "    \n",
    "    #print(srlgs)\n",
    "#     if '_S_' in srg_file:\n",
    "#         write_networkx_to_srg(srg_file.replace('initial', 'initial+1.1'), g_spine, srlgs)\n",
    "#     else:\n",
    "#         write_networkx_to_srg(srg_file.replace('initial', 'initial+1.1'), g_init, srlgs)"
   ]
  },
  {
   "cell_type": "code",
   "execution_count": 36,
   "metadata": {},
   "outputs": [
    {
     "name": "stdout",
     "output_type": "stream",
     "text": [
      "[(17, 16), (17, 23)]\n",
      "[(13, 11), (13, 14)]\n"
     ]
    }
   ],
   "source": [
    "for srlg in srlg_adj_sample:\n",
    "    if not remains_connected(g_init.copy(), srlg):\n",
    "        print(srlg)"
   ]
  },
  {
   "cell_type": "markdown",
   "metadata": {},
   "source": [
    "# TFA, T connection"
   ]
  },
  {
   "cell_type": "code",
   "execution_count": 2,
   "metadata": {},
   "outputs": [],
   "source": [
    "# The network\n",
    "network = 'italy_995'\n",
    "\n",
    "g = nx.read_gml(f'networks/{network}.gml', label=\"id\")\n",
    "L = len(g.edges)\n",
    "links = range(L)\n",
    "\n",
    "# The matrix of the intensity values, dimensions: [L,P,M] (link, position, magnitude)\n",
    "I1 = np.load(f'intensities/{network}_ds16.npy')\n",
    "#I2 = np.load('intensities/italy_ds16_csak.npy')\n",
    "\n",
    "# The matrix of earthquake probabilities, dimensions: [P,M] (position, magnitude)\n",
    "prob_matrix = pd.read_csv('earthquake_probabilities/italy_ds16.csv').drop(['Lat', 'Long'], axis=1).to_numpy()\n",
    "P, M = prob_matrix.shape\n",
    "epicenters = range(P)\n",
    "magnitudes = range(M)\n",
    "\n",
    "srlgs, srlg_probs = get_SRLGs(f'PSRLGs/{network}.xml')\n",
    "H = np.ones(L) * 6.\n",
    "\n",
    "with open (f'min_cut_SRLGs/{network}', 'rb') as fp:\n",
    "    min_cut_srlgs = pickle.load(fp)"
   ]
  },
  {
   "cell_type": "code",
   "execution_count": 17,
   "metadata": {},
   "outputs": [
    {
     "name": "stdout",
     "output_type": "stream",
     "text": [
      "0.0005 0.000108\n",
      "0.0006 0.000108\n",
      "0.0007 0.000338\n",
      "0.0008 0.000338\n",
      "0.0009 0.000338\n",
      "0.001 0.000338\n",
      "0.002 0.000338\n",
      "0.003 0.000383\n",
      "0.004 0.000894\n",
      "0.005 0.000894\n",
      "0.006 0.000894\n",
      "0.007 0.001595\n",
      "0.008 0.001595\n",
      "0.009 0.001595\n",
      "0.01 0.001595\n"
     ]
    }
   ],
   "source": [
    "TFAs = []\n",
    "min_Ts = []\n",
    "\n",
    "for upgrade_file in sorted(glob.glob(f'results/{network}/upgrade_level/SB0/*.csv')):\n",
    "    df_upgrade = pd.read_csv(upgrade_file)\n",
    "    TFA = float(upgrade_file.split('TFA')[-1].split('_')[0])\n",
    "    max_cut_prob = max([get_SRLG_probability(srlg,g,I1,df_upgrade['H (Heuristic 2)'].to_numpy(),prob_matrix) for srlg in min_cut_srlgs])\n",
    "    print(f'{TFA} {max_cut_prob:.6f}')\n",
    "    TFAs.append(TFA)\n",
    "    min_Ts.append(max_cut_prob)"
   ]
  },
  {
   "cell_type": "code",
   "execution_count": 25,
   "metadata": {
    "collapsed": true,
    "jupyter": {
     "outputs_hidden": true
    }
   },
   "outputs": [
    {
     "data": {
      "text/plain": [
       "Text(0, 0.5, 'min T to not block')"
      ]
     },
     "execution_count": 25,
     "metadata": {},
     "output_type": "execute_result"
    },
    {
     "data": {
      "image/png": "[encoded data removed]",
      "text/plain": [
       "<Figure size 432x288 with 1 Axes>"
      ]
     },
     "metadata": {
      "needs_background": "light"
     },
     "output_type": "display_data"
    }
   ],
   "source": [
    "fig, ax = plt.subplots()\n",
    "ax.loglog(TFAs, min_Ts, 'o-')\n",
    "ax.invert_xaxis()\n",
    "ax.grid(which='both')\n",
    "ax.set_xlabel('T_D')\n",
    "ax.set_ylabel('min T to not block')"
   ]
  },
  {
   "cell_type": "code",
   "execution_count": 7,
   "metadata": {},
   "outputs": [
    {
     "name": "stdout",
     "output_type": "stream",
     "text": [
      "4324.1004253423\n"
     ]
    }
   ],
   "source": [
    "cost = 0\n",
    "for e in g.edges:\n",
    "    cost += g.edges[e]['length']*g.edges[e]['onspine']\n",
    "print(cost)"
   ]
  },
  {
   "cell_type": "markdown",
   "metadata": {},
   "source": [
    "# Time comparison"
   ]
  },
  {
   "cell_type": "code",
   "execution_count": 61,
   "metadata": {},
   "outputs": [],
   "source": [
    "dfr = pd.read_csv('results/cost266/comparison_cost266_SB0.csv')"
   ]
  },
  {
   "cell_type": "code",
   "execution_count": 69,
   "metadata": {},
   "outputs": [
    {
     "data": {
      "image/png": "[encoded data removed]",
      "text/plain": [
       "<Figure size 432x288 with 1 Axes>"
      ]
     },
     "metadata": {
      "needs_background": "light"
     },
     "output_type": "display_data"
    }
   ],
   "source": [
    "fig, ax = plt.subplots()\n",
    "\n",
    "ax.loglog(dfr['TFA'], dfr['Runtime H1'])\n",
    "ax.loglog(dfr['TFA'], dfr['Runtime H2'])\n",
    "\n",
    "ax.invert_xaxis()\n",
    "ax.grid(which='major')"
   ]
  }
 ],
 "metadata": {
  "kernelspec": {
   "display_name": "Python 3",
   "language": "python",
   "name": "python3"
  },
  "language_info": {
   "codemirror_mode": {
    "name": "ipython",
    "version": 3
   },
   "file_extension": ".py",
   "mimetype": "text/x-python",
   "name": "python",
   "nbconvert_exporter": "python",
   "pygments_lexer": "ipython3",
   "version": "3.7.7"
  }
 },
 "nbformat": 4,
 "nbformat_minor": 4
}
