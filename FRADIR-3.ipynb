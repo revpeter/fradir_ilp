{
 "cells": [
  {
   "cell_type": "code",
   "execution_count": 1,
   "metadata": {},
   "outputs": [],
   "source": [
    "import pandas as pd\n",
    "import numpy as np\n",
    "import networkx as nx\n",
    "from shapely.geometry import Point, LineString\n",
    "from shapely.ops import nearest_points\n",
    "from geopy.distance import distance, lonlat\n",
    "from tqdm.notebook import tqdm\n",
    "import xml.etree.ElementTree as ET\n",
    "from ast import literal_eval\n",
    "import re\n",
    "import pickle"
   ]
  },
  {
   "cell_type": "code",
   "execution_count": null,
   "metadata": {},
   "outputs": [],
   "source": [
    "# Creating the DataFrame of the earthquakes' probabilities\n",
    "df = pd.read_table('../incremental_annual_rates/incremental_annual_rates_italy.txt', sep='\\s+', header=None)\n",
    "\n",
    "df.columns = ['Lat', 'Long'] + [str(np.around(x,1)) for x in np.arange(4.6, 8.7, 0.1)]\n",
    "df.drop(df.columns[42:], axis=1, inplace=True)\n",
    "df.fillna(value=0.0, inplace=True)\n",
    "df = df[df['4.6'] != 0.0]\n",
    "df.rename(columns={'Lat':'Long', 'Long':'Lat'}, inplace=True)\n",
    "\n",
    "df.to_csv('incremental_annual_rates/incremental_annual_rates_italy_without_zeros.csv', index=False)"
   ]
  },
  {
   "cell_type": "code",
   "execution_count": null,
   "metadata": {},
   "outputs": [],
   "source": [
    "df = pd.read_csv('../incremental_annual_rates/incremental_annual_rates_italy.csv')\n",
    "#df.set_index(['Lat','Long'], inplace=True)\n",
    "df.head(2)"
   ]
  },
  {
   "cell_type": "code",
   "execution_count": null,
   "metadata": {},
   "outputs": [],
   "source": [
    "df['Lat'] = (df['Lat']*5).astype(int)\n",
    "df['Long'] = (df['Long']*5).astype(int)\n",
    "df_4 = df.groupby(['Lat','Long']).sum()\n",
    "df_4 = df_4[df_4['4.6'] != 0.0]\n",
    "df_4.reset_index(inplace=True)\n",
    "df_4['Lat'] = df_4['Lat']/5\n",
    "df_4['Long'] = df_4['Long']/5\n",
    "df_4"
   ]
  },
  {
   "cell_type": "code",
   "execution_count": null,
   "metadata": {},
   "outputs": [],
   "source": [
    "df_4.to_csv('earthquake_probabilities/italy_ds16.csv', index=False)"
   ]
  },
  {
   "cell_type": "code",
   "execution_count": 2,
   "metadata": {},
   "outputs": [],
   "source": [
    "g = nx.read_gml('networks/italy.gml', label='id')"
   ]
  },
  {
   "cell_type": "code",
   "execution_count": null,
   "metadata": {
    "tags": []
   },
   "outputs": [],
   "source": [
    "def intensity_europe(M, R):\n",
    "    h = 3.91\n",
    "    D = np.sqrt(h**2 + R**2)\n",
    "    return 1.621*M - 1.343 - 0.0086*(D-h) - 1.037*(np.log(D)-np.log(h))"
   ]
  },
  {
   "cell_type": "code",
   "execution_count": null,
   "metadata": {},
   "outputs": [],
   "source": [
    "l = [tuple(d.values()) for d in g.edges[('Rome', 'Pescara', 0)]['points']['point']]\n",
    "edge = LineString(l)\n",
    "point = Point(10.8,48.3)\n",
    "nearest_point = nearest_points(edge, point)[0]\n",
    "nearest_point.coords[:]"
   ]
  },
  {
   "cell_type": "code",
   "execution_count": 21,
   "metadata": {},
   "outputs": [],
   "source": [
    "nx.write_gml(g, 'networks/italy_withLength.gml')"
   ]
  },
  {
   "cell_type": "code",
   "execution_count": 20,
   "metadata": {
    "tags": []
   },
   "outputs": [
    {
     "name": "stdout",
     "output_type": "stream",
     "text": [
      "(0, 1, 0) 243.7782466405945\n",
      "(0, 7, 0) 283.1018726724909\n",
      "(0, 20, 0) 66.21522968576761\n",
      "(0, 24, 0) 217.85174960131934\n",
      "(1, 2, 0) 277.8400512243021\n",
      "(1, 8, 0) 367.03785048202457\n",
      "(2, 18, 0) 559.1845126346798\n",
      "(2, 24, 0) 241.067231880006\n",
      "(3, 5, 0) 356.02918059317096\n",
      "(3, 18, 0) 89.26818587118532\n",
      "(4, 5, 0) 99.71896170046314\n",
      "(4, 18, 0) 229.35440075243716\n",
      "(5, 19, 0) 352.8712023390359\n",
      "(6, 7, 0) 80.3366106193597\n",
      "(6, 9, 0) 153.71052152269945\n",
      "(6, 20, 0) 236.6408237880778\n",
      "(7, 8, 0) 79.86433362181208\n",
      "(8, 16, 0) 143.724658712267\n",
      "(8, 15, 0) 214.65383481393744\n",
      "(9, 12, 0) 145.25795577084781\n",
      "(9, 10, 0) 151.57736255380516\n",
      "(10, 11, 0) 189.08507022324747\n",
      "(11, 13, 0) 517.5613183570421\n",
      "(12, 15, 0) 138.18650438574753\n",
      "(13, 14, 0) 85.30465415602819\n",
      "(14, 15, 0) 370.73567047129563\n",
      "(15, 22, 0) 252.35796164218283\n",
      "(16, 17, 0) 139.3490292495776\n",
      "(16, 22, 0) 51.90925701399685\n",
      "(17, 22, 0) 107.9290298827612\n",
      "(17, 23, 0) 262.39453243463095\n",
      "(18, 24, 0) 441.04720462904965\n",
      "(19, 21, 0) 218.4482266187136\n",
      "(19, 21, 1) 339.5495011291071\n",
      "(20, 21, 0) 234.23295392177306\n"
     ]
    }
   ],
   "source": [
    "for edge in g.edges:\n",
    "    e = LineString([tuple(d.values()) for d in g.edges[edge]['points']['point']])\n",
    "    p = list(e.coords)\n",
    "    l = 0\n",
    "    for x,y in zip(p[:-1], p[1:]):\n",
    "        l += distance(lonlat(*x), lonlat(*y)).km\n",
    "    g.edges[edge]['length'] = l\n",
    "    print(edge, l)"
   ]
  },
  {
   "cell_type": "code",
   "execution_count": null,
   "metadata": {
    "tags": []
   },
   "outputs": [],
   "source": [
    "for e in g.edges:\n",
    "    edge_points = [tuple(p.values()) for p in g.edges[e]['points']['point']]\n",
    "    edge = LineString(edge_points)\n",
    "    epicenter = Point(10.5,48.2)\n",
    "    nearest_point = nearest_points(edge, epicenter)[0].coords[0]\n",
    "    print(nearest_point)\n",
    "    print(epicenter.coords[0])\n",
    "    dist = distance(lonlat(*epicenter.coords[0]), lonlat(*nearest_point)).km\n",
    "    intensity = intensity_europe(8.6, dist)\n",
    "    print(\"%.1f\" % intensity)"
   ]
  },
  {
   "cell_type": "code",
   "execution_count": null,
   "metadata": {},
   "outputs": [],
   "source": [
    "#df['Epicenter'] = list(zip(df.Lat, df.Long))\n",
    "df.insert(loc=0, column='Epicenter', value=list(zip(df.Lat, df.Long)))\n",
    "df.set_index('Epicenter', inplace=True)\n",
    "df.drop(['Lat', 'Long'], axis=1, inplace=True)"
   ]
  },
  {
   "cell_type": "code",
   "execution_count": null,
   "metadata": {},
   "outputs": [],
   "source": [
    "#df=df_4\n",
    "df.head()"
   ]
  },
  {
   "cell_type": "code",
   "execution_count": null,
   "metadata": {},
   "outputs": [],
   "source": [
    "epicenters = df.index.to_numpy()\n",
    "magnitudes = df.columns.to_numpy()"
   ]
  },
  {
   "cell_type": "code",
   "execution_count": null,
   "metadata": {
    "tags": []
   },
   "outputs": [],
   "source": [
    "I = np.ones((g.number_of_edges(), len(epicenters), len(magnitudes)))\n",
    "for i, e in tqdm(enumerate(g.edges), total=g.number_of_edges()):\n",
    "    edge_points = [tuple(p.values()) for p in g.edges[e]['points']['point']]\n",
    "    l = LineString(edge_points)\n",
    "    for j, epicenter in tqdm(enumerate(epicenters), total=len(epicenters)):\n",
    "        p = Point(epicenter)\n",
    "        nearest_point = nearest_points(l, p)[0].coords[0]\n",
    "        R = distance(lonlat(*epicenter), lonlat(*nearest_point)).km\n",
    "        for k, M in enumerate(magnitudes):\n",
    "            intensity = intensity_europe(np.float(M), R)\n",
    "            if intensity > 1.0:\n",
    "                I[i,j,k] = intensity"
   ]
  },
  {
   "cell_type": "code",
   "execution_count": null,
   "metadata": {},
   "outputs": [],
   "source": [
    "np.save('intensities/italy_ds8.npy', I)"
   ]
  },
  {
   "cell_type": "code",
   "execution_count": 7,
   "metadata": {
    "tags": []
   },
   "outputs": [
    {
     "data": {
      "application/vnd.jupyter.widget-view+json": {
       "model_id": "db62cbf885eb4cd4b1141479ccabc946",
       "version_major": 2,
       "version_minor": 0
      },
      "text/plain": [
       "HBox(children=(FloatProgress(value=0.0, max=14620.0), HTML(value='')))"
      ]
     },
     "metadata": {},
     "output_type": "display_data"
    },
    {
     "name": "stdout",
     "output_type": "stream",
     "text": [
      "\n"
     ]
    }
   ],
   "source": [
    "def remains_connected(g, srlg):\n",
    "    g.remove_edges_from(srlg)\n",
    "    return nx.is_connected(g.to_undirected())\n",
    "\n",
    "def get_minimal_cut_SRLGs(PSRLG_file):\n",
    "    xtree = ET.parse(PSRLG_file)\n",
    "    xroot = xtree.getroot()\n",
    "    cut_srlgs = []\n",
    "    for fs in tqdm(xroot.iter('Failure_State'), total=len(xroot.findall('Failure_State'))):\n",
    "        # (edge_id, node_id, node_id)\n",
    "        srlg = set([ (int(edge[1]), int(edge[2]), 0) if edge[0] != '24' else (int(edge[1]), int(edge[2]), 1) for edge in re.findall(r\"(\\d+):\\((\\d+)\\D+(\\d+)\\D+\\)\", fs.find('Edges').text)])\n",
    "        probability = float(fs.find('Probability').text.strip())\n",
    "        if not remains_connected(g.copy(), srlg) and probability>10**-4:\n",
    "            added = False\n",
    "            for i, s in enumerate(cut_srlgs):\n",
    "                if srlg.issubset(s):\n",
    "                    cut_srlgs[i] = srlg\n",
    "                    added = True\n",
    "                    break\n",
    "                elif srlg.issuperset(s):\n",
    "                    added = True\n",
    "                    break\n",
    "            if not cut_srlgs or not added:\n",
    "                cut_srlgs.append(srlg)\n",
    "    return cut_srlgs\n",
    "\n",
    "min_cut_srlgs = get_minimal_cut_SRLGs('PSRLGs/whole_graph_complete_VI_upper_big_grid.xml')"
   ]
  },
  {
   "cell_type": "code",
   "execution_count": 13,
   "metadata": {},
   "outputs": [],
   "source": [
    "# Correcting node order in SRLG edges\n",
    "edge_list = list(g.edges)\n",
    "for idx,srlg in enumerate(min_cut_srlgs):\n",
    "    for l in srlg:\n",
    "        if l not in edge_list:\n",
    "            min_cut_srlgs[idx].discard(l)\n",
    "            min_cut_srlgs[idx].add((l[1],l[0],l[2]))"
   ]
  },
  {
   "cell_type": "code",
   "execution_count": 15,
   "metadata": {},
   "outputs": [],
   "source": [
    "# Write\n",
    "with open('min_cut_SRLGs/italy_complete_10-4', 'wb') as fp:\n",
    "    pickle.dump(min_cut_srlgs, fp)\n",
    "\n",
    "# Read\n",
    "#with open ('min_cut_SRLGs/italy', 'rb') as fp:\n",
    "#    cut_srlgs = pickle.load(fp)"
   ]
  },
  {
   "cell_type": "code",
   "execution_count": 14,
   "metadata": {},
   "outputs": [
    {
     "data": {
      "text/plain": [
       "[{(6, 9, 0), (8, 15, 0), (8, 16, 0)},\n",
       " {(8, 16, 0), (15, 22, 0)},\n",
       " {(0, 7, 0), (6, 9, 0), (6, 20, 0), (7, 8, 0)},\n",
       " {(15, 22, 0), (16, 22, 0), (17, 22, 0)},\n",
       " {(16, 17, 0), (17, 22, 0)},\n",
       " {(6, 7, 0), (6, 9, 0), (6, 20, 0)},\n",
       " {(3, 5, 0), (4, 5, 0), (5, 19, 0)},\n",
       " {(0, 7, 0), (6, 20, 0), (7, 8, 0), (8, 15, 0), (8, 16, 0)},\n",
       " {(0, 7, 0), (6, 7, 0), (7, 8, 0)},\n",
       " {(8, 16, 0), (16, 17, 0), (16, 22, 0)},\n",
       " {(6, 7, 0), (6, 20, 0), (8, 15, 0), (8, 16, 0)},\n",
       " {(6, 9, 0), (9, 10, 0), (9, 12, 0)},\n",
       " {(0, 7, 0), (6, 7, 0), (7, 8, 0), (8, 16, 0)},\n",
       " {(4, 5, 0), (4, 18, 0)},\n",
       " {(0, 20, 0), (6, 20, 0), (20, 21, 0)},\n",
       " {(0, 7, 0), (0, 20, 0), (1, 8, 0), (20, 21, 0)},\n",
       " {(1, 8, 0), (6, 9, 0), (7, 8, 0)},\n",
       " {(0, 7, 0), (6, 7, 0), (6, 20, 0), (8, 15, 0), (8, 16, 0)},\n",
       " {(1, 8, 0), (7, 8, 0), (8, 15, 0), (8, 16, 0)},\n",
       " {(0, 1, 0), (0, 24, 0), (1, 8, 0), (20, 21, 0)},\n",
       " {(0, 7, 0), (1, 8, 0), (6, 20, 0)},\n",
       " {(0, 1, 0), (0, 7, 0), (0, 20, 0), (1, 8, 0), (20, 21, 0)},\n",
       " {(9, 12, 0), (12, 15, 0)},\n",
       " {(0, 1, 0), (0, 7, 0), (0, 20, 0), (0, 24, 0)},\n",
       " {(0, 7, 0), (6, 9, 0), (6, 20, 0), (7, 8, 0), (8, 16, 0)},\n",
       " {(0, 7, 0), (1, 8, 0), (6, 20, 0), (8, 16, 0)},\n",
       " {(0, 7, 0), (1, 8, 0), (6, 7, 0), (6, 9, 0)},\n",
       " {(6, 7, 0), (6, 9, 0), (6, 20, 0), (8, 16, 0)},\n",
       " {(0, 7, 0), (0, 20, 0), (1, 8, 0), (6, 20, 0)},\n",
       " {(0, 7, 0), (0, 24, 0), (1, 8, 0), (6, 20, 0)},\n",
       " {(0, 7, 0), (6, 7, 0), (6, 9, 0), (7, 8, 0)},\n",
       " {(0, 7, 0), (1, 8, 0), (6, 7, 0), (8, 15, 0), (8, 16, 0)},\n",
       " {(0, 7, 0), (6, 7, 0), (6, 20, 0), (7, 8, 0), (8, 15, 0)},\n",
       " {(0, 1, 0), (0, 20, 0), (0, 24, 0), (1, 8, 0), (6, 20, 0)},\n",
       " {(0, 1, 0), (1, 2, 0), (1, 8, 0)},\n",
       " {(0, 1, 0), (0, 7, 0), (0, 20, 0), (1, 2, 0), (1, 8, 0)},\n",
       " {(0, 7, 0), (0, 20, 0), (0, 24, 0), (1, 2, 0), (1, 8, 0)},\n",
       " {(1, 8, 0), (6, 9, 0), (7, 8, 0), (8, 16, 0)},\n",
       " {(17, 23, 0)},\n",
       " {(8, 15, 0), (12, 15, 0), (14, 15, 0), (15, 22, 0)},\n",
       " {(0, 7, 0), (0, 20, 0), (6, 20, 0), (20, 21, 0)},\n",
       " {(0, 20, 0), (0, 24, 0), (6, 20, 0), (20, 21, 0)},\n",
       " {(0, 1, 0), (0, 20, 0), (6, 20, 0), (20, 21, 0)},\n",
       " {(16, 22, 0), (17, 23, 0)},\n",
       " {(16, 17, 0), (17, 23, 0)},\n",
       " {(0, 7, 0), (1, 8, 0), (6, 7, 0), (6, 9, 0), (8, 16, 0)},\n",
       " {(6, 7, 0), (6, 9, 0), (6, 20, 0), (7, 8, 0)},\n",
       " {(0, 7, 0), (1, 8, 0), (6, 9, 0), (6, 20, 0)},\n",
       " {(1, 8, 0), (6, 7, 0), (6, 20, 0), (7, 8, 0)},\n",
       " {(0, 7, 0), (6, 7, 0), (6, 20, 0), (7, 8, 0), (8, 16, 0)},\n",
       " {(6, 9, 0), (8, 15, 0), (15, 22, 0)},\n",
       " {(1, 8, 0), (6, 7, 0), (6, 20, 0), (7, 8, 0), (8, 16, 0)},\n",
       " {(0, 1, 0), (0, 24, 0), (1, 8, 0), (6, 20, 0), (20, 21, 0)},\n",
       " {(15, 22, 0), (16, 17, 0), (16, 22, 0)},\n",
       " {(0, 7, 0), (1, 8, 0), (6, 20, 0), (20, 21, 0)},\n",
       " {(0, 1, 0), (0, 7, 0), (1, 8, 0), (6, 20, 0)},\n",
       " {(2, 18, 0), (3, 18, 0), (4, 18, 0), (18, 24, 0)},\n",
       " {(11, 13, 0), (13, 14, 0)},\n",
       " {(8, 16, 0), (16, 22, 0), (17, 22, 0)},\n",
       " {(1, 2, 0), (2, 18, 0), (2, 24, 0)},\n",
       " {(0, 24, 0), (2, 24, 0), (18, 24, 0)},\n",
       " {(13, 14, 0), (14, 15, 0)},\n",
       " {(5, 19, 0), (19, 21, 0), (19, 21, 1)},\n",
       " {(9, 10, 0), (10, 11, 0)},\n",
       " {(17, 22, 0), (17, 23, 0)},\n",
       " {(0, 1, 0), (1, 2, 0), (1, 8, 0), (2, 24, 0)},\n",
       " {(3, 5, 0), (4, 18, 0), (5, 19, 0)},\n",
       " {(6, 9, 0), (7, 8, 0), (8, 15, 0), (8, 16, 0)},\n",
       " {(1, 8, 0), (7, 8, 0), (8, 15, 0), (15, 22, 0)},\n",
       " {(0, 1, 0), (0, 7, 0), (0, 24, 0), (6, 20, 0), (20, 21, 0)},\n",
       " {(19, 21, 0), (19, 21, 1), (20, 21, 0)},\n",
       " {(3, 5, 0), (3, 18, 0)},\n",
       " {(3, 5, 0), (3, 18, 0), (18, 24, 0)},\n",
       " {(2, 18, 0), (3, 5, 0), (4, 18, 0), (18, 24, 0)}]"
      ]
     },
     "execution_count": 14,
     "metadata": {},
     "output_type": "execute_result"
    }
   ],
   "source": [
    "min_cut_srlgs"
   ]
  }
 ],
 "metadata": {
  "kernelspec": {
   "display_name": "Python 3",
   "language": "python",
   "name": "python3"
  },
  "language_info": {
   "codemirror_mode": {
    "name": "ipython",
    "version": 3
   },
   "file_extension": ".py",
   "mimetype": "text/x-python",
   "name": "python",
   "nbconvert_exporter": "python",
   "pygments_lexer": "ipython3",
   "version": "3.7.7"
  }
 },
 "nbformat": 4,
 "nbformat_minor": 4
}
