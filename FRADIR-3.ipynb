{
 "cells": [
  {
   "cell_type": "code",
   "execution_count": 1,
   "metadata": {},
   "outputs": [],
   "source": [
    "from backend import *\n",
    "from tqdm.notebook import tqdm\n",
    "from shapely.geometry import Point, LineString\n",
    "from shapely.ops import nearest_points"
   ]
  },
  {
   "cell_type": "markdown",
   "metadata": {},
   "source": [
    "# Preprocessing Earthquake probabilities"
   ]
  },
  {
   "cell_type": "code",
   "execution_count": 49,
   "metadata": {},
   "outputs": [],
   "source": [
    "# Creating the DataFrame of the earthquakes' probabilities\n",
    "#df = pd.read_table('../incremental_annual_rates/incremental_annual_rates_USA.txt', sep='\\s+', header=None)\n",
    "df = pd.read_table('/home/mogyi/Projects/FRADIR/PSRLG_JSAC2020_toMogyi/seismic_data/incremental_annual_rates/incremental_annual_rates_italy.txt', sep='\\s+', header=None)\n",
    "\n",
    "df.columns = ['Long', 'Lat'] + [str(np.around(x,1)) for x in np.arange(4.6, 8.2, 0.1)]\n",
    "#df.drop(df.columns[42:], axis=1, inplace=True)\n",
    "df.fillna(value=0.0, inplace=True)\n",
    "df = df[df['4.6'] != 0.0]\n",
    "\n",
    "#df.to_csv('incremental_annual_rates/incremental_annual_rates_italy_without_zeros.csv', index=False)"
   ]
  },
  {
   "cell_type": "code",
   "execution_count": 50,
   "metadata": {},
   "outputs": [],
   "source": [
    "pd.options.display.float_format = '{:,.10f}'.format"
   ]
  },
  {
   "cell_type": "code",
   "execution_count": 51,
   "metadata": {},
   "outputs": [
    {
     "data": {
      "text/html": [
       "<div>\n",
       "<style scoped>\n",
       "    .dataframe tbody tr th:only-of-type {\n",
       "        vertical-align: middle;\n",
       "    }\n",
       "\n",
       "    .dataframe tbody tr th {\n",
       "        vertical-align: top;\n",
       "    }\n",
       "\n",
       "    .dataframe thead th {\n",
       "        text-align: right;\n",
       "    }\n",
       "</style>\n",
       "<table border=\"1\" class=\"dataframe\">\n",
       "  <thead>\n",
       "    <tr style=\"text-align: right;\">\n",
       "      <th></th>\n",
       "      <th>Long</th>\n",
       "      <th>Lat</th>\n",
       "      <th>4.6</th>\n",
       "      <th>4.7</th>\n",
       "      <th>4.8</th>\n",
       "      <th>4.9</th>\n",
       "      <th>5.0</th>\n",
       "      <th>5.1</th>\n",
       "      <th>5.2</th>\n",
       "      <th>5.3</th>\n",
       "      <th>...</th>\n",
       "      <th>7.2</th>\n",
       "      <th>7.3</th>\n",
       "      <th>7.4</th>\n",
       "      <th>7.5</th>\n",
       "      <th>7.6</th>\n",
       "      <th>7.7</th>\n",
       "      <th>7.8</th>\n",
       "      <th>7.9</th>\n",
       "      <th>8.0</th>\n",
       "      <th>8.1</th>\n",
       "    </tr>\n",
       "  </thead>\n",
       "  <tbody>\n",
       "    <tr>\n",
       "      <th>1400</th>\n",
       "      <td>10.8000000000</td>\n",
       "      <td>48.3000000000</td>\n",
       "      <td>0.0000000006</td>\n",
       "      <td>0.0000000004</td>\n",
       "      <td>0.0000000003</td>\n",
       "      <td>0.0000000003</td>\n",
       "      <td>0.0000000002</td>\n",
       "      <td>0.0000000002</td>\n",
       "      <td>0.0000000001</td>\n",
       "      <td>0.0000000001</td>\n",
       "      <td>...</td>\n",
       "      <td>0.0000000000</td>\n",
       "      <td>0.0000000000</td>\n",
       "      <td>0.0000000000</td>\n",
       "      <td>0.0000000000</td>\n",
       "      <td>0.0000000000</td>\n",
       "      <td>0.0000000000</td>\n",
       "      <td>0.0000000000</td>\n",
       "      <td>0.0000000000</td>\n",
       "      <td>0.0000000000</td>\n",
       "      <td>0.0000000000</td>\n",
       "    </tr>\n",
       "    <tr>\n",
       "      <th>1401</th>\n",
       "      <td>10.8500000000</td>\n",
       "      <td>48.3000000000</td>\n",
       "      <td>0.0000000006</td>\n",
       "      <td>0.0000000005</td>\n",
       "      <td>0.0000000004</td>\n",
       "      <td>0.0000000003</td>\n",
       "      <td>0.0000000002</td>\n",
       "      <td>0.0000000002</td>\n",
       "      <td>0.0000000002</td>\n",
       "      <td>0.0000000001</td>\n",
       "      <td>...</td>\n",
       "      <td>0.0000000000</td>\n",
       "      <td>0.0000000000</td>\n",
       "      <td>0.0000000000</td>\n",
       "      <td>0.0000000000</td>\n",
       "      <td>0.0000000000</td>\n",
       "      <td>0.0000000000</td>\n",
       "      <td>0.0000000000</td>\n",
       "      <td>0.0000000000</td>\n",
       "      <td>0.0000000000</td>\n",
       "      <td>0.0000000000</td>\n",
       "    </tr>\n",
       "    <tr>\n",
       "      <th>1402</th>\n",
       "      <td>10.9000000000</td>\n",
       "      <td>48.3000000000</td>\n",
       "      <td>0.0000000006</td>\n",
       "      <td>0.0000000005</td>\n",
       "      <td>0.0000000004</td>\n",
       "      <td>0.0000000003</td>\n",
       "      <td>0.0000000002</td>\n",
       "      <td>0.0000000002</td>\n",
       "      <td>0.0000000002</td>\n",
       "      <td>0.0000000001</td>\n",
       "      <td>...</td>\n",
       "      <td>0.0000000000</td>\n",
       "      <td>0.0000000000</td>\n",
       "      <td>0.0000000000</td>\n",
       "      <td>0.0000000000</td>\n",
       "      <td>0.0000000000</td>\n",
       "      <td>0.0000000000</td>\n",
       "      <td>0.0000000000</td>\n",
       "      <td>0.0000000000</td>\n",
       "      <td>0.0000000000</td>\n",
       "      <td>0.0000000000</td>\n",
       "    </tr>\n",
       "    <tr>\n",
       "      <th>1403</th>\n",
       "      <td>10.9500000000</td>\n",
       "      <td>48.3000000000</td>\n",
       "      <td>0.0000000006</td>\n",
       "      <td>0.0000000005</td>\n",
       "      <td>0.0000000004</td>\n",
       "      <td>0.0000000003</td>\n",
       "      <td>0.0000000003</td>\n",
       "      <td>0.0000000002</td>\n",
       "      <td>0.0000000002</td>\n",
       "      <td>0.0000000001</td>\n",
       "      <td>...</td>\n",
       "      <td>0.0000000000</td>\n",
       "      <td>0.0000000000</td>\n",
       "      <td>0.0000000000</td>\n",
       "      <td>0.0000000000</td>\n",
       "      <td>0.0000000000</td>\n",
       "      <td>0.0000000000</td>\n",
       "      <td>0.0000000000</td>\n",
       "      <td>0.0000000000</td>\n",
       "      <td>0.0000000000</td>\n",
       "      <td>0.0000000000</td>\n",
       "    </tr>\n",
       "    <tr>\n",
       "      <th>1404</th>\n",
       "      <td>11.0000000000</td>\n",
       "      <td>48.3000000000</td>\n",
       "      <td>0.0000000006</td>\n",
       "      <td>0.0000000005</td>\n",
       "      <td>0.0000000004</td>\n",
       "      <td>0.0000000003</td>\n",
       "      <td>0.0000000002</td>\n",
       "      <td>0.0000000002</td>\n",
       "      <td>0.0000000002</td>\n",
       "      <td>0.0000000001</td>\n",
       "      <td>...</td>\n",
       "      <td>0.0000000000</td>\n",
       "      <td>0.0000000000</td>\n",
       "      <td>0.0000000000</td>\n",
       "      <td>0.0000000000</td>\n",
       "      <td>0.0000000000</td>\n",
       "      <td>0.0000000000</td>\n",
       "      <td>0.0000000000</td>\n",
       "      <td>0.0000000000</td>\n",
       "      <td>0.0000000000</td>\n",
       "      <td>0.0000000000</td>\n",
       "    </tr>\n",
       "  </tbody>\n",
       "</table>\n",
       "<p>5 rows × 38 columns</p>\n",
       "</div>"
      ],
      "text/plain": [
       "              Long           Lat          4.6          4.7          4.8  \\\n",
       "1400 10.8000000000 48.3000000000 0.0000000006 0.0000000004 0.0000000003   \n",
       "1401 10.8500000000 48.3000000000 0.0000000006 0.0000000005 0.0000000004   \n",
       "1402 10.9000000000 48.3000000000 0.0000000006 0.0000000005 0.0000000004   \n",
       "1403 10.9500000000 48.3000000000 0.0000000006 0.0000000005 0.0000000004   \n",
       "1404 11.0000000000 48.3000000000 0.0000000006 0.0000000005 0.0000000004   \n",
       "\n",
       "              4.9          5.0          5.1          5.2          5.3  ...  \\\n",
       "1400 0.0000000003 0.0000000002 0.0000000002 0.0000000001 0.0000000001  ...   \n",
       "1401 0.0000000003 0.0000000002 0.0000000002 0.0000000002 0.0000000001  ...   \n",
       "1402 0.0000000003 0.0000000002 0.0000000002 0.0000000002 0.0000000001  ...   \n",
       "1403 0.0000000003 0.0000000003 0.0000000002 0.0000000002 0.0000000001  ...   \n",
       "1404 0.0000000003 0.0000000002 0.0000000002 0.0000000002 0.0000000001  ...   \n",
       "\n",
       "              7.2          7.3          7.4          7.5          7.6  \\\n",
       "1400 0.0000000000 0.0000000000 0.0000000000 0.0000000000 0.0000000000   \n",
       "1401 0.0000000000 0.0000000000 0.0000000000 0.0000000000 0.0000000000   \n",
       "1402 0.0000000000 0.0000000000 0.0000000000 0.0000000000 0.0000000000   \n",
       "1403 0.0000000000 0.0000000000 0.0000000000 0.0000000000 0.0000000000   \n",
       "1404 0.0000000000 0.0000000000 0.0000000000 0.0000000000 0.0000000000   \n",
       "\n",
       "              7.7          7.8          7.9          8.0          8.1  \n",
       "1400 0.0000000000 0.0000000000 0.0000000000 0.0000000000 0.0000000000  \n",
       "1401 0.0000000000 0.0000000000 0.0000000000 0.0000000000 0.0000000000  \n",
       "1402 0.0000000000 0.0000000000 0.0000000000 0.0000000000 0.0000000000  \n",
       "1403 0.0000000000 0.0000000000 0.0000000000 0.0000000000 0.0000000000  \n",
       "1404 0.0000000000 0.0000000000 0.0000000000 0.0000000000 0.0000000000  \n",
       "\n",
       "[5 rows x 38 columns]"
      ]
     },
     "execution_count": 51,
     "metadata": {},
     "output_type": "execute_result"
    }
   ],
   "source": [
    "df.head()"
   ]
  },
  {
   "cell_type": "code",
   "execution_count": null,
   "metadata": {},
   "outputs": [],
   "source": [
    "df = pd.read_csv('../incremental_annual_rates/incremental_annual_rates_USA.csv')\n",
    "df.describe()"
   ]
  },
  {
   "cell_type": "code",
   "execution_count": 6,
   "metadata": {},
   "outputs": [],
   "source": [
    "df = df[df['4.6'] != 0.0]"
   ]
  },
  {
   "cell_type": "code",
   "execution_count": 12,
   "metadata": {},
   "outputs": [],
   "source": [
    "# Delete If no earthquake exist with such magnitude\n",
    "df.drop(labels=['8.5', '8.6'], axis=1, inplace=True)"
   ]
  },
  {
   "cell_type": "code",
   "execution_count": 52,
   "metadata": {},
   "outputs": [
    {
     "name": "stdout",
     "output_type": "stream",
     "text": [
      "5.5384342731352865\n"
     ]
    }
   ],
   "source": [
    "# Convert the rates to probabilities\n",
    "prob_matrix = df.drop(['Lat', 'Long'], axis=1).to_numpy()\n",
    "scale = prob_matrix.sum()\n",
    "print(scale)\n",
    "df.iloc[:,2:] = df.iloc[:,2:] / scale\n",
    "\n",
    "#df.to_csv('earthquake_probabilities/italy_short.csv', index=False)"
   ]
  },
  {
   "cell_type": "code",
   "execution_count": 53,
   "metadata": {},
   "outputs": [],
   "source": [
    "df.to_csv('earthquake_probabilities/italy.csv', index=False)"
   ]
  },
  {
   "cell_type": "code",
   "execution_count": 54,
   "metadata": {},
   "outputs": [
    {
     "data": {
      "text/plain": [
       "48442"
      ]
     },
     "execution_count": 54,
     "metadata": {},
     "output_type": "execute_result"
    }
   ],
   "source": [
    "len(df)"
   ]
  },
  {
   "cell_type": "code",
   "execution_count": 97,
   "metadata": {},
   "outputs": [],
   "source": [
    "df = pd.read_csv('earthquake_probabilities/italy.csv')"
   ]
  },
  {
   "cell_type": "code",
   "execution_count": 67,
   "metadata": {},
   "outputs": [
    {
     "name": "stdout",
     "output_type": "stream",
     "text": [
      "Original number of eartquakes: 48442\n",
      "Downsampled number of eartquakes: 12307\n",
      "Ratio: 3.94\n"
     ]
    },
    {
     "data": {
      "text/html": [
       "<div>\n",
       "<style scoped>\n",
       "    .dataframe tbody tr th:only-of-type {\n",
       "        vertical-align: middle;\n",
       "    }\n",
       "\n",
       "    .dataframe tbody tr th {\n",
       "        vertical-align: top;\n",
       "    }\n",
       "\n",
       "    .dataframe thead th {\n",
       "        text-align: right;\n",
       "    }\n",
       "</style>\n",
       "<table border=\"1\" class=\"dataframe\">\n",
       "  <thead>\n",
       "    <tr style=\"text-align: right;\">\n",
       "      <th></th>\n",
       "      <th>Long</th>\n",
       "      <th>Lat</th>\n",
       "      <th>4.6</th>\n",
       "      <th>4.7</th>\n",
       "      <th>4.8</th>\n",
       "      <th>4.9</th>\n",
       "      <th>5.0</th>\n",
       "      <th>5.1</th>\n",
       "      <th>5.2</th>\n",
       "      <th>5.3</th>\n",
       "      <th>...</th>\n",
       "      <th>7.2</th>\n",
       "      <th>7.3</th>\n",
       "      <th>7.4</th>\n",
       "      <th>7.5</th>\n",
       "      <th>7.6</th>\n",
       "      <th>7.7</th>\n",
       "      <th>7.8</th>\n",
       "      <th>7.9</th>\n",
       "      <th>8.0</th>\n",
       "      <th>8.1</th>\n",
       "    </tr>\n",
       "  </thead>\n",
       "  <tbody>\n",
       "    <tr>\n",
       "      <th>0</th>\n",
       "      <td>5.0000000000</td>\n",
       "      <td>45.1000000000</td>\n",
       "      <td>0.0000000001</td>\n",
       "      <td>0.0000000001</td>\n",
       "      <td>0.0000000001</td>\n",
       "      <td>0.0000000000</td>\n",
       "      <td>0.0000000000</td>\n",
       "      <td>0.0000000000</td>\n",
       "      <td>0.0000000000</td>\n",
       "      <td>0.0000000000</td>\n",
       "      <td>...</td>\n",
       "      <td>0.0000000000</td>\n",
       "      <td>0.0000000000</td>\n",
       "      <td>0.0000000000</td>\n",
       "      <td>0.0000000000</td>\n",
       "      <td>0.0000000000</td>\n",
       "      <td>0.0000000000</td>\n",
       "      <td>0.0000000000</td>\n",
       "      <td>0.0000000000</td>\n",
       "      <td>0.0000000000</td>\n",
       "      <td>0.0000000000</td>\n",
       "    </tr>\n",
       "    <tr>\n",
       "      <th>1</th>\n",
       "      <td>5.0000000000</td>\n",
       "      <td>45.2000000000</td>\n",
       "      <td>0.0000000004</td>\n",
       "      <td>0.0000000003</td>\n",
       "      <td>0.0000000002</td>\n",
       "      <td>0.0000000002</td>\n",
       "      <td>0.0000000002</td>\n",
       "      <td>0.0000000001</td>\n",
       "      <td>0.0000000001</td>\n",
       "      <td>0.0000000001</td>\n",
       "      <td>...</td>\n",
       "      <td>0.0000000000</td>\n",
       "      <td>0.0000000000</td>\n",
       "      <td>0.0000000000</td>\n",
       "      <td>0.0000000000</td>\n",
       "      <td>0.0000000000</td>\n",
       "      <td>0.0000000000</td>\n",
       "      <td>0.0000000000</td>\n",
       "      <td>0.0000000000</td>\n",
       "      <td>0.0000000000</td>\n",
       "      <td>0.0000000000</td>\n",
       "    </tr>\n",
       "    <tr>\n",
       "      <th>2</th>\n",
       "      <td>5.0000000000</td>\n",
       "      <td>45.3000000000</td>\n",
       "      <td>0.0000000008</td>\n",
       "      <td>0.0000000006</td>\n",
       "      <td>0.0000000005</td>\n",
       "      <td>0.0000000004</td>\n",
       "      <td>0.0000000003</td>\n",
       "      <td>0.0000000002</td>\n",
       "      <td>0.0000000002</td>\n",
       "      <td>0.0000000001</td>\n",
       "      <td>...</td>\n",
       "      <td>0.0000000000</td>\n",
       "      <td>0.0000000000</td>\n",
       "      <td>0.0000000000</td>\n",
       "      <td>0.0000000000</td>\n",
       "      <td>0.0000000000</td>\n",
       "      <td>0.0000000000</td>\n",
       "      <td>0.0000000000</td>\n",
       "      <td>0.0000000000</td>\n",
       "      <td>0.0000000000</td>\n",
       "      <td>0.0000000000</td>\n",
       "    </tr>\n",
       "    <tr>\n",
       "      <th>3</th>\n",
       "      <td>5.0000000000</td>\n",
       "      <td>45.4000000000</td>\n",
       "      <td>0.0000000009</td>\n",
       "      <td>0.0000000007</td>\n",
       "      <td>0.0000000006</td>\n",
       "      <td>0.0000000005</td>\n",
       "      <td>0.0000000004</td>\n",
       "      <td>0.0000000003</td>\n",
       "      <td>0.0000000002</td>\n",
       "      <td>0.0000000002</td>\n",
       "      <td>...</td>\n",
       "      <td>0.0000000000</td>\n",
       "      <td>0.0000000000</td>\n",
       "      <td>0.0000000000</td>\n",
       "      <td>0.0000000000</td>\n",
       "      <td>0.0000000000</td>\n",
       "      <td>0.0000000000</td>\n",
       "      <td>0.0000000000</td>\n",
       "      <td>0.0000000000</td>\n",
       "      <td>0.0000000000</td>\n",
       "      <td>0.0000000000</td>\n",
       "    </tr>\n",
       "    <tr>\n",
       "      <th>4</th>\n",
       "      <td>5.0000000000</td>\n",
       "      <td>45.5000000000</td>\n",
       "      <td>0.0000000009</td>\n",
       "      <td>0.0000000007</td>\n",
       "      <td>0.0000000006</td>\n",
       "      <td>0.0000000004</td>\n",
       "      <td>0.0000000004</td>\n",
       "      <td>0.0000000003</td>\n",
       "      <td>0.0000000002</td>\n",
       "      <td>0.0000000002</td>\n",
       "      <td>...</td>\n",
       "      <td>0.0000000000</td>\n",
       "      <td>0.0000000000</td>\n",
       "      <td>0.0000000000</td>\n",
       "      <td>0.0000000000</td>\n",
       "      <td>0.0000000000</td>\n",
       "      <td>0.0000000000</td>\n",
       "      <td>0.0000000000</td>\n",
       "      <td>0.0000000000</td>\n",
       "      <td>0.0000000000</td>\n",
       "      <td>0.0000000000</td>\n",
       "    </tr>\n",
       "  </tbody>\n",
       "</table>\n",
       "<p>5 rows × 38 columns</p>\n",
       "</div>"
      ],
      "text/plain": [
       "          Long           Lat          4.6          4.7          4.8  \\\n",
       "0 5.0000000000 45.1000000000 0.0000000001 0.0000000001 0.0000000001   \n",
       "1 5.0000000000 45.2000000000 0.0000000004 0.0000000003 0.0000000002   \n",
       "2 5.0000000000 45.3000000000 0.0000000008 0.0000000006 0.0000000005   \n",
       "3 5.0000000000 45.4000000000 0.0000000009 0.0000000007 0.0000000006   \n",
       "4 5.0000000000 45.5000000000 0.0000000009 0.0000000007 0.0000000006   \n",
       "\n",
       "           4.9          5.0          5.1          5.2          5.3  ...  \\\n",
       "0 0.0000000000 0.0000000000 0.0000000000 0.0000000000 0.0000000000  ...   \n",
       "1 0.0000000002 0.0000000002 0.0000000001 0.0000000001 0.0000000001  ...   \n",
       "2 0.0000000004 0.0000000003 0.0000000002 0.0000000002 0.0000000001  ...   \n",
       "3 0.0000000005 0.0000000004 0.0000000003 0.0000000002 0.0000000002  ...   \n",
       "4 0.0000000004 0.0000000004 0.0000000003 0.0000000002 0.0000000002  ...   \n",
       "\n",
       "           7.2          7.3          7.4          7.5          7.6  \\\n",
       "0 0.0000000000 0.0000000000 0.0000000000 0.0000000000 0.0000000000   \n",
       "1 0.0000000000 0.0000000000 0.0000000000 0.0000000000 0.0000000000   \n",
       "2 0.0000000000 0.0000000000 0.0000000000 0.0000000000 0.0000000000   \n",
       "3 0.0000000000 0.0000000000 0.0000000000 0.0000000000 0.0000000000   \n",
       "4 0.0000000000 0.0000000000 0.0000000000 0.0000000000 0.0000000000   \n",
       "\n",
       "           7.7          7.8          7.9          8.0          8.1  \n",
       "0 0.0000000000 0.0000000000 0.0000000000 0.0000000000 0.0000000000  \n",
       "1 0.0000000000 0.0000000000 0.0000000000 0.0000000000 0.0000000000  \n",
       "2 0.0000000000 0.0000000000 0.0000000000 0.0000000000 0.0000000000  \n",
       "3 0.0000000000 0.0000000000 0.0000000000 0.0000000000 0.0000000000  \n",
       "4 0.0000000000 0.0000000000 0.0000000000 0.0000000000 0.0000000000  \n",
       "\n",
       "[5 rows x 38 columns]"
      ]
     },
     "execution_count": 67,
     "metadata": {},
     "output_type": "execute_result"
    }
   ],
   "source": [
    "# Downsample the eartquakes\n",
    "res = 10\n",
    "ds = df.copy()\n",
    "ds['Lat'] = (ds['Lat']*res).astype(int)\n",
    "ds['Long'] = (ds['Long']*res).astype(int)\n",
    "ds = ds.groupby(['Long','Lat'], as_index=False).sum()\n",
    "ds['Lat'] = ds['Lat']/res\n",
    "ds['Long'] = ds['Long']/res\n",
    "\n",
    "print(f'Original number of eartquakes: {len(df)}')\n",
    "print(f'Downsampled number of eartquakes: {len(ds)}')\n",
    "print(f'Ratio: {len(df)/len(ds):.2f}')\n",
    "ds.head()\n"
   ]
  },
  {
   "cell_type": "code",
   "execution_count": 99,
   "metadata": {},
   "outputs": [
    {
     "data": {
      "text/plain": [
       "0.20025143023418376"
      ]
     },
     "execution_count": 99,
     "metadata": {},
     "output_type": "execute_result"
    }
   ],
   "source": [
    "ds['4.6'].sum()"
   ]
  },
  {
   "cell_type": "code",
   "execution_count": 100,
   "metadata": {},
   "outputs": [
    {
     "data": {
      "text/plain": [
       "0.20025143023418376"
      ]
     },
     "execution_count": 100,
     "metadata": {},
     "output_type": "execute_result"
    }
   ],
   "source": [
    "df['4.6'].sum()"
   ]
  },
  {
   "cell_type": "code",
   "execution_count": 43,
   "metadata": {},
   "outputs": [],
   "source": [
    "ds.to_csv('earthquake_probabilities/italy_ds16.csv', index=False)"
   ]
  },
  {
   "cell_type": "markdown",
   "metadata": {},
   "source": [
    "# Preprocessing the network"
   ]
  },
  {
   "cell_type": "code",
   "execution_count": 2,
   "metadata": {},
   "outputs": [],
   "source": [
    "g1 = nx.read_gml('networks/italy_withLength.gml', label='id')\n",
    "g2 = read_lgf_to_networkx_extended('../spine/solution_italia_tmit-bme_long-lat_cost3_minAvailWPreq0-99500.lgf')"
   ]
  },
  {
   "cell_type": "code",
   "execution_count": 14,
   "metadata": {},
   "outputs": [
    {
     "data": {
      "text/plain": [
       "{'id': 26,\n",
       " 'points': {'point': [{'Longitude': 14.20283, 'Latitude': 42.4584},\n",
       "   {'Longitude': 13.874160827302958, 'Latitude': 42.18977106249462},\n",
       "   {'Longitude': 13.805968688165303, 'Latitude': 42.07149971380834},\n",
       "   {'Longitude': 13.5743519519844, 'Latitude': 41.951316788885684},\n",
       "   {'Longitude': 13.5743519519844, 'Latitude': 42.241028060235635},\n",
       "   {'Longitude': 13.425204752600411, 'Latitude': 42.367036702622485},\n",
       "   {'Longitude': 13.016076136662997, 'Latitude': 42.40828181839583},\n",
       "   {'Longitude': 12.745492328371324, 'Latitude': 41.89193},\n",
       "   {'Longitude': 12.51133, 'Latitude': 41.89193}]},\n",
       " 'length': 243.7782466405945}"
      ]
     },
     "execution_count": 14,
     "metadata": {},
     "output_type": "execute_result"
    }
   ],
   "source": [
    "g1.edges[(0, 1, 0)]"
   ]
  },
  {
   "cell_type": "code",
   "execution_count": 15,
   "metadata": {},
   "outputs": [
    {
     "data": {
      "text/plain": [
       "{'points': {'point': [{'Longitude': 14.20283, 'Latitude': 42.4584},\n",
       "   {'Longitude': 13.874160827302958, 'Latitude': 42.18977106249462},\n",
       "   {'Longitude': 13.805968688165303, 'Latitude': 42.07149971380834},\n",
       "   {'Longitude': 13.5743519519844, 'Latitude': 41.951316788885684},\n",
       "   {'Longitude': 13.5743519519844, 'Latitude': 42.241028060235635},\n",
       "   {'Longitude': 13.425204752600411, 'Latitude': 42.367036702622485},\n",
       "   {'Longitude': 13.016076136662997, 'Latitude': 42.40828181839583},\n",
       "   {'Longitude': 12.745492328371324, 'Latitude': 41.89193},\n",
       "   {'Longitude': 12.51133, 'Latitude': 41.89193}]},\n",
       " 'length': 243.7782466405945,\n",
       " 'onspine': 1,\n",
       " 'unav1': 0.0014855403,\n",
       " 'unav': 0.0014855403}"
      ]
     },
     "execution_count": 15,
     "metadata": {},
     "output_type": "execute_result"
    }
   ],
   "source": [
    "g2.edges[(0, 1, 0)]"
   ]
  },
  {
   "cell_type": "code",
   "execution_count": 13,
   "metadata": {},
   "outputs": [],
   "source": [
    "for e in g2.edges:\n",
    "    g2.edges[e]['points'] = g1.edges[e]['points']"
   ]
  },
  {
   "cell_type": "code",
   "execution_count": 16,
   "metadata": {},
   "outputs": [],
   "source": [
    "nx.write_gml(g2, 'networks/italy_995.gml')\n",
    "write_networkx_to_lgf(g2, 'networks/italy_995.lgf')"
   ]
  },
  {
   "cell_type": "code",
   "execution_count": null,
   "metadata": {},
   "outputs": [],
   "source": [
    "EARTH_RADIUS = 6371\n",
    "\n",
    "g = nx.read_gml('networks/interoute_v2_feri.gml', label='id')\n",
    "edge = (2, 5, 0)\n",
    "\n",
    "for n in g.nodes:\n",
    "    u = node_to_SVector(g.nodes[n])\n",
    "    v,w = edge_to_SVectors(g.edges[edge])\n",
    "    gomb = int(u.distance_to_section(v,w) * EARTH_RADIUS)\n",
    "    \n",
    "    edge_points = [tuple(p.values()) for p in g.edges[edge]['points']['point']]\n",
    "    l = LineString(edge_points)\n",
    "    p = Point(g.nodes[n]['Longitude'], g.nodes[n]['Latitude'])\n",
    "    nearest_point = nearest_points(l, p)[0].coords[0]\n",
    "    R = distance(lonlat(*(g.nodes[n]['Longitude'], g.nodes[n]['Latitude'])), lonlat(*nearest_point)).km\n",
    "    print(f'{(gomb-R)/(R+1):.2f}')"
   ]
  },
  {
   "cell_type": "markdown",
   "metadata": {},
   "source": [
    "# Earthquake intensity calculation"
   ]
  },
  {
   "cell_type": "code",
   "execution_count": 19,
   "metadata": {},
   "outputs": [],
   "source": [
    "g = nx.read_gml('networks/italy_995.gml', label='id')\n",
    "\n",
    "df = pd.read_csv('earthquake_probabilities/italy_ds16.csv')\n",
    "df.insert(loc=0, column='Epicenter', value=list(zip(df.Long, df.Lat)))\n",
    "df.set_index('Epicenter', inplace=True)\n",
    "df.drop(['Lat', 'Long'], axis=1, inplace=True)\n",
    "\n",
    "epicenters = df.index\n",
    "magnitudes = df.columns"
   ]
  },
  {
   "cell_type": "code",
   "execution_count": 45,
   "metadata": {},
   "outputs": [
    {
     "data": {
      "text/plain": [
       "Index([(5.1, 45.1), (5.1, 45.3)], dtype='object', name='Epicenter')"
      ]
     },
     "execution_count": 45,
     "metadata": {},
     "output_type": "execute_result"
    }
   ],
   "source": [
    "epicenters[:2]"
   ]
  },
  {
   "cell_type": "code",
   "execution_count": 20,
   "metadata": {
    "tags": []
   },
   "outputs": [
    {
     "data": {
      "application/vnd.jupyter.widget-view+json": {
       "model_id": "6aec851c48be404786489554b0c2087a",
       "version_major": 2,
       "version_minor": 0
      },
      "text/plain": [
       "HBox(children=(FloatProgress(value=0.0, max=35.0), HTML(value='')))"
      ]
     },
     "metadata": {},
     "output_type": "display_data"
    },
    {
     "name": "stdout",
     "output_type": "stream",
     "text": [
      "\n"
     ]
    }
   ],
   "source": [
    "EARTH_RADIUS = 6371\n",
    "I1= np.ones((g.number_of_edges(), len(epicenters), len(magnitudes)))\n",
    "I2 = np.ones((g.number_of_edges(), len(epicenters), len(magnitudes)))\n",
    "\n",
    "D1 = np.ones((g.number_of_edges(), len(epicenters)))\n",
    "D2 = np.ones((g.number_of_edges(), len(epicenters)))\n",
    "\n",
    "for i, e in tqdm(enumerate(g.edges), total=g.number_of_edges()):\n",
    "    edge_points = [(p['Longitude'], p['Latitude']) for p in g.edges[e]['points']['point']]\n",
    "    l = LineString(edge_points)\n",
    "    v,w = edge_to_SVectors(g.edges[e])\n",
    "    for j, epicenter in enumerate(epicenters):\n",
    "        p = Point(epicenter[0],epicenter[1])\n",
    "        nearest_point = nearest_points(l, p)[0].coords[0]\n",
    "        # print([o.wkt for o in nearest_points(l, p)])\n",
    "        \n",
    "        R1 = distance(lonlat(*epicenter), lonlat(*nearest_point)).km\n",
    "        \n",
    "        u = SVector(epicenter[1],epicenter[0])\n",
    "        R2 = u.distance_to_section(v,w) * EARTH_RADIUS\n",
    "        #print(i, e,R1, R2)\n",
    "        \n",
    "        D1[i,j] = R1\n",
    "        D2[i,j] = R2\n",
    "\n",
    "\n",
    "for k, M in enumerate(magnitudes):\n",
    "    i1 = intensity_europe(np.float(M), D1)\n",
    "    i1[i1<1.] = 1.\n",
    "    i2 = intensity_europe(np.float(M), D2)\n",
    "    i2[i2<1.] = 1.\n",
    "    I1[:,:,k] = i1\n",
    "    I2[:,:,k] = i2"
   ]
  },
  {
   "cell_type": "code",
   "execution_count": 32,
   "metadata": {},
   "outputs": [],
   "source": [
    "I3 = np.ones((g.number_of_edges(), len(df.index), len(df.columns)))\n",
    "for k, M in enumerate(df.columns):\n",
    "    i = intensity_europe(np.float(M), D1-1.5)\n",
    "    i[i<1.] = 1.\n",
    "    I3[:,:,k] = i"
   ]
  },
  {
   "cell_type": "code",
   "execution_count": 21,
   "metadata": {},
   "outputs": [
    {
     "data": {
      "text/plain": [
       "(array([  105.,   191.,   891.,   651.,   539.,   582.,  2329.,  2500.,\n",
       "         4104.,  3555.,  3168.,  3299.,  4839.,  4687.,  6640.,  8969.,\n",
       "        60098.,  3457.,   496.,   165.]),\n",
       " array([-344.51186152, -323.97574358, -303.43962564, -282.9035077 ,\n",
       "        -262.36738976, -241.83127182, -221.29515387, -200.75903593,\n",
       "        -180.22291799, -159.68680005, -139.15068211, -118.61456417,\n",
       "         -98.07844623,  -77.54232829,  -57.00621035,  -36.47009241,\n",
       "         -15.93397447,    4.60214347,   25.13826141,   45.67437936,\n",
       "          66.2104973 ]),\n",
       " <BarContainer object of 20 artists>)"
      ]
     },
     "execution_count": 21,
     "metadata": {},
     "output_type": "execute_result"
    },
    {
     "data": {
      "image/png": "[encoded data removed]",
      "text/plain": [
       "<Figure size 432x288 with 1 Axes>"
      ]
     },
     "metadata": {
      "needs_background": "light"
     },
     "output_type": "display_data"
    }
   ],
   "source": [
    "import matplotlib.pyplot as plt\n",
    "\n",
    "diff = ((D1 - D2)).flatten()\n",
    "\n",
    "plt.hist(diff, 20)"
   ]
  },
  {
   "cell_type": "code",
   "execution_count": 34,
   "metadata": {},
   "outputs": [],
   "source": [
    "np.save('intensities/italy_ds16.npy', I1)\n",
    "#np.save('intensities/italy_ds16_csak.npy', I2)"
   ]
  },
  {
   "cell_type": "markdown",
   "metadata": {},
   "source": [
    "# SRLG collection"
   ]
  },
  {
   "cell_type": "code",
   "execution_count": 37,
   "metadata": {},
   "outputs": [
    {
     "data": {
      "application/vnd.jupyter.widget-view+json": {
       "model_id": "1cca3c7f546e4b0dabb57c80080d7b2c",
       "version_major": 2,
       "version_minor": 0
      },
      "text/plain": [
       "HBox(children=(FloatProgress(value=0.0, max=11930.0), HTML(value='')))"
      ]
     },
     "metadata": {},
     "output_type": "display_data"
    },
    {
     "name": "stdout",
     "output_type": "stream",
     "text": [
      "\n"
     ]
    },
    {
     "data": {
      "text/plain": [
       "356"
      ]
     },
     "execution_count": 37,
     "metadata": {},
     "output_type": "execute_result"
    }
   ],
   "source": [
    "min_cut_srlgs = get_minimal_cut_SRLGs('PSRLGs/italy_995.xml', g)\n",
    "len(min_cut_srlgs)"
   ]
  },
  {
   "cell_type": "code",
   "execution_count": 52,
   "metadata": {},
   "outputs": [],
   "source": [
    "srlgs = [srlg for srlg in min_cut_srlgs if get_SRLG_probability(srlg,g,I1,H,prob_matrix) > 0.0001]"
   ]
  },
  {
   "cell_type": "code",
   "execution_count": 53,
   "metadata": {},
   "outputs": [
    {
     "data": {
      "text/plain": [
       "85"
      ]
     },
     "execution_count": 53,
     "metadata": {},
     "output_type": "execute_result"
    }
   ],
   "source": [
    "len(srlgs)"
   ]
  },
  {
   "cell_type": "code",
   "execution_count": null,
   "metadata": {},
   "outputs": [],
   "source": [
    " for srlg in srlgs:\n",
    "    print(get_SRLG_probability(srlg,g,I1,H,prob_matrix), srlg)\n",
    "#print(get_probability_of_falling_apart(srlgs,g,I1,H,prob_matrix))"
   ]
  },
  {
   "cell_type": "code",
   "execution_count": 26,
   "metadata": {},
   "outputs": [],
   "source": [
    "# The network\n",
    "g = nx.read_gml('networks/italy_995.gml', label=\"id\")\n",
    "L = len(g.edges)\n",
    "links = range(L)\n",
    "\n",
    "# The matrix of the intensity values, dimensions: [L,P,M] (link, position, magnitude)\n",
    "#I1 = np.load('intensities/italy_ds16.npy')\n",
    "#I2 = np.load('intensities/italy_ds16_csak.npy')\n",
    "\n",
    "# The matrix of earthquake probabilities, dimensions: [P,M] (position, magnitude)\n",
    "prob_matrix = pd.read_csv('earthquake_probabilities/italy_ds16.csv').drop(['Lat', 'Long'], axis=1).to_numpy()\n",
    "P, M = prob_matrix.shape\n",
    "epicenters = range(P)\n",
    "magnitudes = range(M)\n",
    "\n",
    "srlgs, srlg_probs = get_SRLGs('PSRLGs/italy_995.xml')\n"
   ]
  },
  {
   "cell_type": "code",
   "execution_count": 33,
   "metadata": {},
   "outputs": [
    {
     "name": "stdout",
     "output_type": "stream",
     "text": [
      "=====================\n",
      "0.0030\n",
      "0.0134, 0.0071, 0.0084, {(17, 23, 0)}\n",
      "0.0042, 0.0029, 0.0035, {(17, 22, 0)}\n",
      "0.0044, 0.0042, 0.0049, {(15, 22, 0)}\n",
      "0.0030, 0.0034, 0.0040, {(8, 16, 0)}\n",
      "0.0073, 0.0075, 0.0089, {(8, 15, 0)}\n",
      "0.0032, 0.0028, 0.0034, {(9, 12, 0)}\n",
      "0.0065, 0.0073, 0.0085, {(7, 8, 0)}\n",
      "0.0178, 0.0171, 0.0209, {(1, 8, 0)}\n",
      "0.0032, 0.0028, 0.0033, {(9, 10, 0)}\n",
      "0.0057, 0.0039, 0.0049, {(6, 9, 0)}\n",
      "0.0050, 0.0036, 0.0043, {(6, 7, 0)}\n",
      "0.0201, 0.0207, 0.0233, {(0, 7, 0)}\n",
      "0.0033, 0.0030, 0.0035, {(6, 20, 0)}\n",
      "0.0186, 0.0136, 0.0159, {(0, 1, 0)}\n",
      "0.0106, 0.0065, 0.0079, {(1, 2, 0)}\n",
      "0.0057, 0.0052, 0.0058, {(0, 24, 0)}\n",
      "0.0079, 0.0089, 0.0099, {(2, 24, 0)}\n",
      "0.0218, 0.0176, 0.0215, {(18, 24, 0)}\n",
      "0.0076, 0.0040, 0.0044, {(18, 24, 0), (2, 18, 0)}\n",
      "0.0245, 0.0171, 0.0197, {(2, 18, 0)}\n",
      "0.0038, 0.0042, 0.0045, {(3, 18, 0), (4, 18, 0)}\n",
      "0.0183, 0.0146, 0.0166, {(4, 18, 0)}\n",
      "0.0109, 0.0111, 0.0126, {(3, 18, 0)}\n",
      "0.0138, 0.0068, 0.0083, {(3, 5, 0)}\n"
     ]
    }
   ],
   "source": [
    "H = np.ones(L) * 6.\n",
    "#for T in np.concatenate((np.arange(0.01, 0.001, -0.001), np.arange(0.001, 0.0007, -0.0001))):\n",
    "for T in [0.003]:\n",
    "    print(f'=====================\\n{T:.4f}')\n",
    "    for i in range(len(srlgs)):\n",
    "        if srlg_probs[i] > T:\n",
    "            print(f'{srlg_probs[i]:.4f}, {get_SRLG_probability(srlgs[i],g,I1,H,prob_matrix):.4f}, {get_SRLG_probability(srlgs[i],g,I3,H,prob_matrix):.4f}, {srlgs[i]}')"
   ]
  },
  {
   "cell_type": "code",
   "execution_count": 54,
   "metadata": {},
   "outputs": [],
   "source": [
    "# Correcting node order in SRLG edges\n",
    "edge_list = list(g.edges)\n",
    "for idx,srlg in enumerate(srlgs):\n",
    "    for l in srlg:\n",
    "        if l not in edge_list:\n",
    "            srlgs[idx].discard(l)\n",
    "            srlgs[idx].add((l[1],l[0],l[2]))"
   ]
  },
  {
   "cell_type": "code",
   "execution_count": 55,
   "metadata": {},
   "outputs": [],
   "source": [
    "# Write\n",
    "with open('min_cut_SRLGs/italy_995_10-4', 'wb') as fp:\n",
    "    pickle.dump(srlgs, fp)\n",
    "\n",
    "# Read\n",
    "#with open ('min_cut_SRLGs/italy', 'rb') as fp:\n",
    "#    cut_srlgs = pickle.load(fp)"
   ]
  },
  {
   "cell_type": "markdown",
   "metadata": {},
   "source": [
    "# Creating SRG file"
   ]
  },
  {
   "cell_type": "code",
   "execution_count": 9,
   "metadata": {},
   "outputs": [],
   "source": [
    "g = read_lgf_to_networkx_extended('networks/usa_99.lgf')\n",
    "\n",
    "with open ('results/Heuristic_upgraded_edges_usa_99_nospine', 'rb') as fp:\n",
    "    cut_srlgs = pickle.load(fp)"
   ]
  },
  {
   "cell_type": "code",
   "execution_count": 48,
   "metadata": {},
   "outputs": [
    {
     "data": {
      "text/plain": [
       "0"
      ]
     },
     "execution_count": 48,
     "metadata": {},
     "output_type": "execute_result"
    }
   ],
   "source": [
    "write_networkx_to_srg('networks/italy_995.srg', g, srlgs)"
   ]
  },
  {
   "cell_type": "markdown",
   "metadata": {},
   "source": [
    "# Modify SRG file"
   ]
  },
  {
   "cell_type": "code",
   "execution_count": 2,
   "metadata": {},
   "outputs": [],
   "source": [
    "import glob"
   ]
  },
  {
   "cell_type": "code",
   "execution_count": 4,
   "metadata": {},
   "outputs": [],
   "source": [
    "for srg_file in glob.glob('./results/usa_99/*.srg'):\n",
    "    if 'ILP' in srg_file:\n",
    "        g, srlgs = read_lgf_to_networkx_extended(srg_file)\n",
    "        write_networkx_to_srg(srg_file, g, srlgs)"
   ]
  }
 ],
 "metadata": {
  "kernelspec": {
   "display_name": "Python 3",
   "language": "python",
   "name": "python3"
  },
  "language_info": {
   "codemirror_mode": {
    "name": "ipython",
    "version": 3
   },
   "file_extension": ".py",
   "mimetype": "text/x-python",
   "name": "python",
   "nbconvert_exporter": "python",
   "pygments_lexer": "ipython3",
   "version": "3.7.7"
  }
 },
 "nbformat": 4,
 "nbformat_minor": 4
}
