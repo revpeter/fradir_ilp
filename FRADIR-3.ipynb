{
 "cells": [
  {
   "cell_type": "code",
   "execution_count": 1,
   "metadata": {},
   "outputs": [],
   "source": [
    "import pandas as pd\n",
    "import numpy as np\n",
    "import networkx as nx\n",
    "from shapely.geometry import Point, LineString\n",
    "from shapely.ops import nearest_points\n",
    "from geopy.distance import distance, lonlat"
   ]
  },
  {
   "cell_type": "code",
   "execution_count": null,
   "metadata": {},
   "outputs": [],
   "source": [
    "df = pd.read_table('incremental_annual_rates/incremental_annual_rates_USA.txt', sep='\\s+', header=None)\n",
    "df.head()"
   ]
  },
  {
   "cell_type": "code",
   "execution_count": null,
   "metadata": {},
   "outputs": [],
   "source": [
    "df.columns = ['Lat', 'Long'] + [str(np.around(x,1)) for x in np.arange(4.6, 8.7, 0.1)]\n",
    "df.drop(df.columns[42:], axis=1, inplace=True)\n",
    "df.fillna(value=0.0, inplace=True)\n",
    "df = df[df['4.6'] != 0.0]\n",
    "df.rename(columns={'Lat':'Long', 'Long':'Lat'}, inplace=True)"
   ]
  },
  {
   "cell_type": "code",
   "execution_count": null,
   "metadata": {},
   "outputs": [],
   "source": [
    "df = pd.read_csv('incremental_annual_rates/incremental_annual_rates_italy.csv')\n",
    "df.head()"
   ]
  },
  {
   "cell_type": "code",
   "execution_count": null,
   "metadata": {},
   "outputs": [],
   "source": [
    "df.to_csv('incremental_annual_rates/incremental_annual_rates_italy_without_zeros.csv', index=False)"
   ]
  },
  {
   "cell_type": "code",
   "execution_count": null,
   "metadata": {},
   "outputs": [],
   "source": [
    "g = nx.read_gml('networks/italy.gml')"
   ]
  },
  {
   "cell_type": "code",
   "execution_count": null,
   "metadata": {
    "tags": []
   },
   "outputs": [],
   "source": [
    "def intensity_europe(M, R):\n",
    "    h = 3.91\n",
    "    D = np.sqrt(h**2 + R**2)\n",
    "    return 1.621*M - 1.343 - 0.0086*(D-h) - 1.037*(np.log(D)-np.log(h))"
   ]
  },
  {
   "cell_type": "code",
   "execution_count": null,
   "metadata": {},
   "outputs": [],
   "source": [
    "l = [tuple(d.values()) for d in g.edges[('Rome', 'Pescara', 0)]['points']['point']]\n",
    "edge = LineString(l)\n",
    "point = Point(10.8,48.3)\n",
    "nearest_point = nearest_points(edge, point)[0]\n",
    "nearest_point.coords[:]"
   ]
  },
  {
   "cell_type": "code",
   "execution_count": null,
   "metadata": {
    "tags": []
   },
   "outputs": [],
   "source": [
    "for e in g.edges:\n",
    "    edge_points = [tuple(p.values()) for p in g.edges[e]['points']['point']]\n",
    "    edge = LineString(edge_points)\n",
    "    epicenter = Point(10.5,48.2)\n",
    "    nearest_point = nearest_points(edge, epicenter)[0].coords[0]\n",
    "    dist = distance(lonlat(*epicenter.coords[0]), lonlat(*nearest_point)).km\n",
    "    intensity = intensity_europe(8.6, dist)\n",
    "    print(\"%.1f\" % intensity)"
   ]
  },
  {
   "cell_type": "code",
   "execution_count": 82,
   "metadata": {},
   "outputs": [],
   "source": [
    "#df['Epicenter'] = list(zip(df.Lat, df.Long))\n",
    "#df.insert(loc=0, column='Epicenter', value=list(zip(df.Lat, df.Long)))\n",
    "df.set_index('Epicenter', inplace=True)"
   ]
  },
  {
   "cell_type": "code",
   "execution_count": 101,
   "metadata": {},
   "outputs": [
    {
     "output_type": "execute_result",
     "data": {
      "text/plain": "(48.3, 10.8)"
     },
     "metadata": {},
     "execution_count": 101
    }
   ],
   "source": [
    "epicenters = df.index.to_numpy()\n",
    "magnitudes = df.columns[2:].to_numpy()"
   ]
  },
  {
   "cell_type": "code",
   "execution_count": null,
   "metadata": {},
   "outputs": [],
   "source": [
    "I = np.zeros((g.number_of_edges(), len(epicenters), len(magnitudes)))\n",
    "for e in g.edges:\n",
    "    edge_points = [tuple(p.values()) for p in g.edges[e]['points']['point']]\n",
    "    l = LineString(edge_points)\n",
    "    for epicenter in epicenters:\n",
    "        p = Point(epicenter)\n",
    "        nearest_point = nearest_points(l, p)[0].coords[0]\n",
    "        R = distance(epicenter.coords[0], lonlat(*nearest_point)).km\n",
    "        for M in magnitudes:\n",
    "            i = intensity_europe(np.float(M), R)\n",
    "    \n",
    "    print(\"%.1f\" % intensity)"
   ]
  },
  {
   "cell_type": "code",
   "execution_count": 113,
   "metadata": {},
   "outputs": [
    {
     "output_type": "execute_result",
     "data": {
      "text/plain": "[(0, ('Rome', 'Pescara', 0)),\n (1, ('Rome', 'Florence', 0)),\n (2, ('Rome', 'Civitavecchia', 0)),\n (3, ('Rome', 'Naples', 0)),\n (4, ('Pescara', 'Bari', 0)),\n (5, ('Pescara', 'Bologna', 0)),\n (6, ('Bari', 'Messina', 0)),\n (7, ('Bari', 'Naples', 0)),\n (8, ('Catania', 'Mazara del Vallo', 0)),\n (9, ('Catania', 'Messina', 0)),\n (10, ('Palermo', 'Mazara del Vallo', 0)),\n (11, ('Palermo', 'Messina', 0)),\n (12, ('Mazara del Vallo', 'Cagliari', 0)),\n (13, ('Pisa', 'Florence', 0)),\n (14, ('Pisa', 'Genoa', 0)),\n (15, ('Pisa', 'Civitavecchia', 0)),\n (16, ('Florence', 'Bologna', 0)),\n (17, ('Bologna', 'Venice', 0)),\n (18, ('Bologna', 'Milan', 0)),\n (19, ('Genoa', 'Turin', 0)),\n (20, ('Genoa', 'Monaco', 0)),\n (21, ('Monaco', 'Marseille', 0)),\n (22, ('Marseille', 'Lausanne', 0)),\n (23, ('Turin', 'Milan', 0)),\n (24, ('Lausanne', 'Berne', 0)),\n (25, ('Berne', 'Milan', 0)),\n (26, ('Milan', 'Treviso', 0)),\n (27, ('Venice', 'Udine', 0)),\n (28, ('Venice', 'Treviso', 0)),\n (29, ('Udine', 'Treviso', 0)),\n (30, ('Udine', 'Graz', 0)),\n (31, ('Messina', 'Naples', 0)),\n (32, ('Cagliari', 'Olbia', 0)),\n (33, ('Cagliari', 'Olbia', 1)),\n (34, ('Civitavecchia', 'Olbia', 0))]"
     },
     "metadata": {},
     "execution_count": 113
    }
   ],
   "source": [
    "list(enumerate(g.edges))"
   ]
  }
 ],
 "metadata": {
  "language_info": {
   "codemirror_mode": {
    "name": "ipython",
    "version": 3
   },
   "file_extension": ".py",
   "mimetype": "text/x-python",
   "name": "python",
   "nbconvert_exporter": "python",
   "pygments_lexer": "ipython3",
   "version": "3.7.6-final"
  },
  "orig_nbformat": 2,
  "kernelspec": {
   "name": "python3",
   "display_name": "Python 3"
  }
 },
 "nbformat": 4,
 "nbformat_minor": 2
}