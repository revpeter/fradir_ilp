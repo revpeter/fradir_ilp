{
 "cells": [
  {
   "cell_type": "code",
   "execution_count": 1,
   "metadata": {},
   "outputs": [],
   "source": [
    "from mip import Model, xsum, maximize, BINARY, minimize, INTEGER"
   ]
  },
  {
   "cell_type": "code",
   "execution_count": null,
   "metadata": {},
   "outputs": [],
   "source": [
    "m = Model(\"fradir\")\n",
    "\n",
    "\n",
    "\n",
    "m.objective = minimize(xsum(c[i] * DeltaH[i] for i in link))\n",
    "\n",
    "for s in all_S:\n",
    "    m += xsum(y[i] - len(s) + 1 for i in s) <= Z[s]\n",
    "\n",
    "for s in all_S:\n",
    "    m += xsum(Pr[p,m] * Z[s, p, m] for p in P for m in M)\n",
    "\n",
    "m.optimize()\n"
   ]
  }
 ],
 "metadata": {
  "language_info": {
   "codemirror_mode": {
    "name": "ipython",
    "version": 3
   },
   "file_extension": ".py",
   "mimetype": "text/x-python",
   "name": "python",
   "nbconvert_exporter": "python",
   "pygments_lexer": "ipython3",
   "version": 3
  },
  "orig_nbformat": 2,
  "kernelspec": {
   "name": "python_defaultSpec_1594832895394",
   "display_name": "Python 3.7.6 64-bit ('base': conda)"
  }
 },
 "nbformat": 4,
 "nbformat_minor": 2
}