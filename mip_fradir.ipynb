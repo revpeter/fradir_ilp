{
 "cells": [
  {
   "cell_type": "code",
   "execution_count": 1,
   "metadata": {},
   "outputs": [],
   "source": [
    "from mip import *\n",
    "import networkx as nx\n",
    "import pickle\n",
    "from itertools import product\n",
    "import numpy as np\n",
    "import pandas as pd\n",
    "import time"
   ]
  },
  {
   "cell_type": "code",
   "execution_count": 2,
   "metadata": {},
   "outputs": [],
   "source": [
    "# The network\n",
    "g = nx.read_gml('networks/italy.gml', label=\"id\")\n",
    "L = len(g.edges)\n",
    "links = range(L)\n",
    "\n",
    "\n",
    "# The cut SRLGs\n",
    "with open ('min_cut_SRLGs/italy_complete_10-4', 'rb') as fp:\n",
    "    cut_srlgs = pickle.load(fp)\n",
    "S = len(cut_srlgs)\n",
    "\n",
    "\n",
    "# The matrix of the intensity values, dimensions: [L,P,M] (link, position, magnitude)\n",
    "intensity = np.load('intensities/italy_ds16.npy')\n",
    "\n",
    "\n",
    "# The matrix of earthquake probabilities, dimensions: [P,M] (position, magnitude)\n",
    "prob_matrix = pd.read_csv('earthquake_probabilities/italy_ds16.csv').drop(['Lat', 'Long'], axis=1).to_numpy()\n",
    "P, M = prob_matrix.shape\n",
    "epicenters = range(P)\n",
    "magnitudes = range(M)\n",
    "\n",
    "\n",
    "# Parameters\n",
    "Hnull = 6\n",
    "T = 0.001\n",
    "cost = 1"
   ]
  },
  {
   "cell_type": "code",
   "execution_count": 4,
   "metadata": {},
   "outputs": [
    {
     "name": "stdout",
     "output_type": "stream",
     "text": [
      "(4, 5, 0) 10\n",
      "(4, 18, 0) 11\n",
      "-----\n",
      "(13, 14, 0) 24\n",
      "(14, 15, 0) 25\n",
      "-----\n",
      "(6, 9, 0) 14\n",
      "(15, 22, 0) 26\n",
      "(8, 15, 0) 18\n",
      "-----\n",
      "(12, 15, 0) 23\n",
      "(9, 12, 0) 19\n",
      "-----\n"
     ]
    }
   ],
   "source": [
    "column_mask = np.full(intensity.shape[2], fill_value=True, dtype=bool)\n",
    "row_mask = np.full(intensity.shape[1], fill_value=True, dtype=bool)\n",
    "\n",
    "for srlg in cut_srlgs[:4]:\n",
    "    srlg_column_mask = np.full(intensity.shape[2], fill_value=True, dtype=bool)\n",
    "    srlg_row_mask = np.full(intensity.shape[1], fill_value=True, dtype=bool)\n",
    "    for link in srlg:\n",
    "        idx = list(g.edges).index(link)\n",
    "        print(link, idx)\n",
    "        link_mask = intensity[idx]>6\n",
    "        srlg_column_mask &= link_mask.any(axis=0)\n",
    "        srlg_row_mask &= link_mask.any(axis=1)\n",
    "    column_mask |= srlg_column_mask\n",
    "    row_mask |= srlg_row_mask\n",
    "    print('-----')"
   ]
  },
  {
   "cell_type": "code",
   "execution_count": 4,
   "metadata": {
    "tags": []
   },
   "outputs": [
    {
     "name": "stdout",
     "output_type": "stream",
     "text": [
      "[{(4, 5, 0), (4, 18, 0)}, {(13, 14, 0), (14, 15, 0)}]\n",
      "10 (4, 5, 0)\n",
      "11 (4, 18, 0)\n",
      "24 (13, 14, 0)\n",
      "25 (14, 15, 0)\n",
      "The shape of the intensity matrix: (35, 914, 37)\n"
     ]
    }
   ],
   "source": [
    "# Compressing the problem, to 1 SLRG and the minimum number of earthquakes\n",
    "cut_srlgs = cut_srlgs[:2]\n",
    "S = len(cut_srlgs)\n",
    "print(cut_srlgs)\n",
    "\n",
    "column_mask = np.full(intensity.shape[2], fill_value=False, dtype=bool)\n",
    "row_mask = np.full(intensity.shape[1], fill_value=False, dtype=bool)\n",
    "\n",
    "for srlg in cut_srlgs:\n",
    "    srlg_mask = np.full(intensity.shape[1:], fill_value=True, dtype=bool)\n",
    "    for link in srlg:\n",
    "        idx = list(g.edges).index(link)\n",
    "        print(idx, link)\n",
    "        link_mask = intensity[idx]>6\n",
    "        srlg_mask &= link_mask\n",
    "    column_mask |= srlg_mask.any(axis=0)\n",
    "    row_mask |= srlg_mask.any(axis=1)\n",
    "\n",
    "intensity = intensity[:,:,column_mask][:,row_mask]\n",
    "prob_matrix = prob_matrix[:,column_mask][row_mask]\n",
    "\n",
    "P, M = prob_matrix.shape\n",
    "epicenters = range(P)\n",
    "magnitudes = range(M)\n",
    "\n",
    "print(f'The shape of the intensity matrix: {intensity.shape}')"
   ]
  },
  {
   "cell_type": "code",
   "execution_count": 3,
   "metadata": {
    "tags": []
   },
   "outputs": [
    {
     "output_type": "stream",
     "name": "stderr",
     "text": "gurobi version 9.0 found\n106.9 s:\tVáltozók létrehozva...\n108.9 s:\tCélfüggvény létrehozva...\n314.6 s:\tElső egyenlet létrehozva...\n3068.1 s:\tMásodik egyenlet létrehozva...\n3148.8 s:\tHarmadik egyenlet létrehozva...\n"
    }
   ],
   "source": [
    "start = time.perf_counter()\n",
    "\n",
    "#Model\n",
    "model = Model(sense=MINIMIZE, solver_name=GRB)\n",
    "\n",
    "#Variables\n",
    "deltaH = [model.add_var(var_type=INTEGER, lb=0, ub=6) for l,_ in enumerate(g.edges)]\n",
    "Z = [[[model.add_var(var_type=BINARY) for k in magnitudes] for j in epicenters] for i in range(S)]\n",
    "Y = [[[model.add_var(var_type=BINARY) for k in magnitudes] for j in epicenters] for i in links]\n",
    "print(\"%.1f s:\\tVáltozók létrehozva...\"%(time.perf_counter()-start))\n",
    "\n",
    "\n",
    "#Objective Function\n",
    "model.objective = xsum( cost * deltaH[l] for l in links )\n",
    "print(\"%.1f s:\\tCélfüggvény létrehozva...\"%(time.perf_counter()-start))\n",
    "\n",
    "\n",
    "#Constraint 1\n",
    "for l,p,m in product(*[links, epicenters, magnitudes]):\n",
    "    model.add_constr( Y[l][p][m] >= 1 - ((Hnull + deltaH[l]) / intensity[l,p,m]) )\n",
    "print(\"%.1f s:\\tElső egyenlet létrehozva...\"%(time.perf_counter()-start))\n",
    "\n",
    "\n",
    "#Constraint 2\n",
    "for (c,s), p, m in product(*[enumerate(cut_srlgs), epicenters, magnitudes]):\n",
    "    model.add_constr( Z[c][p][m] >= (xsum(Y[list(g.edges).index(linkID)][p][m] for linkID in s) - len(s) + 1) )\n",
    "print(\"%.1f s:\\tMásodik egyenlet létrehozva...\"%(time.perf_counter()-start))\n",
    "\n",
    "#Constraint 3\n",
    "for c,_ in enumerate(cut_srlgs):\n",
    "    model.add_constr(xsum( Z[c][p][m] * prob_matrix[p,m] for p,m in product(epicenters,magnitudes) ) <= T, \"c3_\"+str(c))\n",
    "print(\"%.1f s:\\tHarmadik egyenlet létrehozva...\"%(time.perf_counter()-start))\n",
    "\n",
    "#Start optimization\n",
    "model.optimize()#max_seconds="
   ]
  },
  {
   "cell_type": "code",
   "execution_count": 5,
   "metadata": {
    "tags": []
   },
   "outputs": [
    {
     "name": "stdout",
     "output_type": "stream",
     "text": [
      "selected items: [(3.0, (0, 20, 0)), (1.0, (1, 2, 0)), (1.0, (2, 18, 0)), (4.0, (4, 18, 0)), (4.0, (7, 8, 0)), (2.0, (12, 15, 0)), (1.0, (14, 15, 0)), (1.0, (15, 22, 0))]\n"
     ]
    }
   ],
   "source": [
    "# The result\n",
    "selected = [(deltaH[l].x,e) for l,e in enumerate(g.edges) if deltaH[l].x >= 0.5]\n",
    "print(\"selected items: {}\".format(selected))\n",
    "#print([dH.x for dH in deltaH])"
   ]
  },
  {
   "cell_type": "code",
   "execution_count": 7,
   "metadata": {},
   "outputs": [],
   "source": [
    "# Add additional constraint\n",
    "# It does not deletes Constraint 3 but completes it\n",
    "for c,s in enumerate(cut_srlgs):\n",
    "    model.add_constr(xsum( Z[c][p][m] * prob_matrix[p,m] for p,m in product(epicenters,magnitudes) ) <= 0.00001, \"c3_\"+str(c))"
   ]
  },
  {
   "cell_type": "code",
   "execution_count": 8,
   "metadata": {},
   "outputs": [
    {
     "data": {
      "text/plain": [
       "<OptimizationStatus.OPTIMAL: 0>"
      ]
     },
     "execution_count": 8,
     "metadata": {},
     "output_type": "execute_result"
    }
   ],
   "source": [
    "# Start optimization\n",
    "model.optimize()"
   ]
  },
  {
   "cell_type": "code",
   "execution_count": 6,
   "metadata": {
    "tags": []
   },
   "outputs": [
    {
     "name": "stdout",
     "output_type": "stream",
     "text": [
      "{(4, 5, 0), (4, 18, 0)} 0.0\n",
      "{(13, 14, 0), (14, 15, 0)} 0.0\n"
     ]
    }
   ],
   "source": [
    "# The probability of occurance of the SRLGs\n",
    "for c,s in enumerate(cut_srlgs):\n",
    "    print(s, sum(Z[c][p][m].x * prob_matrix[p,m] for p,m in product(epicenters,magnitudes) ))"
   ]
  },
  {
   "cell_type": "markdown",
   "metadata": {},
   "source": [
    "# ---------------------------------------------------------------"
   ]
  },
  {
   "cell_type": "code",
   "execution_count": 7,
   "metadata": {},
   "outputs": [],
   "source": [
    "def ff(a,b):\n",
    "    return a*2 + b**2"
   ]
  },
  {
   "cell_type": "code",
   "execution_count": 14,
   "metadata": {
    "tags": []
   },
   "outputs": [
    {
     "name": "stdout",
     "output_type": "stream",
     "text": [
      "selected items: [3, 6]\n"
     ]
    }
   ],
   "source": [
    "#koltseg =  [11, 3,3, 6, 1, 9, 16,78]\n",
    "koltseg = 8\n",
    "fejlesztes = [17,6,4,61,16,42,156, 7]\n",
    "\n",
    "y = [1,1,0,1,0,1,0,0]\n",
    "z = [0,1,1,1,0,1,0,1]\n",
    "\n",
    "items = len(fejlesztes)\n",
    "\n",
    "m = Model(\"fradir\")\n",
    "\n",
    "#decision variable\n",
    "x = [m.add_var(var_type=BINARY) for i in range(items)]\n",
    "fejlesztes_Dvar = [m.add_var(var_type=INTEGER, lb=1, ub=6) for i in range(items)]\n",
    "\n",
    "#objective\n",
    "m.objective = maximize(xsum(koltseg * fejlesztes[i] * x[i] for i in range(items)))\n",
    "\n",
    "#cons\n",
    "#m += xsum(y[i] * x[i] for i in range(items)) >= 2\n",
    "\n",
    "#m += xsum(z[i] * x[i] for i in range(items)) >= 2\n",
    "\n",
    "#m += xsum(((y[i] + z[i]) % 2) * x[i]  for i in range(items)) == 0\n",
    "\n",
    "for i in range(items):\n",
    "    m += 10 * x[i] <= fejlesztes[i]\n",
    "\n",
    "#m += xsum(( fejlesztes[i] * x[i]  for i in range(items))) <= 14\n",
    "\n",
    "m += xsum(x[i] for i in range(items)) == 2\n",
    "\n",
    "\n",
    "m.optimize()\n",
    "\n",
    "selected = [i for i in range(items) if x[i].x >= 0.99]\n",
    "print(\"selected items: {}\".format(selected))"
   ]
  },
  {
   "cell_type": "code",
   "execution_count": 14,
   "metadata": {
    "tags": []
   },
   "outputs": [
    {
     "data": {
      "text/plain": [
       "22"
      ]
     },
     "execution_count": 14,
     "metadata": {},
     "output_type": "execute_result"
    }
   ],
   "source": [
    "ff(3,4)"
   ]
  },
  {
   "cell_type": "markdown",
   "metadata": {},
   "source": [
    "# GEKKO"
   ]
  },
  {
   "cell_type": "code",
   "execution_count": 6,
   "metadata": {},
   "outputs": [],
   "source": [
    "import random\n",
    "from gekko import GEKKO\n",
    "import numpy as np"
   ]
  },
  {
   "cell_type": "code",
   "execution_count": 7,
   "metadata": {
    "tags": []
   },
   "outputs": [
    {
     "name": "stdout",
     "output_type": "stream",
     "text": [
      "[[0.0] [0.0] [0.0] [0.0] [0.0] [0.0] [1.0] [0.0]]\n",
      "Sorszam: 6., koltseg: 16, fejlesztes: 6.0\n"
     ]
    }
   ],
   "source": [
    "koltseg =  [11, 3,3, 6, 1, 9, 16,78]\n",
    "fejlesztes = [17,67,4,61,16,42,156, 7]\n",
    "\n",
    "y = [1,0,1,1,0,1,1,0]\n",
    "z = [0,1,1,1,0,1,1,1]\n",
    "\n",
    "prob = [0.5, 1.2, 1.5, 1.7, 0.1, 1.8, 0.4, 1.9]\n",
    "\n",
    "items = len(koltseg)\n",
    "\n",
    "# Create model\n",
    "m = GEKKO()\n",
    "\n",
    "# Variables\n",
    "x = m.Array(m.Var,items,lb=0,ub=1,integer=True)\n",
    "fejlesztes_Dvar = m.Array(m.Var, items, lb=1,ub=6, integer=True)\n",
    "b = m.Array(m.Var, items, lb=1,ub=8, integer=True)\n",
    "#x2 = m.Array(m.Var, len(w),lb=0,ub=1,integer = True)\n",
    "\n",
    "# Objective\n",
    "m.Maximize(sum(koltseg[i] * fejlesztes_Dvar[i] * x[i] for i in range(items) ))\n",
    "\n",
    "# Constraint\n",
    "m.Equation(sum([(y[i] + z[i]) * x[i] for i in range(items)]) == 2)\n",
    "\n",
    "m.Equation(sum([x[i] for i in range(items)]) == 1)\n",
    "\n",
    "m.Equation(sum((z[i] * prob[i]) *x[i] for i in range(items)) <=1.6 )\n",
    "\n",
    "# Optimize with APOPT\n",
    "m.options.SOLVER = 1\n",
    "\n",
    "m.solve(disp = False)\n",
    "\n",
    "# Print the value of the variables at the optimum\n",
    "print(x)\n",
    "for i in range(len(x)):\n",
    "    if x[i][0] == 1.0:\n",
    "        print(\"Sorszam: {}., koltseg: {}, fejlesztes: {}\".format(i,koltseg[i], fejlesztes_Dvar[i][0]))"
   ]
  },
  {
   "cell_type": "code",
   "execution_count": 8,
   "metadata": {},
   "outputs": [],
   "source": []
  },
  {
   "cell_type": "code",
   "execution_count": 2,
   "metadata": {},
   "outputs": [],
   "source": [
    "data = np.load('italy.npy')"
   ]
  },
  {
   "cell_type": "code",
   "execution_count": 13,
   "metadata": {},
   "outputs": [
    {
     "data": {
      "text/html": [
       "<div>\n",
       "<style scoped>\n",
       "    .dataframe tbody tr th:only-of-type {\n",
       "        vertical-align: middle;\n",
       "    }\n",
       "\n",
       "    .dataframe tbody tr th {\n",
       "        vertical-align: top;\n",
       "    }\n",
       "\n",
       "    .dataframe thead th {\n",
       "        text-align: right;\n",
       "    }\n",
       "</style>\n",
       "<table border=\"1\" class=\"dataframe\">\n",
       "  <thead>\n",
       "    <tr style=\"text-align: right;\">\n",
       "      <th></th>\n",
       "      <th>0</th>\n",
       "      <th>1</th>\n",
       "      <th>2</th>\n",
       "      <th>3</th>\n",
       "      <th>4</th>\n",
       "      <th>5</th>\n",
       "      <th>6</th>\n",
       "      <th>7</th>\n",
       "      <th>8</th>\n",
       "      <th>9</th>\n",
       "      <th>...</th>\n",
       "      <th>31</th>\n",
       "      <th>32</th>\n",
       "      <th>33</th>\n",
       "      <th>34</th>\n",
       "      <th>35</th>\n",
       "      <th>36</th>\n",
       "      <th>37</th>\n",
       "      <th>38</th>\n",
       "      <th>39</th>\n",
       "      <th>40</th>\n",
       "    </tr>\n",
       "  </thead>\n",
       "  <tbody>\n",
       "    <tr>\n",
       "      <th>count</th>\n",
       "      <td>48442.000000</td>\n",
       "      <td>48442.000000</td>\n",
       "      <td>48442.000000</td>\n",
       "      <td>48442.000000</td>\n",
       "      <td>48442.000000</td>\n",
       "      <td>48442.000000</td>\n",
       "      <td>48442.000000</td>\n",
       "      <td>48442.000000</td>\n",
       "      <td>48442.000000</td>\n",
       "      <td>48442.000000</td>\n",
       "      <td>...</td>\n",
       "      <td>48442.000000</td>\n",
       "      <td>48442.000000</td>\n",
       "      <td>48442.000000</td>\n",
       "      <td>48442.000000</td>\n",
       "      <td>48442.000000</td>\n",
       "      <td>48442.000000</td>\n",
       "      <td>48442.000000</td>\n",
       "      <td>48442.000000</td>\n",
       "      <td>48442.000000</td>\n",
       "      <td>48442.000000</td>\n",
       "    </tr>\n",
       "    <tr>\n",
       "      <th>mean</th>\n",
       "      <td>1.154713</td>\n",
       "      <td>1.174508</td>\n",
       "      <td>1.196344</td>\n",
       "      <td>1.220365</td>\n",
       "      <td>1.246715</td>\n",
       "      <td>1.275495</td>\n",
       "      <td>1.306710</td>\n",
       "      <td>1.340423</td>\n",
       "      <td>1.376788</td>\n",
       "      <td>1.415944</td>\n",
       "      <td>...</td>\n",
       "      <td>3.194826</td>\n",
       "      <td>3.325022</td>\n",
       "      <td>3.459114</td>\n",
       "      <td>3.597036</td>\n",
       "      <td>3.738632</td>\n",
       "      <td>3.883800</td>\n",
       "      <td>4.032280</td>\n",
       "      <td>4.183553</td>\n",
       "      <td>4.337154</td>\n",
       "      <td>4.492752</td>\n",
       "    </tr>\n",
       "    <tr>\n",
       "      <th>std</th>\n",
       "      <td>0.578387</td>\n",
       "      <td>0.617518</td>\n",
       "      <td>0.658248</td>\n",
       "      <td>0.700550</td>\n",
       "      <td>0.744388</td>\n",
       "      <td>0.789728</td>\n",
       "      <td>0.836545</td>\n",
       "      <td>0.884773</td>\n",
       "      <td>0.934307</td>\n",
       "      <td>0.985046</td>\n",
       "      <td>...</td>\n",
       "      <td>2.112041</td>\n",
       "      <td>2.145883</td>\n",
       "      <td>2.176857</td>\n",
       "      <td>2.204735</td>\n",
       "      <td>2.229386</td>\n",
       "      <td>2.250615</td>\n",
       "      <td>2.268428</td>\n",
       "      <td>2.283199</td>\n",
       "      <td>2.295290</td>\n",
       "      <td>2.304934</td>\n",
       "    </tr>\n",
       "    <tr>\n",
       "      <th>min</th>\n",
       "      <td>1.000000</td>\n",
       "      <td>1.000000</td>\n",
       "      <td>1.000000</td>\n",
       "      <td>1.000000</td>\n",
       "      <td>1.000000</td>\n",
       "      <td>1.000000</td>\n",
       "      <td>1.000000</td>\n",
       "      <td>1.000000</td>\n",
       "      <td>1.000000</td>\n",
       "      <td>1.000000</td>\n",
       "      <td>...</td>\n",
       "      <td>1.000000</td>\n",
       "      <td>1.000000</td>\n",
       "      <td>1.000000</td>\n",
       "      <td>1.000000</td>\n",
       "      <td>1.000000</td>\n",
       "      <td>1.000000</td>\n",
       "      <td>1.000000</td>\n",
       "      <td>1.000000</td>\n",
       "      <td>1.000000</td>\n",
       "      <td>1.000000</td>\n",
       "    </tr>\n",
       "    <tr>\n",
       "      <th>25%</th>\n",
       "      <td>1.000000</td>\n",
       "      <td>1.000000</td>\n",
       "      <td>1.000000</td>\n",
       "      <td>1.000000</td>\n",
       "      <td>1.000000</td>\n",
       "      <td>1.000000</td>\n",
       "      <td>1.000000</td>\n",
       "      <td>1.000000</td>\n",
       "      <td>1.000000</td>\n",
       "      <td>1.000000</td>\n",
       "      <td>...</td>\n",
       "      <td>1.260501</td>\n",
       "      <td>1.422601</td>\n",
       "      <td>1.584701</td>\n",
       "      <td>1.746801</td>\n",
       "      <td>1.908901</td>\n",
       "      <td>2.071001</td>\n",
       "      <td>2.233101</td>\n",
       "      <td>2.395201</td>\n",
       "      <td>2.557301</td>\n",
       "      <td>2.719401</td>\n",
       "    </tr>\n",
       "    <tr>\n",
       "      <th>50%</th>\n",
       "      <td>1.000000</td>\n",
       "      <td>1.000000</td>\n",
       "      <td>1.000000</td>\n",
       "      <td>1.000000</td>\n",
       "      <td>1.000000</td>\n",
       "      <td>1.000000</td>\n",
       "      <td>1.000000</td>\n",
       "      <td>1.000000</td>\n",
       "      <td>1.000000</td>\n",
       "      <td>1.000000</td>\n",
       "      <td>...</td>\n",
       "      <td>2.691067</td>\n",
       "      <td>2.853167</td>\n",
       "      <td>3.015267</td>\n",
       "      <td>3.177367</td>\n",
       "      <td>3.339467</td>\n",
       "      <td>3.501567</td>\n",
       "      <td>3.663667</td>\n",
       "      <td>3.825767</td>\n",
       "      <td>3.987867</td>\n",
       "      <td>4.149967</td>\n",
       "    </tr>\n",
       "    <tr>\n",
       "      <th>75%</th>\n",
       "      <td>1.000000</td>\n",
       "      <td>1.000000</td>\n",
       "      <td>1.000000</td>\n",
       "      <td>1.000000</td>\n",
       "      <td>1.000000</td>\n",
       "      <td>1.000000</td>\n",
       "      <td>1.000000</td>\n",
       "      <td>1.000000</td>\n",
       "      <td>1.000000</td>\n",
       "      <td>1.004125</td>\n",
       "      <td>...</td>\n",
       "      <td>4.570325</td>\n",
       "      <td>4.732425</td>\n",
       "      <td>4.894525</td>\n",
       "      <td>5.056625</td>\n",
       "      <td>5.218725</td>\n",
       "      <td>5.380825</td>\n",
       "      <td>5.542925</td>\n",
       "      <td>5.705025</td>\n",
       "      <td>5.867125</td>\n",
       "      <td>6.029225</td>\n",
       "    </tr>\n",
       "    <tr>\n",
       "      <th>max</th>\n",
       "      <td>6.113586</td>\n",
       "      <td>6.275686</td>\n",
       "      <td>6.437786</td>\n",
       "      <td>6.599886</td>\n",
       "      <td>6.761986</td>\n",
       "      <td>6.924086</td>\n",
       "      <td>7.086186</td>\n",
       "      <td>7.248286</td>\n",
       "      <td>7.410386</td>\n",
       "      <td>7.572486</td>\n",
       "      <td>...</td>\n",
       "      <td>11.138686</td>\n",
       "      <td>11.300786</td>\n",
       "      <td>11.462886</td>\n",
       "      <td>11.624986</td>\n",
       "      <td>11.787086</td>\n",
       "      <td>11.949186</td>\n",
       "      <td>12.111286</td>\n",
       "      <td>12.273386</td>\n",
       "      <td>12.435486</td>\n",
       "      <td>12.597586</td>\n",
       "    </tr>\n",
       "  </tbody>\n",
       "</table>\n",
       "<p>8 rows × 41 columns</p>\n",
       "</div>"
      ],
      "text/plain": [
       "                 0             1             2             3             4   \\\n",
       "count  48442.000000  48442.000000  48442.000000  48442.000000  48442.000000   \n",
       "mean       1.154713      1.174508      1.196344      1.220365      1.246715   \n",
       "std        0.578387      0.617518      0.658248      0.700550      0.744388   \n",
       "min        1.000000      1.000000      1.000000      1.000000      1.000000   \n",
       "25%        1.000000      1.000000      1.000000      1.000000      1.000000   \n",
       "50%        1.000000      1.000000      1.000000      1.000000      1.000000   \n",
       "75%        1.000000      1.000000      1.000000      1.000000      1.000000   \n",
       "max        6.113586      6.275686      6.437786      6.599886      6.761986   \n",
       "\n",
       "                 5             6             7             8             9   \\\n",
       "count  48442.000000  48442.000000  48442.000000  48442.000000  48442.000000   \n",
       "mean       1.275495      1.306710      1.340423      1.376788      1.415944   \n",
       "std        0.789728      0.836545      0.884773      0.934307      0.985046   \n",
       "min        1.000000      1.000000      1.000000      1.000000      1.000000   \n",
       "25%        1.000000      1.000000      1.000000      1.000000      1.000000   \n",
       "50%        1.000000      1.000000      1.000000      1.000000      1.000000   \n",
       "75%        1.000000      1.000000      1.000000      1.000000      1.004125   \n",
       "max        6.924086      7.086186      7.248286      7.410386      7.572486   \n",
       "\n",
       "       ...            31            32            33            34  \\\n",
       "count  ...  48442.000000  48442.000000  48442.000000  48442.000000   \n",
       "mean   ...      3.194826      3.325022      3.459114      3.597036   \n",
       "std    ...      2.112041      2.145883      2.176857      2.204735   \n",
       "min    ...      1.000000      1.000000      1.000000      1.000000   \n",
       "25%    ...      1.260501      1.422601      1.584701      1.746801   \n",
       "50%    ...      2.691067      2.853167      3.015267      3.177367   \n",
       "75%    ...      4.570325      4.732425      4.894525      5.056625   \n",
       "max    ...     11.138686     11.300786     11.462886     11.624986   \n",
       "\n",
       "                 35            36            37            38            39  \\\n",
       "count  48442.000000  48442.000000  48442.000000  48442.000000  48442.000000   \n",
       "mean       3.738632      3.883800      4.032280      4.183553      4.337154   \n",
       "std        2.229386      2.250615      2.268428      2.283199      2.295290   \n",
       "min        1.000000      1.000000      1.000000      1.000000      1.000000   \n",
       "25%        1.908901      2.071001      2.233101      2.395201      2.557301   \n",
       "50%        3.339467      3.501567      3.663667      3.825767      3.987867   \n",
       "75%        5.218725      5.380825      5.542925      5.705025      5.867125   \n",
       "max       11.787086     11.949186     12.111286     12.273386     12.435486   \n",
       "\n",
       "                 40  \n",
       "count  48442.000000  \n",
       "mean       4.492752  \n",
       "std        2.304934  \n",
       "min        1.000000  \n",
       "25%        2.719401  \n",
       "50%        4.149967  \n",
       "75%        6.029225  \n",
       "max       12.597586  \n",
       "\n",
       "[8 rows x 41 columns]"
      ]
     },
     "execution_count": 13,
     "metadata": {},
     "output_type": "execute_result"
    }
   ],
   "source": [
    "pd.DataFrame(data[0]).describe()"
   ]
  },
  {
   "cell_type": "code",
   "execution_count": 15,
   "metadata": {
    "tags": []
   },
   "outputs": [],
   "source": []
  },
  {
   "cell_type": "code",
   "execution_count": null,
   "metadata": {},
   "outputs": [],
   "source": []
  }
 ],
 "metadata": {
  "kernelspec": {
   "display_name": "Python 3.7.7 64-bit ('fradir': conda)",
   "language": "python",
   "name": "python_defaultSpec_1598444693195"
  },
  "language_info": {
   "codemirror_mode": {
    "name": "ipython",
    "version": 3
   },
   "file_extension": ".py",
   "mimetype": "text/x-python",
   "name": "python",
   "nbconvert_exporter": "python",
   "pygments_lexer": "ipython3",
   "version": "3.7.7-final"
  }
 },
 "nbformat": 4,
 "nbformat_minor": 4
}