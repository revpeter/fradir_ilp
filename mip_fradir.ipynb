{
 "cells": [
  {
   "cell_type": "code",
   "execution_count": 1,
   "metadata": {},
   "outputs": [],
   "source": [
    "from mip import Model, xsum, maximize, BINARY, minimize, INTEGER\n",
    "import networkx as nx\n",
    "import pickle\n",
    "from itertools import product\n",
    "import numpy as np\n",
    "import pandas as pd"
   ]
  },
  {
   "cell_type": "code",
   "execution_count": 2,
   "metadata": {},
   "outputs": [],
   "source": [
    "g = nx.read_gml('networks/italy.gml', label=\"id\")\n",
    "\n",
    "g.edges # ezek a linkek, melyik tornybol melyik toronyba megy a link - ezek ugymond a linkek nevei\n",
    "\n",
    "#ez lesz a H0 vektor, nem kell vektort elég ha csak egyszerüen egy szám\n",
    "#Hnull = np.ones((len(g.edges))) * 6\n",
    "Hnull = 6\n",
    "\n",
    "# ezek a cut SLRG-k vagyis a link csoportok \n",
    "with open ('min_cut_SRLGs/italy', 'rb') as fp:\n",
    "    all_cut_srlgs = pickle.load(fp)\n",
    "\n",
    "cut_srlgs = [all_cut_srlgs[2]]\n",
    "# ezek az intezitások, l,p,m\n",
    "intensity = np.load('intensities/italy.npy')\n",
    "#data[0][0]  ez az első link első poziciohoz tartozo földrendés intenzitásai\n",
    "\n",
    "\n",
    "df = pd.read_csv('earthquake_probabilities/italy.csv')\n",
    "df.insert(loc=0, column='Epicenter', value=list(zip(df.Lat, df.Long)))\n",
    "df.set_index('Epicenter', inplace=True)\n",
    "df.drop(['Lat', 'Long'], axis=1, inplace=True)\n",
    "\n",
    "prob_matrix = df.to_numpy()\n",
    "\n",
    "epicenters = df.index.to_numpy()\n",
    "magnitudes = df.columns.to_numpy()\n",
    "\n",
    "# ez ezeknek a hossza\n",
    "L = len(g.edges)\n",
    "P = len(epicenters)\n",
    "M = len(magnitudes)\n",
    "S = len(cut_srlgs)\n",
    "\n",
    "# treschold cons 3-hoz\n",
    "T = 0.01\n",
    "\n",
    "##\n",
    "cost = 1"
   ]
  },
  {
   "cell_type": "code",
   "execution_count": 3,
   "metadata": {},
   "outputs": [],
   "source": [
    "a = intensity[14]\n",
    "b = intensity[18]\n",
    "c = intensity[26]\n",
    "\n",
    "columns = ((a>6) & (b>6) & (c>6)).any(axis=0)\n",
    "rows = ((a>6) & (b>6) & (c>6)).any(axis=1)\n",
    "\n",
    "intensity = intensity[:,:,columns][:,rows]\n",
    "prob_matrix = prob_matrix[:,columns][rows]\n",
    "\n",
    "P,M = prob_matrix.shape\n",
    "\n",
    "epicenters = range(P)\n",
    "magnitudes = range(M)\n",
    "\n",
    "\n"
   ]
  },
  {
   "cell_type": "code",
   "execution_count": 4,
   "metadata": {},
   "outputs": [
    {
     "output_type": "execute_result",
     "data": {
      "text/plain": "(35, 8889, 21)"
     },
     "metadata": {},
     "execution_count": 4
    }
   ],
   "source": [
    "intensity.shape"
   ]
  },
  {
   "cell_type": "code",
   "execution_count": 4,
   "metadata": {
    "tags": []
   },
   "outputs": [
    {
     "output_type": "stream",
     "name": "stderr",
     "text": "gurobi version 9.0 found\nDec varok megvannak\nObjective is megvan\n0\n1\n2\n3\n4\n5\n6\n7\n8\n9\n10\n11\n12\n13\n14\n15\n16\n17\n18\n19\n20\n21\n22\n23\n24\n25\n26\n27\n28\n29\n30\n31\n32\n33\n34\ncons1 megvan\ncons2 megvan\n"
    },
    {
     "output_type": "error",
     "ename": "DeprecationWarning",
     "evalue": "Inplace operations are deprecated",
     "traceback": [
      "\u001b[0;31m---------------------------------------------------------------------------\u001b[0m",
      "\u001b[0;31mDeprecationWarning\u001b[0m                        Traceback (most recent call last)",
      "\u001b[0;32m<ipython-input-4-57aba9af0bf8>\u001b[0m in \u001b[0;36m<module>\u001b[0;34m\u001b[0m\n\u001b[1;32m     24\u001b[0m \u001b[0;31m#cons3\u001b[0m\u001b[0;34m\u001b[0m\u001b[0;34m\u001b[0m\u001b[0;34m\u001b[0m\u001b[0m\n\u001b[1;32m     25\u001b[0m \u001b[0;32mfor\u001b[0m \u001b[0mc\u001b[0m\u001b[0;34m,\u001b[0m\u001b[0ms\u001b[0m \u001b[0;32min\u001b[0m \u001b[0menumerate\u001b[0m\u001b[0;34m(\u001b[0m\u001b[0mcut_srlgs\u001b[0m\u001b[0;34m)\u001b[0m\u001b[0;34m:\u001b[0m\u001b[0;34m\u001b[0m\u001b[0;34m\u001b[0m\u001b[0m\n\u001b[0;32m---> 26\u001b[0;31m     \u001b[0mm\u001b[0m \u001b[0;34m+=\u001b[0m \u001b[0mxsum\u001b[0m\u001b[0;34m(\u001b[0m\u001b[0mprob_matrix\u001b[0m\u001b[0;34m[\u001b[0m\u001b[0mp\u001b[0m\u001b[0;34m,\u001b[0m\u001b[0mm\u001b[0m\u001b[0;34m]\u001b[0m \u001b[0;34m*\u001b[0m \u001b[0mZ\u001b[0m\u001b[0;34m[\u001b[0m\u001b[0mc\u001b[0m\u001b[0;34m*\u001b[0m\u001b[0mP\u001b[0m\u001b[0;34m*\u001b[0m\u001b[0mM\u001b[0m\u001b[0;34m+\u001b[0m\u001b[0mp\u001b[0m\u001b[0;34m*\u001b[0m\u001b[0mM\u001b[0m\u001b[0;34m+\u001b[0m\u001b[0mm\u001b[0m\u001b[0;34m]\u001b[0m \u001b[0;32mfor\u001b[0m \u001b[0mp\u001b[0m\u001b[0;34m,\u001b[0m\u001b[0m_\u001b[0m \u001b[0;32min\u001b[0m \u001b[0menumerate\u001b[0m\u001b[0;34m(\u001b[0m\u001b[0mepicenters\u001b[0m\u001b[0;34m)\u001b[0m \u001b[0;32mfor\u001b[0m \u001b[0mm\u001b[0m\u001b[0;34m,\u001b[0m\u001b[0m_\u001b[0m \u001b[0;32min\u001b[0m \u001b[0menumerate\u001b[0m\u001b[0;34m(\u001b[0m\u001b[0mmagnitudes\u001b[0m\u001b[0;34m)\u001b[0m\u001b[0;34m)\u001b[0m \u001b[0;34m<=\u001b[0m \u001b[0mT\u001b[0m\u001b[0;34m\u001b[0m\u001b[0;34m\u001b[0m\u001b[0m\n\u001b[0m\u001b[1;32m     27\u001b[0m \u001b[0mprint\u001b[0m\u001b[0;34m(\u001b[0m\u001b[0;34m\"cons3 megvan\"\u001b[0m\u001b[0;34m)\u001b[0m\u001b[0;34m\u001b[0m\u001b[0;34m\u001b[0m\u001b[0m\n\u001b[1;32m     28\u001b[0m \u001b[0mm\u001b[0m\u001b[0;34m.\u001b[0m\u001b[0moptimize\u001b[0m\u001b[0;34m(\u001b[0m\u001b[0;34m)\u001b[0m\u001b[0;34m\u001b[0m\u001b[0;34m\u001b[0m\u001b[0m\n",
      "\u001b[0;32m~/anaconda3/lib/python3.7/site-packages/mip/entities.py\u001b[0m in \u001b[0;36m__iadd__\u001b[0;34m(self, other)\u001b[0m\n\u001b[1;32m    114\u001b[0m         \u001b[0mself\u001b[0m\u001b[0;34m,\u001b[0m \u001b[0mother\u001b[0m\u001b[0;34m:\u001b[0m \u001b[0mUnion\u001b[0m\u001b[0;34m[\u001b[0m\u001b[0;34m\"mip.Var\"\u001b[0m\u001b[0;34m,\u001b[0m \u001b[0;34m\"mip.LinExpr\"\u001b[0m\u001b[0;34m,\u001b[0m \u001b[0mnumbers\u001b[0m\u001b[0;34m.\u001b[0m\u001b[0mReal\u001b[0m\u001b[0;34m]\u001b[0m\u001b[0;34m,\u001b[0m\u001b[0;34m\u001b[0m\u001b[0;34m\u001b[0m\u001b[0m\n\u001b[1;32m    115\u001b[0m     ) -> \"mip.LinExpr\":\n\u001b[0;32m--> 116\u001b[0;31m         \u001b[0;32mraise\u001b[0m \u001b[0mDeprecationWarning\u001b[0m\u001b[0;34m(\u001b[0m\u001b[0;34m\"Inplace operations are deprecated\"\u001b[0m\u001b[0;34m)\u001b[0m\u001b[0;34m\u001b[0m\u001b[0;34m\u001b[0m\u001b[0m\n\u001b[0m\u001b[1;32m    117\u001b[0m \u001b[0;34m\u001b[0m\u001b[0m\n\u001b[1;32m    118\u001b[0m     def __sub__(\n",
      "\u001b[0;31mDeprecationWarning\u001b[0m: Inplace operations are deprecated"
     ]
    }
   ],
   "source": [
    "m = Model(\"fradir\")\n",
    "\n",
    "#decision variable\n",
    "deltaH = [m.add_var(var_type=INTEGER, lb=0, ub=6) for l,_ in enumerate(g.edges)] # 0 tol 6 ig terjedhet, csak integer lehet \n",
    "Z = [m.add_var(var_type=BINARY) for z in range(S* P * M)]\n",
    "Y = [m.add_var(var_type=BINARY) for y in  range(L* P * M)]\n",
    "print(\"Dec varok megvannak\")\n",
    "\n",
    "#objective\n",
    "m.objective = minimize(xsum(cost * deltaH[l] for l,_ in enumerate(g.edges)))\n",
    "print(\"Objective is megvan\")\n",
    "\n",
    "#cons1\n",
    "for l,_ in enumerate(g.edges):\n",
    "    m += xsum( intensity[l,p,m] * Y[l*P*M+p*M+m] for p,_ in enumerate(epicenters) for m,_ in enumerate(magnitudes)) >= (Hnull + deltaH[l])\n",
    "    print(l)\n",
    "print(\"cons1 megvan\")\n",
    "\n",
    "#cons2\n",
    "for (c,s), (p,_), (m,_) in product(*[enumerate(cut_srlgs), enumerate(epicenters),enumerate(magnitudes)]):\n",
    "    m += len(s) * Z[c*P*M+p*M+m] == xsum(Y[list(g.edges).index(linkID)*P*M+p*M+m] for linkID in s)\n",
    "print(\"cons2 megvan\")\n",
    "\n",
    "#cons3\n",
    "for c,s in enumerate(cut_srlgs):\n",
    "    m += xsum( Z[c*P*M+p*M+m] * prob_matrix[p,m] for p,_ in enumerate(epicenters) for m,_ in enumerate(magnitudes) ) <= T\n",
    "print(\"cons3 megvan\")\n",
    "m.optimize()\n",
    "\n",
    "selected = [deltaH[l] for l,_ in enumerate(g.edges) if deltaH[l] >= 0.99]\n",
    "print(\"selected items: {}\".format(selected))"
   ]
  },
  {
   "cell_type": "code",
   "execution_count": 41,
   "metadata": {},
   "outputs": [
    {
     "output_type": "error",
     "ename": "SyntaxError",
     "evalue": "invalid syntax (<ipython-input-41-56f4a8a715ed>, line 1)",
     "traceback": [
      "\u001b[1;36m  File \u001b[1;32m\"<ipython-input-41-56f4a8a715ed>\"\u001b[1;36m, line \u001b[1;32m1\u001b[0m\n\u001b[1;33m    for M,_ in enumerate(magnitudes[:2]:\u001b[0m\n\u001b[1;37m                                       ^\u001b[0m\n\u001b[1;31mSyntaxError\u001b[0m\u001b[1;31m:\u001b[0m invalid syntax\n"
     ]
    }
   ],
   "source": [
    "Y = [m.add_var(var_type=BINARY) for l,_ in enumerate(g.edges) for p,_ in enumerate(epicenters[:2]) for M,_ in enumerate(magnitudes[:2])]\n",
    "\n",
    "\n"
   ]
  },
  {
   "cell_type": "markdown",
   "metadata": {},
   "source": [
    "# ---------------------------------------------------------------"
   ]
  },
  {
   "cell_type": "code",
   "execution_count": 7,
   "metadata": {},
   "outputs": [],
   "source": [
    "def ff(a,b):\n",
    "    return a*2 + b**2"
   ]
  },
  {
   "cell_type": "code",
   "execution_count": 14,
   "metadata": {
    "tags": []
   },
   "outputs": [
    {
     "output_type": "stream",
     "name": "stdout",
     "text": "selected items: [3, 6]\n"
    }
   ],
   "source": [
    "#koltseg =  [11, 3,3, 6, 1, 9, 16,78]\n",
    "koltseg = 8\n",
    "fejlesztes = [17,6,4,61,16,42,156, 7]\n",
    "\n",
    "y = [1,1,0,1,0,1,0,0]\n",
    "z = [0,1,1,1,0,1,0,1]\n",
    "\n",
    "items = len(fejlesztes)\n",
    "\n",
    "m = Model(\"fradir\")\n",
    "\n",
    "#decision variable\n",
    "x = [m.add_var(var_type=BINARY) for i in range(items)]\n",
    "fejlesztes_Dvar = [m.add_var(var_type=INTEGER, lb=1, ub=6) for i in range(items)]\n",
    "\n",
    "#objective\n",
    "m.objective = maximize(xsum(koltseg * fejlesztes[i] * x[i] for i in range(items)))\n",
    "\n",
    "#cons\n",
    "#m += xsum(y[i] * x[i] for i in range(items)) >= 2\n",
    "\n",
    "#m += xsum(z[i] * x[i] for i in range(items)) >= 2\n",
    "\n",
    "#m += xsum(((y[i] + z[i]) % 2) * x[i]  for i in range(items)) == 0\n",
    "\n",
    "for i in range(items):\n",
    "    m += 10 * x[i] <= fejlesztes[i]\n",
    "\n",
    "#m += xsum(( fejlesztes[i] * x[i]  for i in range(items))) <= 14\n",
    "\n",
    "m += xsum(x[i] for i in range(items)) == 2\n",
    "\n",
    "\n",
    "m.optimize()\n",
    "\n",
    "selected = [i for i in range(items) if x[i].x >= 0.99]\n",
    "print(\"selected items: {}\".format(selected))"
   ]
  },
  {
   "cell_type": "code",
   "execution_count": 14,
   "metadata": {
    "tags": []
   },
   "outputs": [
    {
     "output_type": "execute_result",
     "data": {
      "text/plain": "22"
     },
     "metadata": {},
     "execution_count": 14
    }
   ],
   "source": [
    "ff(3,4)"
   ]
  },
  {
   "cell_type": "markdown",
   "metadata": {},
   "source": [
    "# GEKKO"
   ]
  },
  {
   "cell_type": "code",
   "execution_count": 6,
   "metadata": {},
   "outputs": [],
   "source": [
    "import random\n",
    "from gekko import GEKKO\n",
    "import numpy as np"
   ]
  },
  {
   "cell_type": "code",
   "execution_count": 7,
   "metadata": {
    "tags": []
   },
   "outputs": [
    {
     "output_type": "stream",
     "name": "stdout",
     "text": "[[0.0] [0.0] [0.0] [0.0] [0.0] [0.0] [1.0] [0.0]]\nSorszam: 6., koltseg: 16, fejlesztes: 6.0\n"
    }
   ],
   "source": [
    "koltseg =  [11, 3,3, 6, 1, 9, 16,78]\n",
    "fejlesztes = [17,67,4,61,16,42,156, 7]\n",
    "\n",
    "y = [1,0,1,1,0,1,1,0]\n",
    "z = [0,1,1,1,0,1,1,1]\n",
    "\n",
    "prob = [0.5, 1.2, 1.5, 1.7, 0.1, 1.8, 0.4, 1.9]\n",
    "\n",
    "items = len(koltseg)\n",
    "\n",
    "# Create model\n",
    "m = GEKKO()\n",
    "\n",
    "# Variables\n",
    "x = m.Array(m.Var,items,lb=0,ub=1,integer=True)\n",
    "fejlesztes_Dvar = m.Array(m.Var, items, lb=1,ub=6, integer=True)\n",
    "b = m.Array(m.Var, items, lb=1,ub=8, integer=True)\n",
    "#x2 = m.Array(m.Var, len(w),lb=0,ub=1,integer = True)\n",
    "\n",
    "# Objective\n",
    "m.Maximize(sum(koltseg[i] * fejlesztes_Dvar[i] * x[i] for i in range(items) ))\n",
    "\n",
    "# Constraint\n",
    "m.Equation(sum([(y[i] + z[i]) * x[i] for i in range(items)]) == 2)\n",
    "\n",
    "m.Equation(sum([x[i] for i in range(items)]) == 1)\n",
    "\n",
    "m.Equation(sum((z[i] * prob[i]) *x[i] for i in range(items)) <=1.6 )\n",
    "\n",
    "# Optimize with APOPT\n",
    "m.options.SOLVER = 1\n",
    "\n",
    "m.solve(disp = False)\n",
    "\n",
    "# Print the value of the variables at the optimum\n",
    "print(x)\n",
    "for i in range(len(x)):\n",
    "    if x[i][0] == 1.0:\n",
    "        print(\"Sorszam: {}., koltseg: {}, fejlesztes: {}\".format(i,koltseg[i], fejlesztes_Dvar[i][0]))"
   ]
  },
  {
   "cell_type": "code",
   "execution_count": 8,
   "metadata": {},
   "outputs": [],
   "source": []
  },
  {
   "cell_type": "code",
   "execution_count": 2,
   "metadata": {},
   "outputs": [],
   "source": [
    "data = np.load('italy.npy')"
   ]
  },
  {
   "cell_type": "code",
   "execution_count": 13,
   "metadata": {},
   "outputs": [
    {
     "output_type": "execute_result",
     "data": {
      "text/plain": "                 0             1             2             3             4   \\\ncount  48442.000000  48442.000000  48442.000000  48442.000000  48442.000000   \nmean       1.154713      1.174508      1.196344      1.220365      1.246715   \nstd        0.578387      0.617518      0.658248      0.700550      0.744388   \nmin        1.000000      1.000000      1.000000      1.000000      1.000000   \n25%        1.000000      1.000000      1.000000      1.000000      1.000000   \n50%        1.000000      1.000000      1.000000      1.000000      1.000000   \n75%        1.000000      1.000000      1.000000      1.000000      1.000000   \nmax        6.113586      6.275686      6.437786      6.599886      6.761986   \n\n                 5             6             7             8             9   \\\ncount  48442.000000  48442.000000  48442.000000  48442.000000  48442.000000   \nmean       1.275495      1.306710      1.340423      1.376788      1.415944   \nstd        0.789728      0.836545      0.884773      0.934307      0.985046   \nmin        1.000000      1.000000      1.000000      1.000000      1.000000   \n25%        1.000000      1.000000      1.000000      1.000000      1.000000   \n50%        1.000000      1.000000      1.000000      1.000000      1.000000   \n75%        1.000000      1.000000      1.000000      1.000000      1.004125   \nmax        6.924086      7.086186      7.248286      7.410386      7.572486   \n\n       ...            31            32            33            34  \\\ncount  ...  48442.000000  48442.000000  48442.000000  48442.000000   \nmean   ...      3.194826      3.325022      3.459114      3.597036   \nstd    ...      2.112041      2.145883      2.176857      2.204735   \nmin    ...      1.000000      1.000000      1.000000      1.000000   \n25%    ...      1.260501      1.422601      1.584701      1.746801   \n50%    ...      2.691067      2.853167      3.015267      3.177367   \n75%    ...      4.570325      4.732425      4.894525      5.056625   \nmax    ...     11.138686     11.300786     11.462886     11.624986   \n\n                 35            36            37            38            39  \\\ncount  48442.000000  48442.000000  48442.000000  48442.000000  48442.000000   \nmean       3.738632      3.883800      4.032280      4.183553      4.337154   \nstd        2.229386      2.250615      2.268428      2.283199      2.295290   \nmin        1.000000      1.000000      1.000000      1.000000      1.000000   \n25%        1.908901      2.071001      2.233101      2.395201      2.557301   \n50%        3.339467      3.501567      3.663667      3.825767      3.987867   \n75%        5.218725      5.380825      5.542925      5.705025      5.867125   \nmax       11.787086     11.949186     12.111286     12.273386     12.435486   \n\n                 40  \ncount  48442.000000  \nmean       4.492752  \nstd        2.304934  \nmin        1.000000  \n25%        2.719401  \n50%        4.149967  \n75%        6.029225  \nmax       12.597586  \n\n[8 rows x 41 columns]",
      "text/html": "<div>\n<style scoped>\n    .dataframe tbody tr th:only-of-type {\n        vertical-align: middle;\n    }\n\n    .dataframe tbody tr th {\n        vertical-align: top;\n    }\n\n    .dataframe thead th {\n        text-align: right;\n    }\n</style>\n<table border=\"1\" class=\"dataframe\">\n  <thead>\n    <tr style=\"text-align: right;\">\n      <th></th>\n      <th>0</th>\n      <th>1</th>\n      <th>2</th>\n      <th>3</th>\n      <th>4</th>\n      <th>5</th>\n      <th>6</th>\n      <th>7</th>\n      <th>8</th>\n      <th>9</th>\n      <th>...</th>\n      <th>31</th>\n      <th>32</th>\n      <th>33</th>\n      <th>34</th>\n      <th>35</th>\n      <th>36</th>\n      <th>37</th>\n      <th>38</th>\n      <th>39</th>\n      <th>40</th>\n    </tr>\n  </thead>\n  <tbody>\n    <tr>\n      <th>count</th>\n      <td>48442.000000</td>\n      <td>48442.000000</td>\n      <td>48442.000000</td>\n      <td>48442.000000</td>\n      <td>48442.000000</td>\n      <td>48442.000000</td>\n      <td>48442.000000</td>\n      <td>48442.000000</td>\n      <td>48442.000000</td>\n      <td>48442.000000</td>\n      <td>...</td>\n      <td>48442.000000</td>\n      <td>48442.000000</td>\n      <td>48442.000000</td>\n      <td>48442.000000</td>\n      <td>48442.000000</td>\n      <td>48442.000000</td>\n      <td>48442.000000</td>\n      <td>48442.000000</td>\n      <td>48442.000000</td>\n      <td>48442.000000</td>\n    </tr>\n    <tr>\n      <th>mean</th>\n      <td>1.154713</td>\n      <td>1.174508</td>\n      <td>1.196344</td>\n      <td>1.220365</td>\n      <td>1.246715</td>\n      <td>1.275495</td>\n      <td>1.306710</td>\n      <td>1.340423</td>\n      <td>1.376788</td>\n      <td>1.415944</td>\n      <td>...</td>\n      <td>3.194826</td>\n      <td>3.325022</td>\n      <td>3.459114</td>\n      <td>3.597036</td>\n      <td>3.738632</td>\n      <td>3.883800</td>\n      <td>4.032280</td>\n      <td>4.183553</td>\n      <td>4.337154</td>\n      <td>4.492752</td>\n    </tr>\n    <tr>\n      <th>std</th>\n      <td>0.578387</td>\n      <td>0.617518</td>\n      <td>0.658248</td>\n      <td>0.700550</td>\n      <td>0.744388</td>\n      <td>0.789728</td>\n      <td>0.836545</td>\n      <td>0.884773</td>\n      <td>0.934307</td>\n      <td>0.985046</td>\n      <td>...</td>\n      <td>2.112041</td>\n      <td>2.145883</td>\n      <td>2.176857</td>\n      <td>2.204735</td>\n      <td>2.229386</td>\n      <td>2.250615</td>\n      <td>2.268428</td>\n      <td>2.283199</td>\n      <td>2.295290</td>\n      <td>2.304934</td>\n    </tr>\n    <tr>\n      <th>min</th>\n      <td>1.000000</td>\n      <td>1.000000</td>\n      <td>1.000000</td>\n      <td>1.000000</td>\n      <td>1.000000</td>\n      <td>1.000000</td>\n      <td>1.000000</td>\n      <td>1.000000</td>\n      <td>1.000000</td>\n      <td>1.000000</td>\n      <td>...</td>\n      <td>1.000000</td>\n      <td>1.000000</td>\n      <td>1.000000</td>\n      <td>1.000000</td>\n      <td>1.000000</td>\n      <td>1.000000</td>\n      <td>1.000000</td>\n      <td>1.000000</td>\n      <td>1.000000</td>\n      <td>1.000000</td>\n    </tr>\n    <tr>\n      <th>25%</th>\n      <td>1.000000</td>\n      <td>1.000000</td>\n      <td>1.000000</td>\n      <td>1.000000</td>\n      <td>1.000000</td>\n      <td>1.000000</td>\n      <td>1.000000</td>\n      <td>1.000000</td>\n      <td>1.000000</td>\n      <td>1.000000</td>\n      <td>...</td>\n      <td>1.260501</td>\n      <td>1.422601</td>\n      <td>1.584701</td>\n      <td>1.746801</td>\n      <td>1.908901</td>\n      <td>2.071001</td>\n      <td>2.233101</td>\n      <td>2.395201</td>\n      <td>2.557301</td>\n      <td>2.719401</td>\n    </tr>\n    <tr>\n      <th>50%</th>\n      <td>1.000000</td>\n      <td>1.000000</td>\n      <td>1.000000</td>\n      <td>1.000000</td>\n      <td>1.000000</td>\n      <td>1.000000</td>\n      <td>1.000000</td>\n      <td>1.000000</td>\n      <td>1.000000</td>\n      <td>1.000000</td>\n      <td>...</td>\n      <td>2.691067</td>\n      <td>2.853167</td>\n      <td>3.015267</td>\n      <td>3.177367</td>\n      <td>3.339467</td>\n      <td>3.501567</td>\n      <td>3.663667</td>\n      <td>3.825767</td>\n      <td>3.987867</td>\n      <td>4.149967</td>\n    </tr>\n    <tr>\n      <th>75%</th>\n      <td>1.000000</td>\n      <td>1.000000</td>\n      <td>1.000000</td>\n      <td>1.000000</td>\n      <td>1.000000</td>\n      <td>1.000000</td>\n      <td>1.000000</td>\n      <td>1.000000</td>\n      <td>1.000000</td>\n      <td>1.004125</td>\n      <td>...</td>\n      <td>4.570325</td>\n      <td>4.732425</td>\n      <td>4.894525</td>\n      <td>5.056625</td>\n      <td>5.218725</td>\n      <td>5.380825</td>\n      <td>5.542925</td>\n      <td>5.705025</td>\n      <td>5.867125</td>\n      <td>6.029225</td>\n    </tr>\n    <tr>\n      <th>max</th>\n      <td>6.113586</td>\n      <td>6.275686</td>\n      <td>6.437786</td>\n      <td>6.599886</td>\n      <td>6.761986</td>\n      <td>6.924086</td>\n      <td>7.086186</td>\n      <td>7.248286</td>\n      <td>7.410386</td>\n      <td>7.572486</td>\n      <td>...</td>\n      <td>11.138686</td>\n      <td>11.300786</td>\n      <td>11.462886</td>\n      <td>11.624986</td>\n      <td>11.787086</td>\n      <td>11.949186</td>\n      <td>12.111286</td>\n      <td>12.273386</td>\n      <td>12.435486</td>\n      <td>12.597586</td>\n    </tr>\n  </tbody>\n</table>\n<p>8 rows × 41 columns</p>\n</div>"
     },
     "metadata": {},
     "execution_count": 13
    }
   ],
   "source": [
    "pd.DataFrame(data[0]).describe()"
   ]
  },
  {
   "cell_type": "code",
   "execution_count": 15,
   "metadata": {
    "tags": []
   },
   "outputs": [],
   "source": []
  },
  {
   "cell_type": "code",
   "execution_count": null,
   "metadata": {},
   "outputs": [],
   "source": []
  }
 ],
 "metadata": {
  "language_info": {
   "codemirror_mode": {
    "name": "ipython",
    "version": 3
   },
   "file_extension": ".py",
   "mimetype": "text/x-python",
   "name": "python",
   "nbconvert_exporter": "python",
   "pygments_lexer": "ipython3",
   "version": "3.7.6-final"
  },
  "orig_nbformat": 2,
  "kernelspec": {
   "name": "python3",
   "display_name": "Python 3"
  }
 },
 "nbformat": 4,
 "nbformat_minor": 2
}