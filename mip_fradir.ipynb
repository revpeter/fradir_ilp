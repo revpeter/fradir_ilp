{
 "cells": [
  {
   "cell_type": "code",
   "execution_count": 2,
   "metadata": {},
   "outputs": [],
   "source": [
    "from mip import Model, xsum, maximize, BINARY, minimize, INTEGER"
   ]
  },
  {
   "cell_type": "code",
   "execution_count": null,
   "metadata": {},
   "outputs": [],
   "source": [
    "m = Model(\"fradir\")\n",
    "\n",
    "#decision variable\n",
    "deltaH = [m.add_var(var_type=INTEGER) for l in all_link]\n",
    "Z = [m.add_var(var_type=BINARY) for s in all_S]\n",
    "Y = [m.add_var(var_type=BINARY) for l in all_link]\n",
    "\n",
    "#objective\n",
    "m.objective = minimize(xsum(c[l] * deltaH[l] for l in all_link))\n",
    "\n",
    "#cons1\n",
    "m += xsum(1 - ((Hnull[l] + deltaH[l]) / I) for l in all_link) <= Y[l]\n",
    "\n",
    "#cons2\n",
    "for s in all_S:\n",
    "    m += xsum(y[l]  for l in s) - len(s) + 1 <= Z[s]\n",
    "\n",
    "#cons3\n",
    "for s in all_S:\n",
    "    m += xsum(Pr[p,m] * Z[s, p, m] for p in P for m in M) <= T\n",
    "\n",
    "m.optimize()\n"
   ]
  },
  {
   "cell_type": "markdown",
   "metadata": {},
   "source": [
    "# ---------------------------------------------------------------"
   ]
  },
  {
   "cell_type": "code",
   "execution_count": 25,
   "metadata": {
    "tags": []
   },
   "outputs": [
    {
     "output_type": "stream",
     "name": "stdout",
     "text": "selected items: [2]\n"
    }
   ],
   "source": [
    "#koltseg =  [11, 3,3, 6, 1, 9, 16,78]\n",
    "koltseg = 8\n",
    "fejlesztes = [17,67,4,61,16,42,156, 7]\n",
    "\n",
    "y = [1,0,1,1,0,1,0,0]\n",
    "z = [0,1,1,1,0,1,0,1]\n",
    "\n",
    "items = len(fejlesztes)\n",
    "\n",
    "m = Model(\"fradir\")\n",
    "\n",
    "#decision variable\n",
    "x = [m.add_var(var_type=BINARY) for i in range(items)]\n",
    "fejlesztes_Dvar = [m.add_var(var_type=INTEGER, lb=1, ub=6) for i in range(items)]\n",
    "\n",
    "#objective\n",
    "m.objective = minimize(xsum(koltseg * fejlesztes[i] * x[i] for i in range(items)))\n",
    "\n",
    "#cons\n",
    "m += xsum(y[i] * x[i] for i in range(items)) == 1\n",
    "\n",
    "m += xsum(z[i] * x[i] for i in range(items)) == 1\n",
    "\n",
    "#m += xsum((y[i] + z[i]) * x[i] for i in range(items)) == 2\n",
    "\n",
    "#m += xsum(x[i] for i in range(items)) == 1\n",
    "\n",
    "\n",
    "m.optimize()\n",
    "\n",
    "selected = [i for i in range(items) if x[i].x >= 0.99]\n",
    "print(\"selected items: {}\".format(selected))"
   ]
  },
  {
   "cell_type": "markdown",
   "metadata": {},
   "source": [
    "# GEKKO"
   ]
  },
  {
   "cell_type": "code",
   "execution_count": 26,
   "metadata": {},
   "outputs": [],
   "source": [
    "import random\n",
    "from gekko import GEKKO\n",
    "import numpy as np"
   ]
  },
  {
   "cell_type": "code",
   "execution_count": 27,
   "metadata": {
    "tags": []
   },
   "outputs": [
    {
     "output_type": "stream",
     "name": "stdout",
     "text": "[[0.0] [0.0] [0.0] [0.0] [0.0] [0.0] [1.0] [0.0]]\nSorszam: 6., koltseg: 16, fejlesztes: 6.0\n"
    }
   ],
   "source": [
    "koltseg =  [11, 3,3, 6, 1, 9, 16,78]\n",
    "fejlesztes = [17,67,4,61,16,42,156, 7]\n",
    "\n",
    "y = [1,0,1,1,0,1,1,0]\n",
    "z = [0,1,1,1,0,1,1,1]\n",
    "\n",
    "prob = [0.5, 1.2, 1.5, 1.7, 0.1, 1.8, 0.4, 1.9]\n",
    "\n",
    "items = len(koltseg)\n",
    "\n",
    "# Create model\n",
    "m = GEKKO()\n",
    "\n",
    "# Variables\n",
    "x = m.Array(m.Var,items,lb=0,ub=1,integer=True)\n",
    "fejlesztes_Dvar = m.Array(m.Var, items, lb=1,ub=6, integer=True)\n",
    "#x2 = m.Array(m.Var, len(w),lb=0,ub=1,integer = True)\n",
    "\n",
    "# Objective\n",
    "m.Maximize(sum(koltseg[i] * fejlesztes_Dvar[i] * x[i] for i in range(items) ))\n",
    "\n",
    "# Constraint\n",
    "m.Equation(sum([(y[i] + z[i]) * x[i] for i in range(items)]) == 2)\n",
    "\n",
    "m.Equation(sum([x[i] for i in range(items)]) == 1)\n",
    "\n",
    "m.Equation(sum((z[i] * prob[i]) *x[i] for i in range(items)) <=1.6 )\n",
    "\n",
    "# Optimize with APOPT\n",
    "m.options.SOLVER = 1\n",
    "\n",
    "m.solve(disp = False)\n",
    "\n",
    "# Print the value of the variables at the optimum\n",
    "print(x)\n",
    "for i in range(len(x)):\n",
    "    if x[i][0] == 1.0:\n",
    "        print(\"Sorszam: {}., koltseg: {}, fejlesztes: {}\".format(i,koltseg[i], fejlesztes_Dvar[i][0]))"
   ]
  },
  {
   "cell_type": "code",
   "execution_count": null,
   "metadata": {},
   "outputs": [],
   "source": []
  }
 ],
 "metadata": {
  "language_info": {
   "codemirror_mode": {
    "name": "ipython",
    "version": 3
   },
   "file_extension": ".py",
   "mimetype": "text/x-python",
   "name": "python",
   "nbconvert_exporter": "python",
   "pygments_lexer": "ipython3",
   "version": 3
  },
  "orig_nbformat": 2,
  "kernelspec": {
   "name": "python_defaultSpec_1594968141139",
   "display_name": "Python 3.7.6 64-bit ('base': conda)"
  }
 },
 "nbformat": 4,
 "nbformat_minor": 2
}