{
 "cells": [
  {
   "cell_type": "code",
   "execution_count": 1,
   "metadata": {},
   "outputs": [],
   "source": [
    "from mip import Model, xsum, maximize, BINARY, minimize, INTEGER"
   ]
  },
  {
   "cell_type": "code",
   "execution_count": null,
   "metadata": {},
   "outputs": [],
   "source": [
    "m = Model(\"fradir\")\n",
    "\n",
    "#decision variable\n",
    "deltaH = [m.add_var(var_type=INTEGER) for l in all_link]\n",
    "Z = [m.add_var(var_type=BINARY) for s in all_S]\n",
    "Y = [m.add_var(var_type=BINARY) for l in all_link]\n",
    "\n",
    "#objective\n",
    "m.objective = minimize(xsum(c[l] * deltaH[l] for l in all_link))\n",
    "\n",
    "#cons1\n",
    "for s in all_S:\n",
    "    m += xsum(y[i] - len(s) + 1 for i in s) <= Z[s]\n",
    "\n",
    "#cons2\n",
    "for s in all_S:\n",
    "    m += xsum(Pr[p,m] * Z[s, p, m] for p in P for m in M)\n",
    "\n",
    "m.optimize()\n"
   ]
  },
  {
   "cell_type": "code",
   "execution_count": 1,
   "metadata": {},
   "outputs": [
    {
     "output_type": "error",
     "ename": "NameError",
     "evalue": "name 'sadsa' is not defined",
     "traceback": [
      "\u001b[1;31m---------------------------------------------------------------------------\u001b[0m",
      "\u001b[1;31mNameError\u001b[0m                                 Traceback (most recent call last)",
      "\u001b[1;32m<ipython-input-1-bf574986f750>\u001b[0m in \u001b[0;36m<module>\u001b[1;34m\u001b[0m\n\u001b[1;32m----> 1\u001b[1;33m \u001b[0msadsa\u001b[0m\u001b[1;33m\u001b[0m\u001b[1;33m\u001b[0m\u001b[0m\n\u001b[0m",
      "\u001b[1;31mNameError\u001b[0m: name 'sadsa' is not defined"
     ]
    }
   ],
   "source": [
    "sadsa"
   ]
  },
  {
   "cell_type": "code",
   "execution_count": null,
   "metadata": {},
   "outputs": [],
   "source": [
    "sddsdsa"
   ]
  }
 ],
 "metadata": {
  "language_info": {
   "codemirror_mode": {
    "name": "ipython",
    "version": 3
   },
   "file_extension": ".py",
   "mimetype": "text/x-python",
   "name": "python",
   "nbconvert_exporter": "python",
   "pygments_lexer": "ipython3",
   "version": 3
  },
  "orig_nbformat": 2,
  "kernelspec": {
   "name": "python_defaultSpec_1594899967106",
   "display_name": "Python 3.7.6 64-bit ('base': conda)"
  }
 },
 "nbformat": 4,
 "nbformat_minor": 2
}